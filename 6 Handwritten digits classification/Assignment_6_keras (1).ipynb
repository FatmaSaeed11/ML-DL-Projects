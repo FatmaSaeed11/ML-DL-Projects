{
  "nbformat": 4,
  "nbformat_minor": 0,
  "metadata": {
    "colab": {
      "provenance": []
    },
    "kernelspec": {
      "name": "python3",
      "display_name": "Python 3"
    },
    "language_info": {
      "name": "python"
    }
  },
  "cells": [
    {
      "cell_type": "markdown",
      "source": [
        "deep neural network classification"
      ],
      "metadata": {
        "id": "YC7eezATTi5L"
      }
    },
    {
      "cell_type": "markdown",
      "source": [
        "import important libraries"
      ],
      "metadata": {
        "id": "_BMi_Hma6e_A"
      }
    },
    {
      "cell_type": "code",
      "execution_count": 1,
      "metadata": {
        "id": "q2VnQEF-TbiP"
      },
      "outputs": [],
      "source": [
        "import numpy as np\n",
        "import matplotlib as plt\n",
        "import pandas as pd\n",
        "import tensorflow as tf\n",
        "import math\n",
        "\n",
        "from tensorflow import keras\n",
        "from keras.utils import normalize,to_categorical\n",
        "from tensorflow.keras.layers import Flatten,Dense\n",
        "from sklearn.model_selection import train_test_split\n",
        "\n",
        "from sklearn.metrics import accuracy_score, precision_score, recall_score, f1_score,classification_report"
      ]
    },
    {
      "cell_type": "markdown",
      "source": [
        "load dataset"
      ],
      "metadata": {
        "id": "z8Hpsf4t6iQd"
      }
    },
    {
      "cell_type": "code",
      "source": [
        "x_train=pd.read_csv('/content/optdigits.tra')"
      ],
      "metadata": {
        "id": "F8sWwdWqHoW5"
      },
      "execution_count": 4,
      "outputs": []
    },
    {
      "cell_type": "markdown",
      "source": [
        "split dataset"
      ],
      "metadata": {
        "id": "rxPMzoJ16kIc"
      }
    },
    {
      "cell_type": "code",
      "source": [
        "x=x_train.iloc[:,:-1].values\n",
        "y=x_train.iloc[:,-1].values"
      ],
      "metadata": {
        "id": "U9-WxY37AMXj"
      },
      "execution_count": 5,
      "outputs": []
    },
    {
      "cell_type": "markdown",
      "source": [
        "one hot encoding"
      ],
      "metadata": {
        "id": "2-5uQBvq6oND"
      }
    },
    {
      "cell_type": "code",
      "source": [
        "y_train=to_categorical(y)"
      ],
      "metadata": {
        "id": "AEkxWKG4JYbo"
      },
      "execution_count": 6,
      "outputs": []
    },
    {
      "cell_type": "code",
      "source": [
        "print(y)"
      ],
      "metadata": {
        "colab": {
          "base_uri": "https://localhost:8080/"
        },
        "id": "jH4rBfvkJuNB",
        "outputId": "b4f785c6-0cae-4230-9035-fbcb9923a456"
      },
      "execution_count": 7,
      "outputs": [
        {
          "output_type": "stream",
          "name": "stdout",
          "text": [
            "[0 7 4 ... 6 6 7]\n"
          ]
        }
      ]
    },
    {
      "cell_type": "code",
      "source": [
        "print(y_train)"
      ],
      "metadata": {
        "colab": {
          "base_uri": "https://localhost:8080/"
        },
        "id": "yxUGNn0iJoCI",
        "outputId": "fca39cbe-a63a-4309-bce1-56ae59557855"
      },
      "execution_count": 8,
      "outputs": [
        {
          "output_type": "stream",
          "name": "stdout",
          "text": [
            "[[1. 0. 0. ... 0. 0. 0.]\n",
            " [0. 0. 0. ... 1. 0. 0.]\n",
            " [0. 0. 0. ... 0. 0. 0.]\n",
            " ...\n",
            " [0. 0. 0. ... 0. 0. 0.]\n",
            " [0. 0. 0. ... 0. 0. 0.]\n",
            " [0. 0. 0. ... 1. 0. 0.]]\n"
          ]
        }
      ]
    },
    {
      "cell_type": "markdown",
      "source": [
        "train test split"
      ],
      "metadata": {
        "id": "2PiFCy2j6rmX"
      }
    },
    {
      "cell_type": "code",
      "source": [
        "x_train, x_test, y_train, y_test = train_test_split(x, y, test_size=0.2, random_state=42)"
      ],
      "metadata": {
        "id": "3UFssGmcJn8t"
      },
      "execution_count": 9,
      "outputs": []
    },
    {
      "cell_type": "markdown",
      "source": [
        "to catigorical to convert class to binary class"
      ],
      "metadata": {
        "id": "STlCm5XG6uXg"
      }
    },
    {
      "cell_type": "code",
      "source": [
        "nb_classes = 10\n",
        "\n",
        "y_train = to_categorical(y_train, nb_classes)\n",
        "y_test = to_categorical(y_test, nb_classes)"
      ],
      "metadata": {
        "id": "dgP51mJKPt8A"
      },
      "execution_count": 10,
      "outputs": []
    },
    {
      "cell_type": "markdown",
      "source": [
        "build our model"
      ],
      "metadata": {
        "id": "flmXvtm67hLc"
      }
    },
    {
      "cell_type": "code",
      "source": [
        "model = tf.keras.Sequential()\n",
        "model.add(Dense(128, input_shape=(64,), activation='relu'))\n",
        "model.add(Dense(128, activation='relu'))\n",
        "model.add(Dense(128, activation='relu'))\n",
        "model.add(Dense(10, activation = \"softmax\"))\n",
        "opt = tf.keras.optimizers.Adam(learning_rate=1e-2)\n",
        "\n"
      ],
      "metadata": {
        "id": "kcMkXoGTPA11"
      },
      "execution_count": 11,
      "outputs": []
    },
    {
      "cell_type": "markdown",
      "source": [
        "compile model"
      ],
      "metadata": {
        "id": "jiKO6IoX7kW8"
      }
    },
    {
      "cell_type": "code",
      "source": [
        "model.compile(optimizer = opt, loss = 'categorical_crossentropy', metrics=['acc'])"
      ],
      "metadata": {
        "id": "TNCKh8H3Ut0h"
      },
      "execution_count": 12,
      "outputs": []
    },
    {
      "cell_type": "markdown",
      "source": [
        "fit model"
      ],
      "metadata": {
        "id": "syn3tUe-7me9"
      }
    },
    {
      "cell_type": "code",
      "source": [
        "history = model.fit(x_train,y_train, epochs=50, batch_size=128, validation_split = 0.2)"
      ],
      "metadata": {
        "colab": {
          "base_uri": "https://localhost:8080/"
        },
        "id": "TuU_Yjs9UpLF",
        "outputId": "eb0cbd9d-b3c3-4cb4-dc65-d34fcec4643c"
      },
      "execution_count": 13,
      "outputs": [
        {
          "output_type": "stream",
          "name": "stdout",
          "text": [
            "Epoch 1/50\n",
            "20/20 [==============================] - 1s 16ms/step - loss: 1.5854 - acc: 0.6429 - val_loss: 0.4270 - val_acc: 0.8889\n",
            "Epoch 2/50\n",
            "20/20 [==============================] - 0s 6ms/step - loss: 0.2711 - acc: 0.9219 - val_loss: 0.2397 - val_acc: 0.9297\n",
            "Epoch 3/50\n",
            "20/20 [==============================] - 0s 6ms/step - loss: 0.1506 - acc: 0.9542 - val_loss: 0.1955 - val_acc: 0.9477\n",
            "Epoch 4/50\n",
            "20/20 [==============================] - 0s 5ms/step - loss: 0.0994 - acc: 0.9693 - val_loss: 0.1249 - val_acc: 0.9739\n",
            "Epoch 5/50\n",
            "20/20 [==============================] - 0s 5ms/step - loss: 0.0502 - acc: 0.9853 - val_loss: 0.1210 - val_acc: 0.9673\n",
            "Epoch 6/50\n",
            "20/20 [==============================] - 0s 6ms/step - loss: 0.0453 - acc: 0.9849 - val_loss: 0.1187 - val_acc: 0.9739\n",
            "Epoch 7/50\n",
            "20/20 [==============================] - 0s 6ms/step - loss: 0.0456 - acc: 0.9845 - val_loss: 0.1109 - val_acc: 0.9739\n",
            "Epoch 8/50\n",
            "20/20 [==============================] - 0s 5ms/step - loss: 0.0641 - acc: 0.9779 - val_loss: 0.1160 - val_acc: 0.9641\n",
            "Epoch 9/50\n",
            "20/20 [==============================] - 0s 6ms/step - loss: 0.0811 - acc: 0.9771 - val_loss: 0.1900 - val_acc: 0.9477\n",
            "Epoch 10/50\n",
            "20/20 [==============================] - 0s 5ms/step - loss: 0.0789 - acc: 0.9726 - val_loss: 0.1804 - val_acc: 0.9608\n",
            "Epoch 11/50\n",
            "20/20 [==============================] - 0s 5ms/step - loss: 0.0776 - acc: 0.9706 - val_loss: 0.1239 - val_acc: 0.9673\n",
            "Epoch 12/50\n",
            "20/20 [==============================] - 0s 5ms/step - loss: 0.0656 - acc: 0.9796 - val_loss: 0.1705 - val_acc: 0.9510\n",
            "Epoch 13/50\n",
            "20/20 [==============================] - 0s 5ms/step - loss: 0.0519 - acc: 0.9857 - val_loss: 0.1522 - val_acc: 0.9690\n",
            "Epoch 14/50\n",
            "20/20 [==============================] - 0s 5ms/step - loss: 0.0466 - acc: 0.9865 - val_loss: 0.1731 - val_acc: 0.9657\n",
            "Epoch 15/50\n",
            "20/20 [==============================] - 0s 5ms/step - loss: 0.0351 - acc: 0.9877 - val_loss: 0.1698 - val_acc: 0.9657\n",
            "Epoch 16/50\n",
            "20/20 [==============================] - 0s 6ms/step - loss: 0.0280 - acc: 0.9910 - val_loss: 0.1304 - val_acc: 0.9657\n",
            "Epoch 17/50\n",
            "20/20 [==============================] - 0s 5ms/step - loss: 0.0234 - acc: 0.9930 - val_loss: 0.1163 - val_acc: 0.9706\n",
            "Epoch 18/50\n",
            "20/20 [==============================] - 0s 5ms/step - loss: 0.0180 - acc: 0.9943 - val_loss: 0.1311 - val_acc: 0.9755\n",
            "Epoch 19/50\n",
            "20/20 [==============================] - 0s 5ms/step - loss: 0.0223 - acc: 0.9922 - val_loss: 0.2227 - val_acc: 0.9542\n",
            "Epoch 20/50\n",
            "20/20 [==============================] - 0s 5ms/step - loss: 0.0252 - acc: 0.9922 - val_loss: 0.1872 - val_acc: 0.9592\n",
            "Epoch 21/50\n",
            "20/20 [==============================] - 0s 5ms/step - loss: 0.0137 - acc: 0.9947 - val_loss: 0.1506 - val_acc: 0.9722\n",
            "Epoch 22/50\n",
            "20/20 [==============================] - 0s 6ms/step - loss: 0.0405 - acc: 0.9865 - val_loss: 0.3273 - val_acc: 0.9559\n",
            "Epoch 23/50\n",
            "20/20 [==============================] - 0s 5ms/step - loss: 0.0635 - acc: 0.9845 - val_loss: 0.2192 - val_acc: 0.9592\n",
            "Epoch 24/50\n",
            "20/20 [==============================] - 0s 6ms/step - loss: 0.0471 - acc: 0.9861 - val_loss: 0.1780 - val_acc: 0.9624\n",
            "Epoch 25/50\n",
            "20/20 [==============================] - 0s 5ms/step - loss: 0.0293 - acc: 0.9894 - val_loss: 0.1751 - val_acc: 0.9690\n",
            "Epoch 26/50\n",
            "20/20 [==============================] - 0s 5ms/step - loss: 0.0308 - acc: 0.9902 - val_loss: 0.1763 - val_acc: 0.9624\n",
            "Epoch 27/50\n",
            "20/20 [==============================] - 0s 5ms/step - loss: 0.0263 - acc: 0.9910 - val_loss: 0.1767 - val_acc: 0.9673\n",
            "Epoch 28/50\n",
            "20/20 [==============================] - 0s 5ms/step - loss: 0.0313 - acc: 0.9914 - val_loss: 0.1227 - val_acc: 0.9804\n",
            "Epoch 29/50\n",
            "20/20 [==============================] - 0s 6ms/step - loss: 0.0360 - acc: 0.9930 - val_loss: 0.1479 - val_acc: 0.9673\n",
            "Epoch 30/50\n",
            "20/20 [==============================] - 0s 5ms/step - loss: 0.0141 - acc: 0.9963 - val_loss: 0.1673 - val_acc: 0.9624\n",
            "Epoch 31/50\n",
            "20/20 [==============================] - 0s 6ms/step - loss: 0.0143 - acc: 0.9939 - val_loss: 0.2042 - val_acc: 0.9673\n",
            "Epoch 32/50\n",
            "20/20 [==============================] - 0s 6ms/step - loss: 0.0231 - acc: 0.9926 - val_loss: 0.1548 - val_acc: 0.9673\n",
            "Epoch 33/50\n",
            "20/20 [==============================] - 0s 5ms/step - loss: 0.0309 - acc: 0.9910 - val_loss: 0.1460 - val_acc: 0.9755\n",
            "Epoch 34/50\n",
            "20/20 [==============================] - 0s 5ms/step - loss: 0.0232 - acc: 0.9906 - val_loss: 0.1927 - val_acc: 0.9657\n",
            "Epoch 35/50\n",
            "20/20 [==============================] - 0s 5ms/step - loss: 0.0973 - acc: 0.9742 - val_loss: 0.3229 - val_acc: 0.9559\n",
            "Epoch 36/50\n",
            "20/20 [==============================] - 0s 5ms/step - loss: 0.2118 - acc: 0.9538 - val_loss: 0.3299 - val_acc: 0.9412\n",
            "Epoch 37/50\n",
            "20/20 [==============================] - 0s 5ms/step - loss: 0.0712 - acc: 0.9767 - val_loss: 0.1970 - val_acc: 0.9608\n",
            "Epoch 38/50\n",
            "20/20 [==============================] - 0s 5ms/step - loss: 0.0777 - acc: 0.9816 - val_loss: 0.2533 - val_acc: 0.9559\n",
            "Epoch 39/50\n",
            "20/20 [==============================] - 0s 5ms/step - loss: 0.0579 - acc: 0.9796 - val_loss: 0.2737 - val_acc: 0.9526\n",
            "Epoch 40/50\n",
            "20/20 [==============================] - 0s 9ms/step - loss: 0.0322 - acc: 0.9910 - val_loss: 0.1824 - val_acc: 0.9690\n",
            "Epoch 41/50\n",
            "20/20 [==============================] - 0s 8ms/step - loss: 0.0164 - acc: 0.9951 - val_loss: 0.0985 - val_acc: 0.9820\n",
            "Epoch 42/50\n",
            "20/20 [==============================] - 0s 8ms/step - loss: 0.0059 - acc: 0.9975 - val_loss: 0.1380 - val_acc: 0.9739\n",
            "Epoch 43/50\n",
            "20/20 [==============================] - 0s 9ms/step - loss: 0.0083 - acc: 0.9975 - val_loss: 0.1500 - val_acc: 0.9755\n",
            "Epoch 44/50\n",
            "20/20 [==============================] - 0s 9ms/step - loss: 0.0065 - acc: 0.9984 - val_loss: 0.1178 - val_acc: 0.9820\n",
            "Epoch 45/50\n",
            "20/20 [==============================] - 0s 8ms/step - loss: 0.0011 - acc: 1.0000 - val_loss: 0.1115 - val_acc: 0.9820\n",
            "Epoch 46/50\n",
            "20/20 [==============================] - 0s 9ms/step - loss: 8.3457e-04 - acc: 0.9996 - val_loss: 0.1150 - val_acc: 0.9853\n",
            "Epoch 47/50\n",
            "20/20 [==============================] - 0s 8ms/step - loss: 2.4237e-04 - acc: 1.0000 - val_loss: 0.1115 - val_acc: 0.9837\n",
            "Epoch 48/50\n",
            "20/20 [==============================] - 0s 8ms/step - loss: 1.9031e-04 - acc: 1.0000 - val_loss: 0.1150 - val_acc: 0.9837\n",
            "Epoch 49/50\n",
            "20/20 [==============================] - 0s 8ms/step - loss: 1.3962e-04 - acc: 1.0000 - val_loss: 0.1180 - val_acc: 0.9837\n",
            "Epoch 50/50\n",
            "20/20 [==============================] - 0s 8ms/step - loss: 1.1628e-04 - acc: 1.0000 - val_loss: 0.1174 - val_acc: 0.9837\n"
          ]
        }
      ]
    },
    {
      "cell_type": "markdown",
      "source": [
        "Accuracy"
      ],
      "metadata": {
        "id": "OHifQYHO7ovE"
      }
    },
    {
      "cell_type": "code",
      "source": [
        "loss,accuracy=model.evaluate(x_train,y_train)\n",
        "print('model_loss=%.2f,model_accuracy=%.2f' % (loss*100,accuracy*100))"
      ],
      "metadata": {
        "colab": {
          "base_uri": "https://localhost:8080/"
        },
        "id": "Vs0hEW1-V3rI",
        "outputId": "39f36c14-1100-492f-e806-c51f7adbf42f"
      },
      "execution_count": 14,
      "outputs": [
        {
          "output_type": "stream",
          "name": "stdout",
          "text": [
            "96/96 [==============================] - 0s 1ms/step - loss: 0.0236 - acc: 0.9967\n",
            "model_loss=2.36,model_accuracy=99.67\n"
          ]
        }
      ]
    },
    {
      "cell_type": "code",
      "source": [
        "loss,accuracy=model.evaluate(x_test,y_test)\n",
        "\n",
        "print('model_loss=%.2f,model_accuracy=%.2f' % (loss*100,accuracy*100))"
      ],
      "metadata": {
        "colab": {
          "base_uri": "https://localhost:8080/"
        },
        "id": "F8OIL_5LV74A",
        "outputId": "c73bc453-e2ee-44a2-d30c-7218ed3c88f7"
      },
      "execution_count": 15,
      "outputs": [
        {
          "output_type": "stream",
          "name": "stdout",
          "text": [
            "24/24 [==============================] - 0s 2ms/step - loss: 0.0920 - acc: 0.9869\n",
            "model_loss=9.20,model_accuracy=98.69\n"
          ]
        }
      ]
    }
  ]
}