{
  "nbformat": 4,
  "nbformat_minor": 0,
  "metadata": {
    "colab": {
      "provenance": []
    },
    "kernelspec": {
      "name": "python3",
      "display_name": "Python 3"
    },
    "language_info": {
      "name": "python"
    }
  },
  "cells": [
    {
      "cell_type": "markdown",
      "source": [
        "import important libraries"
      ],
      "metadata": {
        "id": "1ohvG_g70Qkd"
      }
    },
    {
      "cell_type": "code",
      "execution_count": 1,
      "metadata": {
        "id": "_qdT2MDOsrK7"
      },
      "outputs": [],
      "source": [
        "import numpy as np\n",
        "import matplotlib as plt\n",
        "import pandas as pd\n",
        "import math\n",
        "from keras.utils import to_categorical\n",
        "from sklearn.preprocessing import StandardScaler\n",
        "from sklearn.model_selection import train_test_split\n",
        "from sklearn.metrics import accuracy_score, precision_score, recall_score"
      ]
    },
    {
      "cell_type": "markdown",
      "source": [
        "load our data"
      ],
      "metadata": {
        "id": "Gdqzu_EG0g45"
      }
    },
    {
      "cell_type": "code",
      "source": [
        "train=pd.read_csv('/content/optdigits.tra')\n",
        "test=pd.read_csv('/content/optdigits.tes')"
      ],
      "metadata": {
        "id": "_e52niOJsxmz"
      },
      "execution_count": 3,
      "outputs": []
    },
    {
      "cell_type": "markdown",
      "source": [
        "split dataset"
      ],
      "metadata": {
        "id": "s_9j0BF30kr_"
      }
    },
    {
      "cell_type": "code",
      "source": [
        "x_train=train.iloc[:,:-1].values\n",
        "y_train=train.iloc[:,-1].values\n",
        "x_test=test.iloc[:,:-1].values\n",
        "y_test=test.iloc[:,-1].values"
      ],
      "metadata": {
        "id": "TJhquR9Jsxiy"
      },
      "execution_count": 5,
      "outputs": []
    },
    {
      "cell_type": "markdown",
      "source": [
        "normalize data"
      ],
      "metadata": {
        "id": "h3xsEF8f0o42"
      }
    },
    {
      "cell_type": "code",
      "source": [
        "scaler = StandardScaler()\n",
        "x_train = scaler.fit_transform(x_train)\n",
        "x_test = scaler.transform(x_test)"
      ],
      "metadata": {
        "id": "C-P71vCltN9V"
      },
      "execution_count": 6,
      "outputs": []
    },
    {
      "cell_type": "markdown",
      "source": [
        "one hot encoding"
      ],
      "metadata": {
        "id": "6dMF-CT11Up4"
      }
    },
    {
      "cell_type": "code",
      "source": [
        "output_dim = 10\n",
        "y_train_encoded = np.eye(output_dim)[y_train.astype(int)]"
      ],
      "metadata": {
        "id": "-8yxFMHJtRUD"
      },
      "execution_count": 7,
      "outputs": []
    },
    {
      "cell_type": "markdown",
      "source": [
        "build neural networks"
      ],
      "metadata": {
        "id": "oPQVQvjr1akt"
      }
    },
    {
      "cell_type": "code",
      "source": [
        "input_dim = x_train.shape[1]\n",
        "hidden_dim = 64"
      ],
      "metadata": {
        "id": "N-HPQAiotXVN"
      },
      "execution_count": 8,
      "outputs": []
    },
    {
      "cell_type": "markdown",
      "source": [
        "intialize needed parameters and functions"
      ],
      "metadata": {
        "id": "B7uJwIwH2H4C"
      }
    },
    {
      "cell_type": "code",
      "source": [
        "w0 = 2 * np.random.random((input_dim, hidden_dim)) - 1\n",
        "b0 = 2 * np.random.random((1, hidden_dim)) - 1\n",
        "w1 = 2 * np.random.random((hidden_dim, output_dim)) - 1\n",
        "b1 = 2 * np.random.random((1, output_dim)) - 1"
      ],
      "metadata": {
        "id": "WatF7QtvtlMN"
      },
      "execution_count": 9,
      "outputs": []
    },
    {
      "cell_type": "code",
      "source": [
        " lr = 0.1\n",
        " epochs = 3000\n",
        " reg_lambda = 0.001\n",
        " lr_decay = 0.95\n",
        " batch_size=64"
      ],
      "metadata": {
        "id": "dUg7qb56t01L"
      },
      "execution_count": 10,
      "outputs": []
    },
    {
      "cell_type": "code",
      "source": [
        "def sigmoid(x):\n",
        "  return 1 / (1 + np.exp(-x))\n",
        "\n",
        "def sigmoid_derivative(x):\n",
        "  return x * (1- x)"
      ],
      "metadata": {
        "id": "1ji_wkc92iaI"
      },
      "execution_count": 11,
      "outputs": []
    },
    {
      "cell_type": "code",
      "source": [
        "for epoch in range(epochs):\n",
        "    for i in range(0, x_train.shape[0], batch_size):\n",
        "        x_batch = x_train[i:i+batch_size]\n",
        "        y_batch = y_train_encoded[i:i+batch_size]\n",
        "\n",
        "        # Forward propagation\n",
        "        l0 = x_batch\n",
        "        l1 = sigmoid(np.dot(l0, w0) + b0)\n",
        "        l2 = sigmoid(np.dot(l1, w1) + b1)\n",
        "\n",
        "        # Backward propagation\n",
        "        l2_error = y_batch - l2\n",
        "        l2_delta = l2_error * sigmoid_derivative(l2)\n",
        "        l1_error = l2_delta.dot(w1.T)\n",
        "        l1_delta = l1_error * sigmoid_derivative(l1)\n",
        "\n",
        "        # Update w and b\n",
        "        w1 += lr * (l1.T.dot(l2_delta) - reg_lambda * w1)\n",
        "        b1 += np.sum(l2_delta, axis=0, keepdims=True) * lr\n",
        "        w0 += lr * (l0.T.dot(l1_delta) - reg_lambda * w0)\n",
        "        b0 += np.sum(l1_delta, axis=0, keepdims=True) * lr\n",
        "\n",
        "\n",
        "    lr *= lr_decay\n",
        "\n",
        "l0 = x_test\n",
        "l1 = sigmoid(np.dot(l0, w0) + b0)\n",
        "l2 = sigmoid(np.dot(l1, w1) + b1)\n",
        "\n",
        "predicted_labels = np.argmax(l2, axis=1)\n"
      ],
      "metadata": {
        "id": "aLlVHLIjt9rP"
      },
      "execution_count": 16,
      "outputs": []
    },
    {
      "cell_type": "markdown",
      "source": [
        "find accuracy"
      ],
      "metadata": {
        "id": "ymtVPu8015dG"
      }
    },
    {
      "cell_type": "code",
      "source": [
        "accuracy = accuracy_score(y_test, predicted_labels)\n",
        "print(\"Total Accuracy:\", accuracy)"
      ],
      "metadata": {
        "colab": {
          "base_uri": "https://localhost:8080/"
        },
        "id": "orJjNIJwuO-3",
        "outputId": "16960722-48dc-408f-98e7-46283b3a37c4"
      },
      "execution_count": 15,
      "outputs": [
        {
          "output_type": "stream",
          "name": "stdout",
          "text": [
            "Total Accuracy: 0.9582405345211581\n"
          ]
        }
      ]
    }
  ]
}