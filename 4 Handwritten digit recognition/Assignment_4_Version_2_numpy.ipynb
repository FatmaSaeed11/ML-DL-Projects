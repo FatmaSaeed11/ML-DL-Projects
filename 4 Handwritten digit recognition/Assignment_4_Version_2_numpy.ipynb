{
  "nbformat": 4,
  "nbformat_minor": 0,
  "metadata": {
    "colab": {
      "provenance": []
    },
    "kernelspec": {
      "name": "python3",
      "display_name": "Python 3"
    },
    "language_info": {
      "name": "python"
    }
  },
  "cells": [
    {
      "cell_type": "markdown",
      "source": [
        "Optical character recognition with numpy"
      ],
      "metadata": {
        "id": "HBabj17zPFO9"
      }
    },
    {
      "cell_type": "code",
      "execution_count": null,
      "metadata": {
        "colab": {
          "base_uri": "https://localhost:8080/"
        },
        "id": "eE7i9QrqLdin",
        "outputId": "29a25837-d27d-4885-dbd3-c17ea411680a"
      },
      "outputs": [
        {
          "output_type": "stream",
          "name": "stdout",
          "text": [
            "xshape :  (1797, 64)\n",
            "yshape :  (1797,)\n",
            "Epoch 0: Accuracy = 0.7682672233820459, Loss = 4.160706565287284\n",
            "Epoch 100: Accuracy = 1.0, Loss = 0.0002659826492300752\n",
            "Epoch 200: Accuracy = 1.0, Loss = 0.00014080914418852393\n",
            "Epoch 300: Accuracy = 1.0, Loss = 9.845534733363793e-05\n",
            "Epoch 400: Accuracy = 1.0, Loss = 7.663286973204378e-05\n",
            "Epoch 500: Accuracy = 1.0, Loss = 6.315519041097994e-05\n",
            "Epoch 600: Accuracy = 1.0, Loss = 5.393162695812706e-05\n",
            "Epoch 700: Accuracy = 1.0, Loss = 4.718414530134863e-05\n",
            "Epoch 800: Accuracy = 1.0, Loss = 4.2011419775136826e-05\n",
            "Epoch 900: Accuracy = 1.0, Loss = 3.7905999058743093e-05\n",
            "Epoch 1000: Accuracy = 1.0, Loss = 3.455930429226369e-05\n",
            "Epoch 1100: Accuracy = 1.0, Loss = 3.177209883874812e-05\n",
            "Epoch 1200: Accuracy = 1.0, Loss = 2.940909973433506e-05\n",
            "Epoch 1300: Accuracy = 1.0, Loss = 2.7373827050194155e-05\n",
            "Epoch 1400: Accuracy = 1.0, Loss = 2.5593224125071147e-05\n",
            "Epoch 1500: Accuracy = 1.0, Loss = 2.4008352907094533e-05\n",
            "Epoch 1600: Accuracy = 1.0, Loss = 2.2578625104569398e-05\n",
            "Epoch 1700: Accuracy = 1.0, Loss = 2.1303026151638237e-05\n",
            "Epoch 1800: Accuracy = 1.0, Loss = 2.0185943996233322e-05\n",
            "Epoch 1900: Accuracy = 1.0, Loss = 1.9200165754179136e-05\n",
            "Final Accuracy: 0.9416666666666667\n"
          ]
        }
      ],
      "source": [
        "#load important libraries\n",
        "\n",
        "import numpy as np\n",
        "import matplotlib.pyplot as plt\n",
        "import pandas as pd\n",
        "import random\n",
        "from keras.utils import normalize\n",
        "from sklearn.datasets import load_digits\n",
        "from sklearn.preprocessing import StandardScaler\n",
        "from sklearn.model_selection import train_test_split\n",
        "from sklearn.metrics import accuracy_score\n",
        "\n",
        "#load dataset\n",
        "digits_dataset = load_digits()\n",
        "\n",
        "X= digits_dataset.data\n",
        "y = digits_dataset.target\n",
        "\n",
        "print('xshape : ',X.shape)\n",
        "print('yshape : ',y.shape)\n",
        "\n",
        "#normalization\n",
        "scaler = StandardScaler()\n",
        "X= scaler.fit_transform(X)\n",
        "\n",
        "#split data into train and test\n",
        "X_train,X_test,y_train,y_test=train_test_split(X,y,test_size=0.2,random_state=2)\n",
        "\n",
        "\n",
        "#build our model\n",
        "class Multiclass:\n",
        "    def __init__(self, input_size, hidden_size, output_size):\n",
        "        self.input_size = input_size\n",
        "        self.hidden_size = hidden_size\n",
        "        self.output_size = output_size\n",
        "        self.W1 = np.random.randn(self.input_size, self.hidden_size)\n",
        "        self.b1 = np.zeros((1, self.hidden_size))\n",
        "        self.W2 = np.random.randn(self.hidden_size, self.output_size)\n",
        "        self.b2 = np.zeros((1, self.output_size))\n",
        "        self.loss_history = []\n",
        "        self.accuracy_history = []\n",
        "    #fun to forward propagation\n",
        "    def forward(self, X):\n",
        "        self.z1 = np.dot(X, self.W1) + self.b1\n",
        "        self.a1 = np.tanh(self.z1)\n",
        "        self.z2 = np.dot(self.a1, self.W2) + self.b2\n",
        "        exp_scores = np.exp(self.z2)\n",
        "        self.probs = exp_scores / np.sum(exp_scores, axis=1, keepdims=True)\n",
        "    #fun to backward propagation\n",
        "    def backward(self, X, y, learning_rate=0.01):\n",
        "        m = X.shape[0]\n",
        "        delta3 = self.probs\n",
        "        delta3[range(m), y] -= 1\n",
        "        dW2 = np.dot(self.a1.T, delta3)\n",
        "        db2 = np.sum(delta3, axis=0, keepdims=True)\n",
        "        delta2 = np.dot(delta3, self.W2.T) * (1 - np.power(self.a1, 2))\n",
        "        dW1 = np.dot(X.T, delta2)\n",
        "        db1 = np.sum(delta2, axis=0)\n",
        "\n",
        "        # set w&b\n",
        "        self.W1 -= learning_rate * dW1\n",
        "        self.b1 -= learning_rate * db1\n",
        "        self.W2 -= learning_rate * dW2\n",
        "        self.b2 -= learning_rate * db2\n",
        "     #train fun\n",
        "    def train(self, X, y, epochs=2000):\n",
        "        for i in range(epochs):\n",
        "            self.forward(X)\n",
        "            self.backward(X, y)\n",
        "            # loss\n",
        "            predictions = self.predict(X)\n",
        "            #accuracy\n",
        "            accuracy = np.mean(predictions == y)\n",
        "            loss = self.calculate_loss(X, y)\n",
        "            self.accuracy_history.append(accuracy)\n",
        "            self.loss_history.append(loss)\n",
        "            #print accuracy and loss\n",
        "            if i % 100 == 0:\n",
        "                print(f\"Epoch {i}: Accuracy = {accuracy}, Loss = {loss}\")\n",
        "\n",
        "    #prediction fun\n",
        "    def predict(self, X):\n",
        "        self.forward(X)\n",
        "        return np.argmax(self.probs, axis=1)\n",
        "    #loss fun\n",
        "    def calculate_loss(self, X, y):\n",
        "        m = X.shape[0]\n",
        "        correct_logprobs = -np.log(self.probs[range(m), y])\n",
        "        data_loss = np.sum(correct_logprobs)\n",
        "        return 1./m * data_loss\n",
        "\n",
        "#  train our model\n",
        "input_size = X_train.shape[1]\n",
        "hidden_size = 100\n",
        "output_size = len(np.unique(y_train))\n",
        "model = Multiclass (input_size, hidden_size, output_size)\n",
        "model.train(X_train, y_train)\n",
        "\n",
        "# predict our model\n",
        "predictions = model.predict(X_test)\n",
        "accuracy = np.mean(predictions == y_test)\n",
        "print(\"Final Accuracy:\", accuracy)"
      ]
    },
    {
      "cell_type": "code",
      "source": [
        "plt.figure(figsize=(12, 6))\n",
        "plt.subplot(1, 2, 1)\n",
        "plt.plot(model.accuracy_history)\n",
        "plt.title('Accuracy diagram ')\n",
        "plt.xlabel('Epochs')\n",
        "plt.ylabel('Accuracy')\n",
        "\n",
        "plt.subplot(1, 2, 2)\n",
        "plt.plot(model.loss_history)\n",
        "plt.title('Loss diagram ')\n",
        "plt.xlabel('Epochs')\n",
        "plt.ylabel('Loss')\n",
        "\n",
        "plt.show()"
      ],
      "metadata": {
        "colab": {
          "base_uri": "https://localhost:8080/",
          "height": 164
        },
        "id": "jz54IXq_NMpP",
        "outputId": "2a247fda-8a1d-4352-f087-3b6681dff8ba"
      },
      "execution_count": null,
      "outputs": [
        {
          "output_type": "display_data",
          "data": {
            "text/plain": [
              "<Figure size 1200x600 with 2 Axes>"
            ],
            "image/png": "[encoded data removed]"
          },
          "metadata": {}
        }
      ]
    }
  ]
}