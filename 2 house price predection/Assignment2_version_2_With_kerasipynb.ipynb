{
  "cells": [
    {
      "cell_type": "markdown",
      "metadata": {
        "id": "ChfI0h0xFv4n"
      },
      "source": [
        "Linear regression house price prediction with keras."
      ]
    },
    {
      "cell_type": "code",
      "execution_count": null,
      "metadata": {
        "id": "d8naJ8gsvpYo"
      },
      "outputs": [],
      "source": [
        "#import important libraries\n",
        "import numpy as np\n",
        "import pandas as pd\n",
        "import tensorflow as tf\n",
        "import keras\n",
        "import matplotlib.pyplot as plt\n",
        "from sklearn.model_selection import train_test_split\n",
        "from sklearn.preprocessing import MinMaxScaler\n",
        "from tensorflow.keras.models import Sequential\n",
        "from tensorflow.keras.layers import Dense"
      ]
    },
    {
      "cell_type": "code",
      "execution_count": null,
      "metadata": {
        "colab": {
          "base_uri": "https://localhost:8080/"
        },
        "id": "iGrDeSdfFvBA",
        "outputId": "16759bbd-6c8f-4839-811e-117cfa1c2c81"
      },
      "outputs": [
        {
          "output_type": "stream",
          "name": "stdout",
          "text": [
            "Downloading data from https://storage.googleapis.com/tensorflow/tf-keras-datasets/boston_housing.npz\n",
            "57026/57026 [==============================] - 0s 0us/step\n"
          ]
        }
      ],
      "source": [
        "#load dataset\n",
        "(x_train,y_train),(x_test,y_test)=tf.keras.datasets.boston_housing.load_data(path='boston_housing',test_split=0.20,seed=113)"
      ]
    },
    {
      "cell_type": "code",
      "execution_count": null,
      "metadata": {
        "colab": {
          "base_uri": "https://localhost:8080/"
        },
        "id": "9_OFpukJ7Q5G",
        "outputId": "a937a183-211c-41ec-bff0-850a5687d230"
      },
      "outputs": [
        {
          "output_type": "stream",
          "name": "stdout",
          "text": [
            "(404, 13)\n",
            "(102, 13)\n",
            "(404,)\n",
            "(102,)\n"
          ]
        }
      ],
      "source": [
        "#check data existance\n",
        "print(x_train.shape)\n",
        "print(x_test.shape)\n",
        "print(y_train.shape)\n",
        "print(y_test.shape)"
      ]
    },
    {
      "cell_type": "code",
      "execution_count": null,
      "metadata": {
        "id": "mBFIAYeNYVTk"
      },
      "outputs": [],
      "source": [
        "#scale third column\n",
        "min_max_scaler=MinMaxScaler()\n",
        "min_max_scaler.fit(x_train)\n",
        "x_train=min_max_scaler.transform(x_train)\n",
        "x_test=min_max_scaler.transform(x_test)"
      ]
    },
    {
      "cell_type": "code",
      "execution_count": null,
      "metadata": {
        "id": "VxUUvfGiy1n5"
      },
      "outputs": [],
      "source": [
        "#create our model\n",
        "model=Sequential(name='BostonHousingPrices')\n",
        "model.add(Dense(100,input_dim=13,activation='relu',name='Hidden-1'))\n",
        "model.add(Dense(100,input_dim=13,activation='relu',name='Hidden-2'))\n",
        "model.add(Dense(1,activation='linear',name='output'))"
      ]
    },
    {
      "cell_type": "code",
      "execution_count": null,
      "metadata": {
        "id": "YpkfTVg3xppW"
      },
      "outputs": [],
      "source": [
        "#compile model\n",
        "model.compile(optimizer='rmsprop',loss='mse',metrics=['mae'])"
      ]
    },
    {
      "cell_type": "code",
      "execution_count": null,
      "metadata": {
        "colab": {
          "base_uri": "https://localhost:8080/"
        },
        "id": "cDcuZYteVWVF",
        "outputId": "350eff8a-5f91-44a7-aeaf-ffd8d5db94ea"
      },
      "outputs": [
        {
          "output_type": "stream",
          "name": "stdout",
          "text": [
            "Epoch 1/50\n",
            "11/11 [==============================] - 1s 24ms/step - loss: 545.7330 - mae: 21.4655 - val_loss: 566.1516 - val_mae: 21.8961\n",
            "Epoch 2/50\n",
            "11/11 [==============================] - 0s 5ms/step - loss: 460.9417 - mae: 19.2729 - val_loss: 458.4109 - val_mae: 19.1787\n",
            "Epoch 3/50\n",
            "11/11 [==============================] - 0s 5ms/step - loss: 353.6865 - mae: 16.1249 - val_loss: 329.7639 - val_mae: 15.3071\n",
            "Epoch 4/50\n",
            "11/11 [==============================] - 0s 5ms/step - loss: 245.9568 - mae: 12.5773 - val_loss: 227.9987 - val_mae: 12.0658\n",
            "Epoch 5/50\n",
            "11/11 [==============================] - 0s 6ms/step - loss: 170.5639 - mae: 10.0146 - val_loss: 162.7543 - val_mae: 9.9728\n",
            "Epoch 6/50\n",
            "11/11 [==============================] - 0s 5ms/step - loss: 134.1351 - mae: 8.8062 - val_loss: 137.8492 - val_mae: 9.0558\n",
            "Epoch 7/50\n",
            "11/11 [==============================] - 0s 5ms/step - loss: 115.6236 - mae: 8.0616 - val_loss: 116.4963 - val_mae: 8.1652\n",
            "Epoch 8/50\n",
            "11/11 [==============================] - 0s 5ms/step - loss: 100.6458 - mae: 7.4431 - val_loss: 101.1002 - val_mae: 7.4985\n",
            "Epoch 9/50\n",
            "11/11 [==============================] - 0s 6ms/step - loss: 89.1569 - mae: 6.8369 - val_loss: 84.4475 - val_mae: 6.9166\n",
            "Epoch 10/50\n",
            "11/11 [==============================] - 0s 7ms/step - loss: 78.4174 - mae: 6.4437 - val_loss: 74.7489 - val_mae: 6.5066\n",
            "Epoch 11/50\n",
            "11/11 [==============================] - 0s 6ms/step - loss: 69.9179 - mae: 6.0600 - val_loss: 67.2100 - val_mae: 6.0492\n",
            "Epoch 12/50\n",
            "11/11 [==============================] - 0s 6ms/step - loss: 62.6341 - mae: 5.6551 - val_loss: 65.0880 - val_mae: 5.5547\n",
            "Epoch 13/50\n",
            "11/11 [==============================] - 0s 6ms/step - loss: 57.6530 - mae: 5.2543 - val_loss: 56.7520 - val_mae: 5.3971\n",
            "Epoch 14/50\n",
            "11/11 [==============================] - 0s 5ms/step - loss: 53.6413 - mae: 5.0929 - val_loss: 53.6399 - val_mae: 5.3817\n",
            "Epoch 15/50\n",
            "11/11 [==============================] - 0s 5ms/step - loss: 50.1191 - mae: 5.0076 - val_loss: 51.2981 - val_mae: 5.1335\n",
            "Epoch 16/50\n",
            "11/11 [==============================] - 0s 5ms/step - loss: 48.2588 - mae: 4.9166 - val_loss: 55.8235 - val_mae: 4.8874\n",
            "Epoch 17/50\n",
            "11/11 [==============================] - 0s 6ms/step - loss: 47.1984 - mae: 4.6068 - val_loss: 52.7498 - val_mae: 4.7852\n",
            "Epoch 18/50\n",
            "11/11 [==============================] - 0s 5ms/step - loss: 45.2500 - mae: 4.5150 - val_loss: 48.0880 - val_mae: 5.3540\n",
            "Epoch 19/50\n",
            "11/11 [==============================] - 0s 6ms/step - loss: 44.9475 - mae: 4.8714 - val_loss: 47.0251 - val_mae: 4.6058\n",
            "Epoch 20/50\n",
            "11/11 [==============================] - 0s 7ms/step - loss: 42.2515 - mae: 4.3764 - val_loss: 43.1108 - val_mae: 4.6553\n",
            "Epoch 21/50\n",
            "11/11 [==============================] - 0s 5ms/step - loss: 41.3349 - mae: 4.4124 - val_loss: 42.3021 - val_mae: 4.8739\n",
            "Epoch 22/50\n",
            "11/11 [==============================] - 0s 5ms/step - loss: 39.9915 - mae: 4.5201 - val_loss: 42.6342 - val_mae: 4.3924\n",
            "Epoch 23/50\n",
            "11/11 [==============================] - 0s 6ms/step - loss: 38.4017 - mae: 4.1930 - val_loss: 40.5742 - val_mae: 4.3328\n",
            "Epoch 24/50\n",
            "11/11 [==============================] - 0s 5ms/step - loss: 37.1677 - mae: 4.1177 - val_loss: 40.5079 - val_mae: 4.2868\n",
            "Epoch 25/50\n",
            "11/11 [==============================] - 0s 6ms/step - loss: 35.7052 - mae: 4.0091 - val_loss: 40.9994 - val_mae: 4.2680\n",
            "Epoch 26/50\n",
            "11/11 [==============================] - 0s 5ms/step - loss: 34.4257 - mae: 3.9413 - val_loss: 40.2949 - val_mae: 4.2286\n",
            "Epoch 27/50\n",
            "11/11 [==============================] - 0s 5ms/step - loss: 33.6333 - mae: 3.9094 - val_loss: 33.9246 - val_mae: 4.3835\n",
            "Epoch 28/50\n",
            "11/11 [==============================] - 0s 6ms/step - loss: 32.1927 - mae: 3.9806 - val_loss: 32.6070 - val_mae: 3.9858\n",
            "Epoch 29/50\n",
            "11/11 [==============================] - 0s 6ms/step - loss: 30.8119 - mae: 3.7337 - val_loss: 31.0238 - val_mae: 3.9720\n",
            "Epoch 30/50\n",
            "11/11 [==============================] - 0s 5ms/step - loss: 30.1560 - mae: 3.6909 - val_loss: 31.5424 - val_mae: 3.8434\n",
            "Epoch 31/50\n",
            "11/11 [==============================] - 0s 6ms/step - loss: 28.9087 - mae: 3.5916 - val_loss: 32.4511 - val_mae: 3.8663\n",
            "Epoch 32/50\n",
            "11/11 [==============================] - 0s 6ms/step - loss: 28.1856 - mae: 3.5617 - val_loss: 27.9149 - val_mae: 3.7262\n",
            "Epoch 33/50\n",
            "11/11 [==============================] - 0s 5ms/step - loss: 27.5594 - mae: 3.5640 - val_loss: 27.3100 - val_mae: 3.8908\n",
            "Epoch 34/50\n",
            "11/11 [==============================] - 0s 6ms/step - loss: 26.3065 - mae: 3.5090 - val_loss: 28.9071 - val_mae: 3.6850\n",
            "Epoch 35/50\n",
            "11/11 [==============================] - 0s 6ms/step - loss: 25.9635 - mae: 3.3613 - val_loss: 29.0961 - val_mae: 4.2675\n",
            "Epoch 36/50\n",
            "11/11 [==============================] - 0s 6ms/step - loss: 25.7400 - mae: 3.6256 - val_loss: 24.5532 - val_mae: 3.6116\n",
            "Epoch 37/50\n",
            "11/11 [==============================] - 0s 5ms/step - loss: 24.3088 - mae: 3.3658 - val_loss: 23.9186 - val_mae: 3.4706\n",
            "Epoch 38/50\n",
            "11/11 [==============================] - 0s 5ms/step - loss: 23.8250 - mae: 3.3484 - val_loss: 23.3463 - val_mae: 3.4707\n",
            "Epoch 39/50\n",
            "11/11 [==============================] - 0s 5ms/step - loss: 23.5219 - mae: 3.2754 - val_loss: 23.7080 - val_mae: 3.6417\n",
            "Epoch 40/50\n",
            "11/11 [==============================] - 0s 6ms/step - loss: 23.3875 - mae: 3.3179 - val_loss: 28.0208 - val_mae: 3.6994\n",
            "Epoch 41/50\n",
            "11/11 [==============================] - 0s 5ms/step - loss: 23.1614 - mae: 3.1814 - val_loss: 24.0797 - val_mae: 3.7692\n",
            "Epoch 42/50\n",
            "11/11 [==============================] - 0s 6ms/step - loss: 23.0629 - mae: 3.3636 - val_loss: 22.0560 - val_mae: 3.4391\n",
            "Epoch 43/50\n",
            "11/11 [==============================] - 0s 5ms/step - loss: 22.4134 - mae: 3.1993 - val_loss: 23.5368 - val_mae: 3.7386\n",
            "Epoch 44/50\n",
            "11/11 [==============================] - 0s 5ms/step - loss: 22.0209 - mae: 3.2537 - val_loss: 21.0227 - val_mae: 3.2723\n",
            "Epoch 45/50\n",
            "11/11 [==============================] - 0s 6ms/step - loss: 21.2937 - mae: 3.1738 - val_loss: 22.1972 - val_mae: 3.2369\n",
            "Epoch 46/50\n",
            "11/11 [==============================] - 0s 6ms/step - loss: 21.3205 - mae: 3.1289 - val_loss: 20.8570 - val_mae: 3.1251\n",
            "Epoch 47/50\n",
            "11/11 [==============================] - 0s 5ms/step - loss: 21.1947 - mae: 3.1030 - val_loss: 20.6749 - val_mae: 3.1412\n",
            "Epoch 48/50\n",
            "11/11 [==============================] - 0s 5ms/step - loss: 20.5756 - mae: 3.0936 - val_loss: 24.1424 - val_mae: 3.4619\n",
            "Epoch 49/50\n",
            "11/11 [==============================] - 0s 5ms/step - loss: 20.7270 - mae: 3.0924 - val_loss: 23.9812 - val_mae: 3.9162\n",
            "Epoch 50/50\n",
            "11/11 [==============================] - 0s 6ms/step - loss: 21.0549 - mae: 3.2616 - val_loss: 21.2292 - val_mae: 3.1774\n"
          ]
        }
      ],
      "source": [
        "#fit model\n",
        "history=model.fit(x_train,y_train,batch_size=32,epochs=50,validation_split=0.2)"
      ]
    },
    {
      "cell_type": "code",
      "execution_count": null,
      "metadata": {
        "colab": {
          "base_uri": "https://localhost:8080/",
          "height": 233
        },
        "id": "Aes1TgKjfgQ_",
        "outputId": "52917ee7-171e-4012-b114-c321a83451be"
      },
      "outputs": [
        {
          "output_type": "display_data",
          "data": {
            "text/plain": [
              "<Figure size 640x480 with 1 Axes>"
            ],
            "image/png": "[encoded data removed]"
          },
          "metadata": {}
        }
      ],
      "source": [
        "#plotting our results\n",
        "plt.plot(history.history['loss'])\n",
        "plt.plot(history.history['mae'])\n",
        "plt.title('training losss')\n",
        "plt.xlabel('epoch')\n",
        "plt.ylabel('loss')\n",
        "plt.show()"
      ]
    },
    {
      "cell_type": "code",
      "execution_count": null,
      "metadata": {
        "colab": {
          "base_uri": "https://localhost:8080/"
        },
        "id": "aYCXyI6c7EWj",
        "outputId": "70dc32f7-daa3-4a66-d037-d9672a171f70"
      },
      "outputs": [
        {
          "output_type": "stream",
          "name": "stdout",
          "text": [
            "4/4 [==============================] - 0s 4ms/step - loss: 24.3065 - mae: 3.5182\n",
            "loss-->24.30651092529297\n",
            "mae-->3.518204689025879\n"
          ]
        }
      ],
      "source": [
        "#evaluation model\n",
        "results=model.evaluate(x_test,y_test)\n",
        "for i in range (len(results)):\n",
        "\n",
        "    print(f'{model.metrics_names[i]}-->{results[i]}')"
      ]
    },
    {
      "cell_type": "code",
      "execution_count": null,
      "metadata": {
        "colab": {
          "base_uri": "https://localhost:8080/"
        },
        "id": "tIruXU6rDNrL",
        "outputId": "172b6456-e5bf-4b7a-c9bd-21cd9f9fe0e4"
      },
      "outputs": [
        {
          "output_type": "stream",
          "name": "stdout",
          "text": [
            "4/4 [==============================] - 0s 6ms/step\n"
          ]
        }
      ],
      "source": [
        "#prediction\n",
        "y_pred = model.predict(x_test)"
      ]
    },
    {
      "cell_type": "code",
      "source": [
        "\n",
        "#print y predict and y test\n",
        "np.set_printoptions(precision=2)\n",
        "print(np.concatenate((y_pred.reshape(len(y_pred),1),y_test.reshape(len(y_test),1)),1))"
      ],
      "metadata": {
        "colab": {
          "base_uri": "https://localhost:8080/"
        },
        "id": "_xNJAyiustvU",
        "outputId": "c0086b51-9c8b-4f3b-c320-087653028e77"
      },
      "execution_count": null,
      "outputs": [
        {
          "output_type": "stream",
          "name": "stdout",
          "text": [
            "[[ 8.62  7.2 ]\n",
            " [17.94 18.8 ]\n",
            " [19.96 19.  ]\n",
            " [30.84 27.  ]\n",
            " [23.13 22.2 ]\n",
            " [18.05 24.5 ]\n",
            " [28.7  31.2 ]\n",
            " [23.03 22.9 ]\n",
            " [17.1  20.5 ]\n",
            " [20.73 23.2 ]\n",
            " [13.27 18.6 ]\n",
            " [17.64 14.5 ]\n",
            " [16.3  17.8 ]\n",
            " [35.01 50.  ]\n",
            " [15.44 20.8 ]\n",
            " [19.44 24.3 ]\n",
            " [22.04 24.2 ]\n",
            " [20.06 19.8 ]\n",
            " [18.37 19.1 ]\n",
            " [26.17 22.7 ]\n",
            " [10.78 12.  ]\n",
            " [11.08 10.2 ]\n",
            " [19.13 20.  ]\n",
            " [12.61 18.5 ]\n",
            " [20.57 20.9 ]\n",
            " [21.59 23.  ]\n",
            " [31.92 27.5 ]\n",
            " [27.28 30.1 ]\n",
            " [11.01  9.5 ]\n",
            " [19.3  22.  ]\n",
            " [21.14 21.2 ]\n",
            " [13.69 14.1 ]\n",
            " [34.62 33.1 ]\n",
            " [20.53 23.4 ]\n",
            " [16.32 20.1 ]\n",
            " [ 7.8   7.4 ]\n",
            " [14.47 15.4 ]\n",
            " [16.73 23.8 ]\n",
            " [17.91 20.1 ]\n",
            " [27.26 24.5 ]\n",
            " [24.85 33.  ]\n",
            " [25.88 28.4 ]\n",
            " [17.33 14.1 ]\n",
            " [33.53 46.7 ]\n",
            " [29.64 32.5 ]\n",
            " [21.27 29.6 ]\n",
            " [28.02 28.4 ]\n",
            " [15.94 19.8 ]\n",
            " [23.82 20.2 ]\n",
            " [21.44 25.  ]\n",
            " [31.05 35.4 ]\n",
            " [15.93 20.3 ]\n",
            " [10.99  9.7 ]\n",
            " [13.51 14.5 ]\n",
            " [32.7  34.9 ]\n",
            " [26.15 26.6 ]\n",
            " [16.36  7.2 ]\n",
            " [39.32 50.  ]\n",
            " [35.55 32.4 ]\n",
            " [23.57 21.6 ]\n",
            " [24.15 29.8 ]\n",
            " [19.45 13.1 ]\n",
            " [14.85 27.5 ]\n",
            " [19.37 21.2 ]\n",
            " [23.83 23.1 ]\n",
            " [23.45 21.9 ]\n",
            " [15.83 13.  ]\n",
            " [24.87 23.2 ]\n",
            " [ 8.24  8.1 ]\n",
            " [11.54  5.6 ]\n",
            " [26.5  21.7 ]\n",
            " [25.76 29.6 ]\n",
            " [21.29 19.6 ]\n",
            " [11.19  7.  ]\n",
            " [25.34 26.4 ]\n",
            " [20.31 18.9 ]\n",
            " [19.11 20.9 ]\n",
            " [21.91 28.1 ]\n",
            " [32.11 35.4 ]\n",
            " [ 8.75 10.2 ]\n",
            " [21.2  24.3 ]\n",
            " [36.62 43.1 ]\n",
            " [15.79 17.6 ]\n",
            " [17.84 15.4 ]\n",
            " [18.82 16.2 ]\n",
            " [17.72 27.1 ]\n",
            " [19.86 21.4 ]\n",
            " [22.84 21.5 ]\n",
            " [22.41 22.4 ]\n",
            " [27.86 25.  ]\n",
            " [15.37 16.6 ]\n",
            " [18.68 18.6 ]\n",
            " [25.26 22.  ]\n",
            " [31.94 42.8 ]\n",
            " [32.09 35.1 ]\n",
            " [21.29 21.5 ]\n",
            " [35.65 36.  ]\n",
            " [42.24 21.9 ]\n",
            " [22.13 24.1 ]\n",
            " [41.64 50.  ]\n",
            " [33.04 26.7 ]\n",
            " [19.83 25.  ]]\n"
          ]
        }
      ]
    },
    {
      "cell_type": "code",
      "execution_count": null,
      "metadata": {
        "colab": {
          "base_uri": "https://localhost:8080/"
        },
        "id": "n1p1tW0zD0QL",
        "outputId": "ea1e5492-4e43-4741-9639-37f28633e6d5"
      },
      "outputs": [
        {
          "output_type": "stream",
          "name": "stdout",
          "text": [
            "1.4218276090643331\n"
          ]
        }
      ],
      "source": [
        "\n",
        "#show how out of our model is near to out of target\n",
        "print((np.mean(y_pred - y_test))**2)"
      ]
    },
    {
      "cell_type": "code",
      "source": [
        "\n",
        "#print array of output of our model\n",
        "print((np.array(y_pred - y_test))**2)"
      ],
      "metadata": {
        "colab": {
          "base_uri": "https://localhost:8080/"
        },
        "id": "TjQBCFGfwkHw",
        "outputId": "03febfa4-5a61-4c6e-f92b-fe7c978730d4"
      },
      "execution_count": null,
      "outputs": [
        {
          "output_type": "stream",
          "name": "stdout",
          "text": [
            "[[2.00e+00 1.04e+02 1.08e+02 ... 1.71e+03 3.27e+02 2.68e+02]\n",
            " [1.15e+02 7.38e-01 1.12e+00 ... 1.03e+03 7.67e+01 4.98e+01]\n",
            " [1.63e+02 1.36e+00 9.31e-01 ... 9.02e+02 4.54e+01 2.54e+01]\n",
            " ...\n",
            " [1.19e+03 5.22e+02 5.13e+02 ... 6.98e+01 2.23e+02 2.77e+02]\n",
            " [6.68e+02 2.03e+02 1.97e+02 ... 2.88e+02 4.02e+01 6.46e+01]\n",
            " [1.59e+02 1.06e+00 6.85e-01 ... 9.10e+02 4.72e+01 2.68e+01]]\n"
          ]
        }
      ]
    }
  ],
  "metadata": {
    "colab": {
      "provenance": []
    },
    "kernelspec": {
      "display_name": "Python 3",
      "name": "python3"
    },
    "language_info": {
      "name": "python"
    }
  },
  "nbformat": 4,
  "nbformat_minor": 0
}