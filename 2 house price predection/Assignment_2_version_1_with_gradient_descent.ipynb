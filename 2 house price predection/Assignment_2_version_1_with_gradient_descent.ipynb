{
  "cells": [
    {
      "cell_type": "markdown",
      "source": [
        "Linear regression house price prediction from scratch ."
      ],
      "metadata": {
        "id": "FVLUTlwm0RUD"
      }
    },
    {
      "cell_type": "code",
      "source": [
        "#import important libraries\n",
        "import os\n",
        "import numpy as np\n",
        "import pandas as pd\n",
        "import tensorflow as tf\n",
        "import seaborn as sns\n",
        "import math\n",
        "import copy\n",
        "import matplotlib.pyplot as plt\n",
        "np.set_printoptions(precision=2)"
      ],
      "metadata": {
        "id": "IDZfPc6w0R57"
      },
      "execution_count": null,
      "outputs": []
    },
    {
      "cell_type": "code",
      "source": [
        "\n",
        "(x_train,y_train),(x_test,y_test)=tf.keras.datasets.boston_housing.load_data(path='boston_housing',test_split=0.20,seed=113)"
      ],
      "metadata": {
        "id": "AVTrDTEKhkdz"
      },
      "execution_count": null,
      "outputs": []
    },
    {
      "cell_type": "code",
      "source": [
        "print(f\"X Shape: {x_train.shape}, X Type:{type(x_train)})\")\n",
        "print(x_train)\n",
        "print(f\"y Shape: {y_train.shape}, y Type:{type(y_train)})\")\n",
        "print(y_train)"
      ],
      "metadata": {
        "colab": {
          "base_uri": "https://localhost:8080/"
        },
        "id": "vm_GhW96hyKv",
        "outputId": "964df2c1-0081-4ac3-a6d1-b85d3e37d041"
      },
      "execution_count": null,
      "outputs": [
        {
          "output_type": "stream",
          "name": "stdout",
          "text": [
            "X Shape: (404, 13), X Type:<class 'numpy.ndarray'>)\n",
            "[[1.23e+00 0.00e+00 8.14e+00 ... 2.10e+01 3.97e+02 1.87e+01]\n",
            " [2.18e-02 8.25e+01 2.03e+00 ... 1.47e+01 3.95e+02 3.11e+00]\n",
            " [4.90e+00 0.00e+00 1.81e+01 ... 2.02e+01 3.76e+02 3.26e+00]\n",
            " ...\n",
            " [3.47e-02 3.50e+01 6.06e+00 ... 1.69e+01 3.62e+02 7.83e+00]\n",
            " [2.15e+00 0.00e+00 1.96e+01 ... 1.47e+01 2.62e+02 1.58e+01]\n",
            " [1.44e-02 6.00e+01 2.93e+00 ... 1.56e+01 3.77e+02 4.38e+00]]\n",
            "y Shape: (404,), y Type:<class 'numpy.ndarray'>)\n",
            "[15.2 42.3 50.  21.1 17.7 18.5 11.3 15.6 15.6 14.4 12.1 17.9 23.1 19.9\n",
            " 15.7  8.8 50.  22.5 24.1 27.5 10.9 30.8 32.9 24.  18.5 13.3 22.9 34.7\n",
            " 16.6 17.5 22.3 16.1 14.9 23.1 34.9 25.  13.9 13.1 20.4 20.  15.2 24.7\n",
            " 22.2 16.7 12.7 15.6 18.4 21.  30.1 15.1 18.7  9.6 31.5 24.8 19.1 22.\n",
            " 14.5 11.  32.  29.4 20.3 24.4 14.6 19.5 14.1 14.3 15.6 10.5  6.3 19.3\n",
            " 19.3 13.4 36.4 17.8 13.5 16.5  8.3 14.3 16.  13.4 28.6 43.5 20.2 22.\n",
            " 23.  20.7 12.5 48.5 14.6 13.4 23.7 50.  21.7 39.8 38.7 22.2 34.9 22.5\n",
            " 31.1 28.7 46.  41.7 21.  26.6 15.  24.4 13.3 21.2 11.7 21.7 19.4 50.\n",
            " 22.8 19.7 24.7 36.2 14.2 18.9 18.3 20.6 24.6 18.2  8.7 44.  10.4 13.2\n",
            " 21.2 37.  30.7 22.9 20.  19.3 31.7 32.  23.1 18.8 10.9 50.  19.6  5.\n",
            " 14.4 19.8 13.8 19.6 23.9 24.5 25.  19.9 17.2 24.6 13.5 26.6 21.4 11.9\n",
            " 22.6 19.6  8.5 23.7 23.1 22.4 20.5 23.6 18.4 35.2 23.1 27.9 20.6 23.7\n",
            " 28.  13.6 27.1 23.6 20.6 18.2 21.7 17.1  8.4 25.3 13.8 22.2 18.4 20.7\n",
            " 31.6 30.5 20.3  8.8 19.2 19.4 23.1 23.  14.8 48.8 22.6 33.4 21.1 13.6\n",
            " 32.2 13.1 23.4 18.9 23.9 11.8 23.3 22.8 19.6 16.7 13.4 22.2 20.4 21.8\n",
            " 26.4 14.9 24.1 23.8 12.3 29.1 21.  19.5 23.3 23.8 17.8 11.5 21.7 19.9\n",
            " 25.  33.4 28.5 21.4 24.3 27.5 33.1 16.2 23.3 48.3 22.9 22.8 13.1 12.7\n",
            " 22.6 15.  15.3 10.5 24.  18.5 21.7 19.5 33.2 23.2  5.  19.1 12.7 22.3\n",
            " 10.2 13.9 16.3 17.  20.1 29.9 17.2 37.3 45.4 17.8 23.2 29.  22.  18.\n",
            " 17.4 34.6 20.1 25.  15.6 24.8 28.2 21.2 21.4 23.8 31.  26.2 17.4 37.9\n",
            " 17.5 20.   8.3 23.9  8.4 13.8  7.2 11.7 17.1 21.6 50.  16.1 20.4 20.6\n",
            " 21.4 20.6 36.5  8.5 24.8 10.8 21.9 17.3 18.9 36.2 14.9 18.2 33.3 21.8\n",
            " 19.7 31.6 24.8 19.4 22.8  7.5 44.8 16.8 18.7 50.  50.  19.5 20.1 50.\n",
            " 17.2 20.8 19.3 41.3 20.4 20.5 13.8 16.5 23.9 20.6 31.5 23.3 16.8 14.\n",
            " 33.8 36.1 12.8 18.3 18.7 19.1 29.  30.1 50.  50.  22.  11.9 37.6 50.\n",
            " 22.7 20.8 23.5 27.9 50.  19.3 23.9 22.6 15.2 21.7 19.2 43.8 20.3 33.2\n",
            " 19.9 22.5 32.7 22.  17.1 19.  15.  16.1 25.1 23.7 28.7 37.2 22.6 16.4\n",
            " 25.  29.8 22.1 17.4 18.1 30.3 17.5 24.7 12.6 26.5 28.7 13.3 10.4 24.4\n",
            " 23.  20.  17.8  7.  11.8 24.4 13.8 19.4 25.2 19.4 19.4 29.1]\n"
          ]
        }
      ]
    },
    {
      "cell_type": "code",
      "source": [
        "\n",
        "#intialize bias and weight\n",
        "b_init = 785.1811367994083\n",
        "w_init = np.array([ 0.39133535, 18.75376741, -53.36032453, -26.42131618,0.49133566,-54.46734522,-27.10330853,19.45892301,50.34213011,0.42101322,20.10156332,23.14588212,-28.54271241])\n",
        "print(f\"w_init shape: {w_init.shape}, b_init type: {type(b_init)}\")"
      ],
      "metadata": {
        "colab": {
          "base_uri": "https://localhost:8080/"
        },
        "id": "8rIeXguSkh9b",
        "outputId": "e647f625-4b15-421a-9c16-145ff84ab3b4"
      },
      "execution_count": null,
      "outputs": [
        {
          "output_type": "stream",
          "name": "stdout",
          "text": [
            "w_init shape: (13,), b_init type: <class 'float'>\n"
          ]
        }
      ]
    },
    {
      "cell_type": "code",
      "execution_count": null,
      "metadata": {
        "id": "wBVaS81cZRGG"
      },
      "outputs": [],
      "source": [
        "#fun to predict single loop\n",
        "def predict_single_loop(x, w, b):\n",
        "\n",
        "    n = x.shape[0]\n",
        "    p = 0\n",
        "    for i in range(n):\n",
        "        p_i = x[i] * w[i]\n",
        "        p = p + p_i\n",
        "    p = p + b\n",
        "    return p"
      ]
    },
    {
      "cell_type": "code",
      "execution_count": null,
      "metadata": {
        "id": "NkjyaCPJZRLn",
        "colab": {
          "base_uri": "https://localhost:8080/"
        },
        "outputId": "e0f093b2-feff-44c7-a8a0-7bba2d697f8c"
      },
      "outputs": [
        {
          "output_type": "stream",
          "name": "stdout",
          "text": [
            "x_vec shape (13,), x_vec value: [  1.23   0.     8.14   0.     0.54   6.14  91.7    3.98   4.   307.\n",
            "  21.   396.9   18.72]\n"
          ]
        }
      ],
      "source": [
        "\n",
        "#check x vector shape\n",
        "x_vec = x_train[0,:]\n",
        "print(f\"x_vec shape {x_vec.shape}, x_vec value: {x_vec}\")"
      ]
    },
    {
      "cell_type": "code",
      "execution_count": null,
      "metadata": {
        "id": "Njjn6MwkZRPQ",
        "colab": {
          "base_uri": "https://localhost:8080/"
        },
        "outputId": "4e044dce-4899-45d1-f6c8-ea9b01c0e827"
      },
      "outputs": [
        {
          "output_type": "stream",
          "name": "stdout",
          "text": [
            "f_wb shape (), prediction: 7014.0825529781305\n"
          ]
        }
      ],
      "source": [
        "#check shape of predict single loop\n",
        "f_wb = predict_single_loop(x_vec, w_init, b_init)\n",
        "print(f\"f_wb shape {f_wb.shape}, prediction: {f_wb}\")"
      ]
    },
    {
      "cell_type": "code",
      "execution_count": null,
      "metadata": {
        "id": "-x2UYeGEZRS5"
      },
      "outputs": [],
      "source": [
        "# prediction fun\n",
        "def predict(x_test, w, b):\n",
        "    p = np.dot(x_test, w) + b\n",
        "    return p"
      ]
    },
    {
      "cell_type": "code",
      "execution_count": null,
      "metadata": {
        "id": "t804-6ulZRX9",
        "colab": {
          "base_uri": "https://localhost:8080/"
        },
        "outputId": "b717b62c-0dd4-4f38-ef5f-44b410c12dda"
      },
      "outputs": [
        {
          "output_type": "stream",
          "name": "stdout",
          "text": [
            "x_vec shape (13,), x_vec value: [  1.23   0.     8.14   0.     0.54   6.14  91.7    3.98   4.   307.\n",
            "  21.   396.9   18.72]\n"
          ]
        }
      ],
      "source": [
        "#check shape of x vector\n",
        "x_vec = x_train[0,:]\n",
        "print(f\"x_vec shape {x_vec.shape}, x_vec value: {x_vec}\")"
      ]
    },
    {
      "cell_type": "code",
      "execution_count": null,
      "metadata": {
        "id": "PH1rZUOjZRbT",
        "colab": {
          "base_uri": "https://localhost:8080/"
        },
        "outputId": "8c25cbf5-232b-42fd-edcc-d0f9fa278fd3"
      },
      "outputs": [
        {
          "output_type": "stream",
          "name": "stdout",
          "text": [
            "f_wb shape (), prediction: 7014.0825529781305\n"
          ]
        }
      ],
      "source": [
        "#check shape of prediction\n",
        "f_wb = predict(x_vec,w_init, b_init)\n",
        "print(f\"f_wb shape {f_wb.shape}, prediction: {f_wb}\")"
      ]
    },
    {
      "cell_type": "code",
      "execution_count": null,
      "metadata": {
        "id": "F1kZIuluZ6QB"
      },
      "outputs": [],
      "source": [
        "#cost fun\n",
        "def compute_cost(x, y, w, b):\n",
        "    m = x.shape[0]\n",
        "    cost = 0.0\n",
        "    for i in range(m):\n",
        "        f_wb_i = np.dot(x[i], w) + b\n",
        "        cost = cost + (f_wb_i - y[i])**2\n",
        "    cost = cost / (2 * m)\n",
        "    return cost"
      ]
    },
    {
      "cell_type": "code",
      "execution_count": null,
      "metadata": {
        "id": "Q7gE75OCZ6ii",
        "colab": {
          "base_uri": "https://localhost:8080/"
        },
        "outputId": "7a64f9a7-689e-467f-b832-52d9c113c2f1"
      },
      "outputs": [
        {
          "output_type": "stream",
          "name": "stdout",
          "text": [
            "Cost at optimal w : 29031556.49724754\n"
          ]
        }
      ],
      "source": [
        "\n",
        "#print cost\n",
        "cost = compute_cost(x_train, y_train, w_init, b_init)\n",
        "print(f'Cost at optimal w : {cost}')"
      ]
    },
    {
      "cell_type": "code",
      "execution_count": null,
      "metadata": {
        "id": "nmSL73qvZ6uT"
      },
      "outputs": [],
      "source": [
        "\n",
        "# fun to find gradient\n",
        "def compute_gradient(x, y, w, b):\n",
        "\n",
        "    m,n = x.shape\n",
        "    dj_dw = np.zeros((n,))\n",
        "    dj_db = 0.\n",
        "\n",
        "    for i in range(m):\n",
        "        err = (np.dot(x[i], w) + b) - y[i]\n",
        "        for j in range(n):\n",
        "            dj_dw[j] = dj_dw[j] + err * x[i, j]\n",
        "        dj_db = dj_db + err\n",
        "    dj_dw = dj_dw / m\n",
        "    dj_db = dj_db / m\n",
        "\n",
        "    return dj_db, dj_dw"
      ]
    },
    {
      "cell_type": "code",
      "execution_count": null,
      "metadata": {
        "id": "304YRHM1Z62Z",
        "colab": {
          "base_uri": "https://localhost:8080/"
        },
        "outputId": "a422e1b3-e56d-4bc8-f1e5-bd0bf57510a8"
      },
      "outputs": [
        {
          "output_type": "stream",
          "name": "stdout",
          "text": [
            "dj_db at initial w,b: 7112.321522671282\n",
            "dj_dw at initial w,b: \n",
            " [1.64e+04 1.14e+05 6.73e+04 4.29e+02 3.76e+03 4.51e+04 4.42e+05 2.99e+04\n",
            " 5.56e+04 2.65e+06 1.30e+05 2.75e+06 7.91e+04]\n"
          ]
        }
      ],
      "source": [
        "\n",
        "#call fun of gradient\n",
        "tmp_dj_db, tmp_dj_dw = compute_gradient(x_train, y_train, w_init, b_init)\n",
        "print(f'dj_db at initial w,b: {tmp_dj_db}')\n",
        "print(f'dj_dw at initial w,b: \\n {tmp_dj_dw}')"
      ]
    },
    {
      "cell_type": "code",
      "execution_count": null,
      "metadata": {
        "id": "YDJ3KjcZZ68X"
      },
      "outputs": [],
      "source": [
        "# fun to find gradient descent\n",
        "def gradient_descent(x, y, w_in, b_in, cost_function, gradient_function, alpha, num_iters):\n",
        "    J_history = []\n",
        "    w = copy.deepcopy(w_in)\n",
        "    b = b_in\n",
        "\n",
        "    for i in range(num_iters):\n",
        "\n",
        "\n",
        "        dj_db,dj_dw = gradient_function(x, y, w, b)\n",
        "\n",
        "\n",
        "        w = w - alpha * dj_dw\n",
        "        b = b - alpha * dj_db\n",
        "\n",
        "        if i<50:\n",
        "            J_history.append( cost_function(x, y, w, b))\n",
        "\n",
        "        if i% math.ceil(num_iters / 10) == 0:\n",
        "            print(f\"Iteration {i:4d}: Cost {J_history[-1]:8.2f}   \")\n",
        "\n",
        "    return w, b, J_history"
      ]
    },
    {
      "cell_type": "code",
      "execution_count": null,
      "metadata": {
        "id": "Z69QDsZrZ7Al",
        "colab": {
          "base_uri": "https://localhost:8080/"
        },
        "outputId": "73b408c7-cc3e-4f49-8962-a7ec1ab0db18"
      },
      "outputs": [
        {
          "output_type": "stream",
          "name": "stdout",
          "text": [
            "Iteration    0: Cost   227.92   \n",
            "Iteration 1100: Cost    48.30   \n",
            "Iteration 2200: Cost    48.30   \n",
            "Iteration 3300: Cost    48.30   \n",
            "Iteration 4400: Cost    48.30   \n",
            "Iteration 5500: Cost    48.30   \n",
            "Iteration 6600: Cost    48.30   \n",
            "Iteration 7700: Cost    48.30   \n",
            "Iteration 8800: Cost    48.30   \n",
            "Iteration 9900: Cost    48.30   \n",
            "b,w found by gradient descent: 0.00,[-0.04  0.13 -0.03  0.    0.    0.04  0.05  0.01 -0.    0.    0.02  0.05\n",
            " -0.12] \n",
            "prediction: 22.83897736357193, target value: 15.2\n",
            "prediction: 31.866294485633404, target value: 42.3\n",
            "prediction: 24.308818656915232, target value: 50.0\n",
            "prediction: 21.353079478623446, target value: 21.1\n",
            "prediction: 23.349263013107112, target value: 17.7\n",
            "prediction: 22.528162698361328, target value: 18.5\n",
            "prediction: 22.826962655873576, target value: 11.3\n",
            "prediction: 21.939757636171276, target value: 15.6\n",
            "prediction: 11.991117946867588, target value: 15.6\n",
            "prediction: 21.289261228446385, target value: 14.4\n",
            "prediction: 22.20423889885148, target value: 12.1\n",
            "prediction: 3.0312955450890824, target value: 17.9\n",
            "prediction: 23.13969886642999, target value: 23.1\n",
            "prediction: 21.51139158818347, target value: 19.9\n",
            "prediction: 19.403148173422714, target value: 15.7\n",
            "prediction: 1.6244079156557827, target value: 8.8\n",
            "prediction: 25.046090881103694, target value: 50.0\n",
            "prediction: 28.900375217397062, target value: 22.5\n",
            "prediction: 32.28059139293652, target value: 24.1\n",
            "prediction: 23.50004859634093, target value: 27.5\n",
            "prediction: 3.080550399115901, target value: 10.9\n",
            "prediction: 30.841589578467826, target value: 30.8\n",
            "prediction: 32.88051263964151, target value: 32.9\n",
            "prediction: 25.572529973630882, target value: 24.0\n",
            "prediction: 22.10872146437295, target value: 18.5\n",
            "prediction: 23.063634061628832, target value: 13.3\n",
            "prediction: 23.879972578005948, target value: 22.9\n",
            "prediction: 22.825739820474933, target value: 34.7\n",
            "prediction: 22.264598064837955, target value: 16.6\n",
            "prediction: 22.48873761596138, target value: 17.5\n",
            "prediction: 28.7428164374139, target value: 22.3\n",
            "prediction: 22.823392218672748, target value: 16.1\n",
            "prediction: 16.910419871993373, target value: 14.9\n",
            "prediction: 20.869337925051713, target value: 23.1\n",
            "prediction: 30.85131963548673, target value: 34.9\n",
            "prediction: 21.90441736908585, target value: 25.0\n",
            "prediction: 18.228318642830864, target value: 13.9\n",
            "prediction: 21.14714776930171, target value: 13.1\n",
            "prediction: 22.160056516850634, target value: 20.4\n",
            "prediction: 21.787099111155033, target value: 20.0\n",
            "prediction: 23.340581232712605, target value: 15.2\n",
            "prediction: 19.925735168270187, target value: 24.7\n",
            "prediction: 21.452529146116863, target value: 22.2\n",
            "prediction: 19.937793470048277, target value: 16.7\n",
            "prediction: 23.252425767960005, target value: 12.7\n",
            "prediction: 23.122528082892906, target value: 15.6\n",
            "prediction: 23.02456010371991, target value: 18.4\n",
            "prediction: 22.633208126098793, target value: 21.0\n",
            "prediction: 26.754313450205952, target value: 30.1\n",
            "prediction: 23.43083665260244, target value: 15.1\n",
            "prediction: 22.30162592310095, target value: 18.7\n",
            "prediction: 4.825932269690805, target value: 9.6\n",
            "prediction: 23.23403142682212, target value: 31.5\n",
            "prediction: 26.24203099391538, target value: 24.8\n",
            "prediction: 21.197147738967573, target value: 19.1\n",
            "prediction: 21.196274067543435, target value: 22.0\n",
            "prediction: 7.5496438699057835, target value: 14.5\n",
            "prediction: 7.42346753715908, target value: 11.0\n",
            "prediction: 27.4419865753084, target value: 32.0\n",
            "prediction: 21.41435645552694, target value: 29.4\n",
            "prediction: 21.316026702272868, target value: 20.3\n",
            "prediction: 24.888284132911615, target value: 24.4\n",
            "prediction: 22.46059561605196, target value: 14.6\n",
            "prediction: 22.986009193488243, target value: 19.5\n",
            "prediction: 6.09209444939322, target value: 14.1\n",
            "prediction: 8.756745376597506, target value: 14.3\n",
            "prediction: 16.68178971903042, target value: 15.6\n",
            "prediction: 21.817370518269392, target value: 10.5\n",
            "prediction: 18.15189096586573, target value: 6.3\n",
            "prediction: 21.818116365051687, target value: 19.3\n",
            "prediction: 20.961863810504635, target value: 19.3\n",
            "prediction: 8.477858114499432, target value: 13.4\n",
            "prediction: 27.414953043807305, target value: 36.4\n",
            "prediction: 22.103132224023987, target value: 17.8\n",
            "prediction: 15.573851033104198, target value: 13.5\n",
            "prediction: 22.93839863291576, target value: 16.5\n",
            "prediction: 3.126224390148999, target value: 8.3\n",
            "prediction: 22.973967561792932, target value: 14.3\n",
            "prediction: 25.746030885963325, target value: 16.0\n",
            "prediction: 21.926755242173748, target value: 13.4\n",
            "prediction: 21.255282912220444, target value: 28.6\n",
            "prediction: 24.949874353181606, target value: 43.5\n",
            "prediction: 15.794003177766431, target value: 20.2\n",
            "prediction: 28.324374831826486, target value: 22.0\n",
            "prediction: 23.459222224476054, target value: 23.0\n",
            "prediction: 21.331858713705564, target value: 20.7\n",
            "prediction: 23.31636162561107, target value: 12.5\n",
            "prediction: 33.747833245281534, target value: 48.5\n",
            "prediction: 21.18112189843268, target value: 14.6\n",
            "prediction: 2.9272245209502716, target value: 13.4\n",
            "prediction: 23.538582455621427, target value: 23.7\n",
            "prediction: 33.693839888970416, target value: 50.0\n",
            "prediction: 21.266154401007988, target value: 21.7\n",
            "prediction: 23.573117163886778, target value: 39.8\n",
            "prediction: 23.903617150543962, target value: 38.7\n",
            "prediction: 24.613646804437764, target value: 22.2\n",
            "prediction: 33.54456037747659, target value: 34.9\n",
            "prediction: 21.254182717340164, target value: 22.5\n",
            "prediction: 28.158877823919838, target value: 31.1\n",
            "prediction: 22.71694242700335, target value: 28.7\n",
            "prediction: 24.182037204793268, target value: 46.0\n",
            "prediction: 23.403263701534666, target value: 41.7\n",
            "prediction: 21.89535387515079, target value: 21.0\n",
            "prediction: 19.639715070120076, target value: 26.6\n",
            "prediction: 3.1581199571264182, target value: 15.0\n",
            "prediction: 23.628756431535177, target value: 24.4\n",
            "prediction: 18.18076819653913, target value: 13.3\n",
            "prediction: 20.980311927331048, target value: 21.2\n",
            "prediction: 2.9245811875316123, target value: 11.7\n",
            "prediction: 22.695064338718765, target value: 21.7\n",
            "prediction: 23.1112915845219, target value: 19.4\n",
            "prediction: 23.243545099915533, target value: 50.0\n",
            "prediction: 23.53724789561033, target value: 22.8\n",
            "prediction: 21.80636867619385, target value: 19.7\n",
            "prediction: 32.87098810818426, target value: 24.7\n",
            "prediction: 22.656964653008096, target value: 36.2\n",
            "prediction: 19.868000774408237, target value: 14.2\n",
            "prediction: 23.801182440353205, target value: 18.9\n",
            "prediction: 20.667803379065735, target value: 18.3\n",
            "prediction: 30.604153893561747, target value: 20.6\n",
            "prediction: 23.391845421791178, target value: 24.6\n",
            "prediction: 22.3874492073692, target value: 18.2\n",
            "prediction: 3.2211859746681655, target value: 8.7\n",
            "prediction: 32.96803062993527, target value: 44.0\n",
            "prediction: 19.671577282278058, target value: 10.4\n",
            "prediction: 13.261899441763324, target value: 13.2\n",
            "prediction: 21.415230565205, target value: 21.2\n",
            "prediction: 26.295270157656915, target value: 37.0\n",
            "prediction: 24.73965584927891, target value: 30.7\n",
            "prediction: 27.580885398845982, target value: 22.9\n",
            "prediction: 20.484048013429103, target value: 20.0\n",
            "prediction: 22.136051974570325, target value: 19.3\n",
            "prediction: 22.73482594733811, target value: 31.7\n",
            "prediction: 27.783002936879047, target value: 32.0\n",
            "prediction: 20.01239752053352, target value: 23.1\n",
            "prediction: 21.549676223253524, target value: 18.8\n",
            "prediction: 22.816826941794908, target value: 10.9\n",
            "prediction: 26.316630649563056, target value: 50.0\n",
            "prediction: 25.138323105511684, target value: 19.6\n",
            "prediction: 19.68466773863442, target value: 5.0\n",
            "prediction: 21.410876019630884, target value: 14.4\n",
            "prediction: 23.977347360283446, target value: 19.8\n",
            "prediction: 23.515523412587804, target value: 13.8\n",
            "prediction: 23.83516883427161, target value: 19.6\n",
            "prediction: 24.220384365345556, target value: 23.9\n",
            "prediction: 23.822916107220358, target value: 24.5\n",
            "prediction: 24.906306106659613, target value: 25.0\n",
            "prediction: 23.190248373697205, target value: 19.9\n",
            "prediction: 5.158718356857012, target value: 17.2\n",
            "prediction: 20.703982678538864, target value: 24.6\n",
            "prediction: 3.440309699112924, target value: 13.5\n",
            "prediction: 26.80517147895137, target value: 26.6\n",
            "prediction: 22.45580289199335, target value: 21.4\n",
            "prediction: 23.454538502884418, target value: 11.9\n",
            "prediction: 20.380695043406604, target value: 22.6\n",
            "prediction: 20.867098368358693, target value: 19.6\n",
            "prediction: 16.949506861562057, target value: 8.5\n",
            "prediction: 23.908673928558265, target value: 23.7\n",
            "prediction: 10.72356523674653, target value: 23.1\n",
            "prediction: 20.94061974484189, target value: 22.4\n",
            "prediction: 25.207735799465464, target value: 20.5\n",
            "prediction: 24.159609054842576, target value: 23.6\n",
            "prediction: 23.251037309373494, target value: 18.4\n",
            "prediction: 24.5426586008267, target value: 35.2\n",
            "prediction: 32.22942801751115, target value: 23.1\n",
            "prediction: 20.85333162538977, target value: 27.9\n",
            "prediction: 21.377192866773306, target value: 20.6\n",
            "prediction: 23.32069614336821, target value: 23.7\n",
            "prediction: 24.967089715199172, target value: 28.0\n",
            "prediction: 23.400549214256753, target value: 13.6\n",
            "prediction: 21.846933273513166, target value: 27.1\n",
            "prediction: 23.558965899260436, target value: 23.6\n",
            "prediction: 21.868190003725818, target value: 20.6\n",
            "prediction: 30.751404405807335, target value: 18.2\n",
            "prediction: 21.963059834180378, target value: 21.7\n",
            "prediction: 23.496886843953426, target value: 17.1\n",
            "prediction: 4.660456035813368, target value: 8.4\n",
            "prediction: 19.57437916573848, target value: 25.3\n",
            "prediction: 10.882449641376509, target value: 13.8\n",
            "prediction: 26.405488209870093, target value: 22.2\n",
            "prediction: 23.770669439387696, target value: 18.4\n",
            "prediction: 24.131475630873737, target value: 20.7\n",
            "prediction: 22.53368998770088, target value: 31.6\n",
            "prediction: 27.3574731215431, target value: 30.5\n",
            "prediction: 21.453575664542463, target value: 20.3\n",
            "prediction: 15.61258739035929, target value: 8.8\n",
            "prediction: 23.485839595074925, target value: 19.2\n",
            "prediction: 23.475524769506062, target value: 19.4\n",
            "prediction: 22.5191853604953, target value: 23.1\n",
            "prediction: 23.39299402085493, target value: 23.0\n",
            "prediction: 18.440038340672526, target value: 14.8\n",
            "prediction: 26.295519313420243, target value: 48.8\n",
            "prediction: 22.643304156778544, target value: 22.6\n",
            "prediction: 27.543328915354806, target value: 33.4\n",
            "prediction: 23.166836318601217, target value: 21.1\n",
            "prediction: 21.845176810854436, target value: 13.6\n",
            "prediction: 32.310527484775506, target value: 32.2\n",
            "prediction: 22.02294977978948, target value: 13.1\n",
            "prediction: 23.348023370227946, target value: 23.4\n",
            "prediction: 22.78008949470571, target value: 18.9\n",
            "prediction: 26.386293247219843, target value: 23.9\n",
            "prediction: 21.54078081036769, target value: 11.8\n",
            "prediction: 25.1087124592364, target value: 23.3\n",
            "prediction: 24.5860978532556, target value: 22.8\n",
            "prediction: 23.087369269925478, target value: 19.6\n",
            "prediction: 23.30535873036705, target value: 16.7\n",
            "prediction: 3.889646870670115, target value: 13.4\n",
            "prediction: 21.2944360813109, target value: 22.2\n",
            "prediction: 19.704686155964303, target value: 20.4\n",
            "prediction: 22.004950361741585, target value: 21.8\n",
            "prediction: 22.822232119429064, target value: 26.4\n",
            "prediction: 3.9994276442710386, target value: 14.9\n",
            "prediction: 28.68108089928477, target value: 24.1\n",
            "prediction: 18.75796608329485, target value: 23.8\n",
            "prediction: 22.767856283294517, target value: 12.3\n",
            "prediction: 26.441870033305, target value: 29.1\n",
            "prediction: 21.650010280519016, target value: 21.0\n",
            "prediction: 23.38474684728879, target value: 19.5\n",
            "prediction: 22.714597667606256, target value: 23.3\n",
            "prediction: 23.609169695131417, target value: 23.8\n",
            "prediction: 22.681537453180574, target value: 17.8\n",
            "prediction: 23.13777097214209, target value: 11.5\n",
            "prediction: 19.38488605219653, target value: 21.7\n",
            "prediction: 22.356209766684884, target value: 19.9\n",
            "prediction: 23.261943102080902, target value: 25.0\n",
            "prediction: 22.429814163022765, target value: 33.4\n",
            "prediction: 31.903107900200926, target value: 28.5\n",
            "prediction: 22.5295538161946, target value: 21.4\n",
            "prediction: 22.300593173664183, target value: 24.3\n",
            "prediction: 22.24056722306654, target value: 27.5\n",
            "prediction: 25.139291801490828, target value: 33.1\n",
            "prediction: 22.960843557092694, target value: 16.2\n",
            "prediction: 21.291823077836, target value: 23.3\n",
            "prediction: 22.760694821292088, target value: 48.3\n",
            "prediction: 25.526687540000385, target value: 22.9\n",
            "prediction: 23.991334818431252, target value: 22.8\n",
            "prediction: 7.787529398536405, target value: 13.1\n",
            "prediction: 4.052674801879592, target value: 12.7\n",
            "prediction: 23.180233974967997, target value: 22.6\n",
            "prediction: 23.509512065841673, target value: 15.0\n",
            "prediction: 20.53189811311353, target value: 15.3\n",
            "prediction: 21.56608594739159, target value: 10.5\n",
            "prediction: 21.351105770858076, target value: 24.0\n",
            "prediction: 23.263864222758208, target value: 18.5\n",
            "prediction: 22.40642219428856, target value: 21.7\n",
            "prediction: 21.678363598216123, target value: 19.5\n",
            "prediction: 27.01959382341545, target value: 33.2\n",
            "prediction: 21.869102157528864, target value: 23.2\n",
            "prediction: 20.703195179798307, target value: 5.0\n",
            "prediction: 20.477232455664556, target value: 19.1\n",
            "prediction: 20.685970537815052, target value: 12.7\n",
            "prediction: 20.306890278703612, target value: 22.3\n",
            "prediction: 22.518940311572017, target value: 10.2\n",
            "prediction: 20.661827777480127, target value: 13.9\n",
            "prediction: 13.218013953074344, target value: 16.3\n",
            "prediction: 19.492609411853138, target value: 17.0\n",
            "prediction: 26.098819202091164, target value: 20.1\n",
            "prediction: 23.16900017823138, target value: 29.9\n",
            "prediction: 18.446349374387502, target value: 17.2\n",
            "prediction: 31.876257977276165, target value: 37.3\n",
            "prediction: 25.28450357399467, target value: 45.4\n",
            "prediction: 19.541092027210446, target value: 17.8\n",
            "prediction: 21.607356367372386, target value: 23.2\n",
            "prediction: 28.650379560311524, target value: 29.0\n",
            "prediction: 23.08085863525683, target value: 22.0\n",
            "prediction: 23.560886190972838, target value: 18.0\n",
            "prediction: 18.100667049479416, target value: 17.4\n",
            "prediction: 31.940862364651075, target value: 34.6\n",
            "prediction: 28.303642184282502, target value: 20.1\n",
            "prediction: 24.66501055382909, target value: 25.0\n",
            "prediction: 7.346356641397522, target value: 15.6\n",
            "prediction: 24.724385513037554, target value: 24.8\n",
            "prediction: 27.325826131359186, target value: 28.2\n",
            "prediction: 22.004679697961578, target value: 21.2\n",
            "prediction: 21.24688859448186, target value: 21.4\n",
            "prediction: 22.3507867836899, target value: 23.8\n",
            "prediction: 26.078898763426793, target value: 31.0\n",
            "prediction: 23.646732574792132, target value: 26.2\n",
            "prediction: 22.69635691683548, target value: 17.4\n",
            "prediction: 24.20819454668512, target value: 37.9\n",
            "prediction: 22.364686000663827, target value: 17.5\n",
            "prediction: 22.52845707456578, target value: 20.0\n",
            "prediction: 22.38072496221128, target value: 8.3\n",
            "prediction: 29.86466157685371, target value: 23.9\n",
            "prediction: 4.766768954331908, target value: 8.4\n",
            "prediction: 21.41429269322624, target value: 13.8\n",
            "prediction: 21.54764978513524, target value: 7.2\n",
            "prediction: 8.846225096297932, target value: 11.7\n",
            "prediction: 22.64849107007613, target value: 17.1\n",
            "prediction: 23.437569360279063, target value: 21.6\n",
            "prediction: 22.972376180380095, target value: 50.0\n",
            "prediction: 8.486198257803641, target value: 16.1\n",
            "prediction: 22.826938065568946, target value: 20.4\n",
            "prediction: 23.126522389485928, target value: 20.6\n",
            "prediction: 21.806458620844243, target value: 21.4\n",
            "prediction: 26.42750657854145, target value: 20.6\n",
            "prediction: 26.045229106426795, target value: 36.5\n",
            "prediction: 23.093651187815606, target value: 8.5\n",
            "prediction: 31.169921423289296, target value: 24.8\n",
            "prediction: 14.82119349976905, target value: 10.8\n",
            "prediction: 19.798333856408345, target value: 21.9\n",
            "prediction: 20.24605862432218, target value: 17.3\n",
            "prediction: 31.442711905798795, target value: 18.9\n",
            "prediction: 22.377032662686453, target value: 36.2\n",
            "prediction: 19.627173929736756, target value: 14.9\n",
            "prediction: 22.68913602950572, target value: 18.2\n",
            "prediction: 32.27260589603814, target value: 33.3\n",
            "prediction: 21.714825584666382, target value: 21.8\n",
            "prediction: 23.821929408322106, target value: 19.7\n",
            "prediction: 34.82883234166655, target value: 31.6\n",
            "prediction: 22.758637868701353, target value: 24.8\n",
            "prediction: 31.40824474982646, target value: 19.4\n",
            "prediction: 20.135112215277516, target value: 22.8\n",
            "prediction: 3.6911546501839183, target value: 7.5\n",
            "prediction: 23.398426649407646, target value: 44.8\n",
            "prediction: 22.93767756103936, target value: 16.8\n",
            "prediction: 23.404940249746687, target value: 18.7\n",
            "prediction: 23.417824386070833, target value: 50.0\n",
            "prediction: 32.069102848301306, target value: 50.0\n",
            "prediction: 23.310889466291293, target value: 19.5\n",
            "prediction: 23.503558909410337, target value: 20.1\n",
            "prediction: 21.70049430023979, target value: 50.0\n",
            "prediction: 20.363661841037796, target value: 17.2\n",
            "prediction: 23.663573097206765, target value: 20.8\n",
            "prediction: 23.339919901442048, target value: 19.3\n",
            "prediction: 22.902899680877862, target value: 41.3\n",
            "prediction: 22.695487718433093, target value: 20.4\n",
            "prediction: 25.020785289121612, target value: 20.5\n",
            "prediction: 21.126474141056626, target value: 13.8\n",
            "prediction: 22.59323105973074, target value: 16.5\n",
            "prediction: 21.827791113729372, target value: 23.9\n",
            "prediction: 20.380275530677853, target value: 20.6\n",
            "prediction: 20.506739797114665, target value: 31.5\n",
            "prediction: 24.28761030311394, target value: 23.3\n",
            "prediction: 21.44278771050059, target value: 16.8\n",
            "prediction: 21.85714125360064, target value: 14.0\n",
            "prediction: 25.661069714030738, target value: 33.8\n",
            "prediction: 25.90695356375673, target value: 36.1\n",
            "prediction: 22.62465836793795, target value: 12.8\n",
            "prediction: 22.535475874680333, target value: 18.3\n",
            "prediction: 25.46784770454794, target value: 18.7\n",
            "prediction: 19.85592280852996, target value: 19.1\n",
            "prediction: 21.12061550092324, target value: 29.0\n",
            "prediction: 23.6205160772171, target value: 30.1\n",
            "prediction: 24.164017471228842, target value: 50.0\n",
            "prediction: 23.480890539874927, target value: 50.0\n",
            "prediction: 25.901078648646752, target value: 22.0\n",
            "prediction: 20.97211503388563, target value: 11.9\n",
            "prediction: 24.001646079176286, target value: 37.6\n",
            "prediction: 32.89201287834433, target value: 50.0\n",
            "prediction: 23.297167936135267, target value: 22.7\n",
            "prediction: 21.303275668598612, target value: 20.8\n",
            "prediction: 31.459013760481348, target value: 23.5\n",
            "prediction: 31.526324960055142, target value: 27.9\n",
            "prediction: 24.13061710067537, target value: 50.0\n",
            "prediction: 20.466881696400037, target value: 19.3\n",
            "prediction: 20.374516176083308, target value: 23.9\n",
            "prediction: 20.03686837169625, target value: 22.6\n",
            "prediction: 21.601150080721823, target value: 15.2\n",
            "prediction: 21.82097535091207, target value: 21.7\n",
            "prediction: 23.8017934825763, target value: 19.2\n",
            "prediction: 21.99242787453247, target value: 43.8\n",
            "prediction: 23.03770294120198, target value: 20.3\n",
            "prediction: 23.02486134806224, target value: 33.2\n",
            "prediction: 18.75054021793598, target value: 19.9\n",
            "prediction: 21.50874292175009, target value: 22.5\n",
            "prediction: 26.898901110552686, target value: 32.7\n",
            "prediction: 23.86745531564448, target value: 22.0\n",
            "prediction: 24.991968817821327, target value: 17.1\n",
            "prediction: 4.728642471769372, target value: 19.0\n",
            "prediction: 24.096084225362535, target value: 15.0\n",
            "prediction: 18.52902365284145, target value: 16.1\n",
            "prediction: 22.79608579538312, target value: 25.1\n",
            "prediction: 15.245761916964474, target value: 23.7\n",
            "prediction: 23.112531636538122, target value: 28.7\n",
            "prediction: 22.748562541196712, target value: 37.2\n",
            "prediction: 22.581306740156514, target value: 22.6\n",
            "prediction: 16.491956090829937, target value: 16.4\n",
            "prediction: 23.7199138096041, target value: 25.0\n",
            "prediction: 26.92824688103778, target value: 29.8\n",
            "prediction: 22.4076958071473, target value: 22.1\n",
            "prediction: 22.206575286940673, target value: 17.4\n",
            "prediction: 23.229858507279843, target value: 18.1\n",
            "prediction: 29.763229397709345, target value: 30.3\n",
            "prediction: 21.47485010470458, target value: 17.5\n",
            "prediction: 20.7972171191732, target value: 24.7\n",
            "prediction: 23.090649592033643, target value: 12.6\n",
            "prediction: 23.34950645319518, target value: 26.5\n",
            "prediction: 23.022735726361358, target value: 28.7\n",
            "prediction: 22.58498779721926, target value: 13.3\n",
            "prediction: 7.972645843435388, target value: 10.4\n",
            "prediction: 20.892352145285468, target value: 24.4\n",
            "prediction: 21.3862734525912, target value: 23.0\n",
            "prediction: 23.277399241144877, target value: 20.0\n",
            "prediction: 22.505122667612603, target value: 17.8\n",
            "prediction: 4.438439694126509, target value: 7.0\n",
            "prediction: 5.13869531444959, target value: 11.8\n",
            "prediction: 21.685709862882554, target value: 24.4\n",
            "prediction: 20.681026939176064, target value: 13.8\n",
            "prediction: 21.57700005949571, target value: 19.4\n",
            "prediction: 23.1422062526277, target value: 25.2\n",
            "prediction: 23.74334618300884, target value: 19.4\n",
            "prediction: 16.577286199483087, target value: 19.4\n",
            "prediction: 27.821030807681456, target value: 29.1\n"
          ]
        }
      ],
      "source": [
        "#prediction to check the accuracy\n",
        "initial_w = np.zeros_like(w_init)\n",
        "initial_b = 0.\n",
        "iterations = 11000\n",
        "alpha = 5.0e-7\n",
        "\n",
        "w_final, b_final, J_hist = gradient_descent(x_train, y_train, initial_w, initial_b,\n",
        "                                                    compute_cost, compute_gradient,\n",
        "                                                    alpha, iterations)\n",
        "print(f\"b,w found by gradient descent: {b_final:0.2f},{w_final} \")\n",
        "m, _ = x_train.shape\n",
        "for i in range(m):\n",
        "    a = np.dot(x_train[i], w_final) + b_final\n",
        "    b = y_train[i]\n",
        "    sum = a-b\n",
        "    print(f\"prediction: {a}, target value: {b}\")"
      ]
    },
    {
      "cell_type": "code",
      "source": [
        "#show how out of our model is near to out of target\n",
        "print((np.mean(sum))**2)"
      ],
      "metadata": {
        "colab": {
          "base_uri": "https://localhost:8080/"
        },
        "id": "VmHEv6TC_1Ic",
        "outputId": "239926b9-1f1f-4fc6-f719-708c06a8700f"
      },
      "execution_count": null,
      "outputs": [
        {
          "output_type": "stream",
          "name": "stdout",
          "text": [
            "1.6357621948999517\n"
          ]
        }
      ]
    }
  ],
  "metadata": {
    "colab": {
      "provenance": []
    },
    "kernelspec": {
      "display_name": "Python 3",
      "name": "python3"
    },
    "language_info": {
      "name": "python"
    }
  },
  "nbformat": 4,
  "nbformat_minor": 0
}