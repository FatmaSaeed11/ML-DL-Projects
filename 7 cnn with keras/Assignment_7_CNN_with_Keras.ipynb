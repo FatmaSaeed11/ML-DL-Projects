{
  "nbformat": 4,
  "nbformat_minor": 0,
  "metadata": {
    "colab": {
      "provenance": []
    },
    "kernelspec": {
      "name": "python3",
      "display_name": "Python 3"
    },
    "language_info": {
      "name": "python"
    }
  },
  "cells": [
    {
      "cell_type": "markdown",
      "source": [
        "LenNet-5 using Keras and Mnist dataset"
      ],
      "metadata": {
        "id": "MZkInjdpUQnj"
      }
    },
    {
      "cell_type": "markdown",
      "source": [
        "import important libraries"
      ],
      "metadata": {
        "id": "jm4FTRYxVTdh"
      }
    },
    {
      "cell_type": "code",
      "execution_count": 26,
      "metadata": {
        "id": "cUg8kPe5T8g3"
      },
      "outputs": [],
      "source": [
        "import numpy as np\n",
        "import matplotlib.pyplot as plt\n",
        "import pandas as pd\n",
        "import tensorflow as tf\n",
        "import math\n",
        "\n",
        "from tensorflow import keras\n",
        "from keras.utils import normalize,to_categorical\n",
        "from tensorflow.keras.layers import Flatten,Dense,Conv2D,AveragePooling2D\n",
        "from sklearn.model_selection import train_test_split\n",
        "\n",
        "from sklearn.metrics import accuracy_score, precision_score, recall_score, f1_score,classification_report"
      ]
    },
    {
      "cell_type": "markdown",
      "source": [
        "import dataset"
      ],
      "metadata": {
        "id": "FoIfmxuJVoAt"
      }
    },
    {
      "cell_type": "code",
      "source": [
        "mnist=tf.keras.datasets.mnist"
      ],
      "metadata": {
        "id": "f2n7bZpLVr6b"
      },
      "execution_count": 2,
      "outputs": []
    },
    {
      "cell_type": "markdown",
      "source": [
        "split dataset"
      ],
      "metadata": {
        "id": "2Pa0wXkQklIp"
      }
    },
    {
      "cell_type": "code",
      "source": [
        "(x_train,y_train),(x_test,y_test)=mnist.load_data()"
      ],
      "metadata": {
        "colab": {
          "base_uri": "https://localhost:8080/"
        },
        "id": "nE_IPaFdcb5o",
        "outputId": "221469ba-7043-44cd-a579-ee256b025cff"
      },
      "execution_count": 3,
      "outputs": [
        {
          "output_type": "stream",
          "name": "stdout",
          "text": [
            "Downloading data from https://storage.googleapis.com/tensorflow/tf-keras-datasets/mnist.npz\n",
            "11490434/11490434 [==============================] - 0s 0us/step\n"
          ]
        }
      ]
    },
    {
      "cell_type": "markdown",
      "source": [
        "prepare dataset"
      ],
      "metadata": {
        "id": "aKblomjSkohE"
      }
    },
    {
      "cell_type": "code",
      "source": [
        "rows,cols=28,28"
      ],
      "metadata": {
        "id": "S4ytJM2FcwqF"
      },
      "execution_count": 4,
      "outputs": []
    },
    {
      "cell_type": "code",
      "source": [
        "x_train=x_train.reshape(x_train.shape[0],rows,cols,1)\n",
        "x_test=x_test.reshape(x_test.shape[0],rows,cols,1)"
      ],
      "metadata": {
        "id": "DPVKOdQ8c27K"
      },
      "execution_count": 5,
      "outputs": []
    },
    {
      "cell_type": "code",
      "source": [
        "input_shape=(rows,cols,1)"
      ],
      "metadata": {
        "id": "Mr37wJGAc21q"
      },
      "execution_count": 6,
      "outputs": []
    },
    {
      "cell_type": "markdown",
      "source": [
        "normalization"
      ],
      "metadata": {
        "id": "1JnqROuYkteK"
      }
    },
    {
      "cell_type": "code",
      "source": [
        "x_train=x_train.astype('float32')\n",
        "x_test=x_test.astype('float32')"
      ],
      "metadata": {
        "id": "P1pNqUzyc2wG"
      },
      "execution_count": 7,
      "outputs": []
    },
    {
      "cell_type": "code",
      "source": [
        "x_train=x_train/255.0\n",
        "x_test=x_test/255.0"
      ],
      "metadata": {
        "id": "Pa-4-gCrdomF"
      },
      "execution_count": 8,
      "outputs": []
    },
    {
      "cell_type": "code",
      "source": [
        "y_train=tf.keras.utils.to_categorical(y_train,10)\n",
        "y_test=tf.keras.utils.to_categorical(y_test,10)"
      ],
      "metadata": {
        "id": "d0ze4FcfeOS3"
      },
      "execution_count": 9,
      "outputs": []
    },
    {
      "cell_type": "markdown",
      "source": [
        "build our model"
      ],
      "metadata": {
        "id": "RXjW8D98kzkP"
      }
    },
    {
      "cell_type": "code",
      "source": [
        "model=tf.keras.Sequential()\n",
        "model.add(Conv2D(filters=6,kernel_size=(5,5),strides=(1,1),activation='tanh',input_shape=input_shape))\n",
        "model.add(AveragePooling2D(pool_size=(2,2),strides=(2,2)))\n",
        "model.add(Conv2D(filters=16,kernel_size=(5,5),strides=(1,1),activation='tanh',input_shape=input_shape))\n",
        "model.add(AveragePooling2D(pool_size=(2,2),strides=(2,2)))\n",
        "model.add (Flatten())\n",
        "model.add(Dense(units=120,activation='tanh'))\n",
        "model.add (Flatten())\n",
        "model.add(Dense(units=84,activation='tanh'))\n",
        "model.add(Dense(units=10,activation='softmax'))\n",
        "\n",
        "\n",
        "\n"
      ],
      "metadata": {
        "id": "vMRl52gierZG"
      },
      "execution_count": 17,
      "outputs": []
    },
    {
      "cell_type": "markdown",
      "source": [
        "compile moodel"
      ],
      "metadata": {
        "id": "ANXVshFbk2lS"
      }
    },
    {
      "cell_type": "code",
      "source": [
        "model.compile(loss = 'categorical_crossentropy',optimizer=tf.keras.optimizers.SGD(learning_rate=0.1,momentum=0.0,weight_decay=0.0), metrics=['acc'])"
      ],
      "metadata": {
        "id": "-AN-psbyiUV5"
      },
      "execution_count": 20,
      "outputs": []
    },
    {
      "cell_type": "markdown",
      "source": [
        "fit model"
      ],
      "metadata": {
        "id": "t8IYEWITk5Be"
      }
    },
    {
      "cell_type": "code",
      "source": [
        "history=model.fit(x_train,y_train,epochs=10,batch_size=128,verbose=1)"
      ],
      "metadata": {
        "colab": {
          "base_uri": "https://localhost:8080/"
        },
        "id": "n-hmarUmjXQB",
        "outputId": "fd83c8c3-7065-4f3b-92b3-263edd63b3e4"
      },
      "execution_count": 21,
      "outputs": [
        {
          "output_type": "stream",
          "name": "stdout",
          "text": [
            "Epoch 1/10\n",
            "469/469 [==============================] - 22s 43ms/step - loss: 0.4057 - acc: 0.8834\n",
            "Epoch 2/10\n",
            "469/469 [==============================] - 21s 44ms/step - loss: 0.1666 - acc: 0.9505\n",
            "Epoch 3/10\n",
            "469/469 [==============================] - 20s 42ms/step - loss: 0.1131 - acc: 0.9661\n",
            "Epoch 4/10\n",
            "469/469 [==============================] - 20s 43ms/step - loss: 0.0874 - acc: 0.9738\n",
            "Epoch 5/10\n",
            "469/469 [==============================] - 19s 41ms/step - loss: 0.0724 - acc: 0.9785\n",
            "Epoch 6/10\n",
            "469/469 [==============================] - 20s 44ms/step - loss: 0.0624 - acc: 0.9815\n",
            "Epoch 7/10\n",
            "469/469 [==============================] - 20s 42ms/step - loss: 0.0551 - acc: 0.9834\n",
            "Epoch 8/10\n",
            "469/469 [==============================] - 20s 43ms/step - loss: 0.0493 - acc: 0.9850\n",
            "Epoch 9/10\n",
            "469/469 [==============================] - 20s 44ms/step - loss: 0.0444 - acc: 0.9864\n",
            "Epoch 10/10\n",
            "469/469 [==============================] - 19s 41ms/step - loss: 0.0404 - acc: 0.9878\n"
          ]
        }
      ]
    },
    {
      "cell_type": "markdown",
      "source": [
        "accuracy"
      ],
      "metadata": {
        "id": "MAr8Jolyk7MV"
      }
    },
    {
      "cell_type": "code",
      "source": [
        "loss,acc=model.evaluate(x_test,y_test)\n",
        "print('Total Accuracy',acc)"
      ],
      "metadata": {
        "colab": {
          "base_uri": "https://localhost:8080/"
        },
        "id": "N-gu9INijqvf",
        "outputId": "272f725e-1ca2-4f38-fca8-448a5d56b2af"
      },
      "execution_count": 22,
      "outputs": [
        {
          "output_type": "stream",
          "name": "stdout",
          "text": [
            "313/313 [==============================] - 2s 6ms/step - loss: 0.0479 - acc: 0.9844\n",
            "Total Accuracy 0.9843999743461609\n"
          ]
        }
      ]
    },
    {
      "cell_type": "code",
      "source": [
        "x_train=x_train.reshape(x_train.shape[0],28,28)\n",
        "x_test=x_test.reshape(x_test.shape[0],28,28)"
      ],
      "metadata": {
        "id": "SuunJZj3jz4W"
      },
      "execution_count": 23,
      "outputs": []
    },
    {
      "cell_type": "code",
      "source": [
        "image_index=5555\n",
        "plt.imshow(x_test[image_index].reshape(28,28),cmap='Greys')\n",
        "print('the real value is ')\n",
        "plt.show()\n",
        "\n"
      ],
      "metadata": {
        "colab": {
          "base_uri": "https://localhost:8080/",
          "height": 447
        },
        "id": "rLLEXIbSoDHt",
        "outputId": "5fed5839-2622-46c7-c1f5-c3e65083a9fd"
      },
      "execution_count": 31,
      "outputs": [
        {
          "output_type": "stream",
          "name": "stdout",
          "text": [
            "the real value is \n"
          ]
        },
        {
          "output_type": "display_data",
          "data": {
            "text/plain": [
              "<Figure size 640x480 with 1 Axes>"
            ],
            "image/png": "[encoded data removed]"
          },
          "metadata": {}
        }
      ]
    },
    {
      "cell_type": "code",
      "source": [
        "pred=model.predict(x_test[image_index].reshape(1,rows,cols,1))\n",
        "print('the predicted value is ', pred.argmax())"
      ],
      "metadata": {
        "colab": {
          "base_uri": "https://localhost:8080/"
        },
        "id": "U1WUIds2o1-T",
        "outputId": "d170466d-e20d-47b6-bdf4-6bb548e9688a"
      },
      "execution_count": 32,
      "outputs": [
        {
          "output_type": "stream",
          "name": "stdout",
          "text": [
            "1/1 [==============================] - 0s 24ms/step\n",
            "the predicted value is  3\n"
          ]
        }
      ]
    },
    {
      "cell_type": "code",
      "source": [],
      "metadata": {
        "id": "po0ERZBgpGn-"
      },
      "execution_count": null,
      "outputs": []
    }
  ]
}