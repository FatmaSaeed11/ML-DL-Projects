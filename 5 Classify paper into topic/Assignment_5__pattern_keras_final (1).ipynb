{
  "nbformat": 4,
  "nbformat_minor": 0,
  "metadata": {
    "colab": {
      "provenance": []
    },
    "kernelspec": {
      "name": "python3",
      "display_name": "Python 3"
    },
    "language_info": {
      "name": "python"
    }
  },
  "cells": [
    {
      "cell_type": "markdown",
      "source": [
        "import libraries"
      ],
      "metadata": {
        "id": "WgGCYp8NE4Sj"
      }
    },
    {
      "cell_type": "code",
      "execution_count": 1,
      "metadata": {
        "id": "PCKbkRwoD2T-"
      },
      "outputs": [],
      "source": [
        "import numpy as np\n",
        "import pandas as pd\n",
        "\n",
        "import matplotlib.pyplot as plt\n",
        "import tensorflow as tf\n",
        "\n",
        "from keras.utils import normalize\n",
        "from tensorflow.keras.layers import Flatten,Dense\n",
        "from sklearn.model_selection import train_test_split\n",
        "from tensorflow.keras.preprocessing.text import Tokenizer\n",
        "from tensorflow.keras.preprocessing.sequence import pad_sequences\n",
        "from tensorflow.keras.utils import to_categorical\n",
        "from sklearn.metrics import accuracy_score"
      ]
    },
    {
      "cell_type": "markdown",
      "source": [
        "import dataset from kaggel"
      ],
      "metadata": {
        "id": "MXBEt0UPE8Ij"
      }
    },
    {
      "cell_type": "code",
      "source": [
        "!pip install kaggle\n",
        "\n",
        "!mkdir -p ~/.kaggle\n",
        "!cp kaggle.json ~/.kaggle/\n",
        "!chmod 600 ~/.kaggle/kaggle.json\n",
        "\n",
        "!kaggle datasets download -d shivanandmn/multilabel-classification-dataset\n",
        "\n",
        "from zipfile import ZipFile\n",
        "dataset='/content/multilabel-classification-dataset.zip'\n",
        "\n",
        "with ZipFile(dataset,'r') as zip:\n",
        "  zip.extractall()\n",
        "  print('data extracted')"
      ],
      "metadata": {
        "colab": {
          "base_uri": "https://localhost:8080/"
        },
        "id": "6o7KPnDaD82y",
        "outputId": "ac1b831c-831e-4836-ae1d-99308d81aa7d"
      },
      "execution_count": 3,
      "outputs": [
        {
          "output_type": "stream",
          "name": "stdout",
          "text": [
            "Requirement already satisfied: kaggle in /usr/local/lib/python3.10/dist-packages (1.5.16)\n",
            "Requirement already satisfied: six>=1.10 in /usr/local/lib/python3.10/dist-packages (from kaggle) (1.16.0)\n",
            "Requirement already satisfied: certifi in /usr/local/lib/python3.10/dist-packages (from kaggle) (2024.2.2)\n",
            "Requirement already satisfied: python-dateutil in /usr/local/lib/python3.10/dist-packages (from kaggle) (2.8.2)\n",
            "Requirement already satisfied: requests in /usr/local/lib/python3.10/dist-packages (from kaggle) (2.31.0)\n",
            "Requirement already satisfied: tqdm in /usr/local/lib/python3.10/dist-packages (from kaggle) (4.66.2)\n",
            "Requirement already satisfied: python-slugify in /usr/local/lib/python3.10/dist-packages (from kaggle) (8.0.4)\n",
            "Requirement already satisfied: urllib3 in /usr/local/lib/python3.10/dist-packages (from kaggle) (2.0.7)\n",
            "Requirement already satisfied: bleach in /usr/local/lib/python3.10/dist-packages (from kaggle) (6.1.0)\n",
            "Requirement already satisfied: webencodings in /usr/local/lib/python3.10/dist-packages (from bleach->kaggle) (0.5.1)\n",
            "Requirement already satisfied: text-unidecode>=1.3 in /usr/local/lib/python3.10/dist-packages (from python-slugify->kaggle) (1.3)\n",
            "Requirement already satisfied: charset-normalizer<4,>=2 in /usr/local/lib/python3.10/dist-packages (from requests->kaggle) (3.3.2)\n",
            "Requirement already satisfied: idna<4,>=2.5 in /usr/local/lib/python3.10/dist-packages (from requests->kaggle) (3.6)\n",
            "Downloading multilabel-classification-dataset.zip to /content\n",
            "  0% 0.00/11.4M [00:00<?, ?B/s]\n",
            "100% 11.4M/11.4M [00:00<00:00, 245MB/s]\n",
            "data extracted\n"
          ]
        }
      ]
    },
    {
      "cell_type": "markdown",
      "source": [
        "data preparation"
      ],
      "metadata": {
        "id": "8QxauAMKM43x"
      }
    },
    {
      "cell_type": "code",
      "source": [
        "data_train=pd.read_csv('/content/train.csv')\n",
        "data_test=pd.read_csv('/content/test.csv')"
      ],
      "metadata": {
        "id": "kBf50iMJEEpi"
      },
      "execution_count": 4,
      "outputs": []
    },
    {
      "cell_type": "code",
      "source": [
        "data_horizontal = data_train.columns\n",
        "print(data_horizontal)\n",
        "x_train = data_train[data_horizontal[1:3]]\n",
        "y_train = data_train[data_horizontal[3:]]\n",
        "x_test = data_test[data_horizontal[1:3]]"
      ],
      "metadata": {
        "colab": {
          "base_uri": "https://localhost:8080/"
        },
        "id": "lG1pfk7BEH1x",
        "outputId": "b97852eb-099e-4d88-ca85-c094d6d590a4"
      },
      "execution_count": 5,
      "outputs": [
        {
          "output_type": "stream",
          "name": "stdout",
          "text": [
            "Index(['ID', 'TITLE', 'ABSTRACT', 'Computer Science', 'Physics', 'Mathematics',\n",
            "       'Statistics', 'Quantitative Biology', 'Quantitative Finance'],\n",
            "      dtype='object')\n"
          ]
        }
      ]
    },
    {
      "cell_type": "code",
      "source": [
        "data_train.shape"
      ],
      "metadata": {
        "colab": {
          "base_uri": "https://localhost:8080/"
        },
        "id": "-I0_ZMwCEKbo",
        "outputId": "7b85ee5a-a2ea-4b18-9c99-a674abd1d460"
      },
      "execution_count": 6,
      "outputs": [
        {
          "output_type": "execute_result",
          "data": {
            "text/plain": [
              "(20972, 9)"
            ]
          },
          "metadata": {},
          "execution_count": 6
        }
      ]
    },
    {
      "cell_type": "code",
      "source": [
        "data_test.shape"
      ],
      "metadata": {
        "colab": {
          "base_uri": "https://localhost:8080/"
        },
        "id": "K8_P2iP7ENGH",
        "outputId": "8b030762-65b3-4371-8bc5-0d9c0af0317e"
      },
      "execution_count": 7,
      "outputs": [
        {
          "output_type": "execute_result",
          "data": {
            "text/plain": [
              "(8989, 3)"
            ]
          },
          "metadata": {},
          "execution_count": 7
        }
      ]
    },
    {
      "cell_type": "code",
      "source": [
        "data_train.head()"
      ],
      "metadata": {
        "colab": {
          "base_uri": "https://localhost:8080/",
          "height": 467
        },
        "id": "OszapUIQEQCe",
        "outputId": "934f9b1f-d576-4f6c-ab4d-a06efcf615f2"
      },
      "execution_count": 8,
      "outputs": [
        {
          "output_type": "execute_result",
          "data": {
            "text/plain": [
              "   ID                                              TITLE  \\\n",
              "0   1        Reconstructing Subject-Specific Effect Maps   \n",
              "1   2                 Rotation Invariance Neural Network   \n",
              "2   3  Spherical polyharmonics and Poisson kernels fo...   \n",
              "3   4  A finite element approximation for the stochas...   \n",
              "4   5  Comparative study of Discrete Wavelet Transfor...   \n",
              "\n",
              "                                            ABSTRACT  Computer Science  \\\n",
              "0    Predictive models allow subject-specific inf...                 1   \n",
              "1    Rotation invariance and translation invarian...                 1   \n",
              "2    We introduce and develop the notion of spher...                 0   \n",
              "3    The stochastic Landau--Lifshitz--Gilbert (LL...                 0   \n",
              "4    Fourier-transform infra-red (FTIR) spectra o...                 1   \n",
              "\n",
              "   Physics  Mathematics  Statistics  Quantitative Biology  \\\n",
              "0        0            0           0                     0   \n",
              "1        0            0           0                     0   \n",
              "2        0            1           0                     0   \n",
              "3        0            1           0                     0   \n",
              "4        0            0           1                     0   \n",
              "\n",
              "   Quantitative Finance  \n",
              "0                     0  \n",
              "1                     0  \n",
              "2                     0  \n",
              "3                     0  \n",
              "4                     0  "
            ],
            "text/html": [
              "\n",
              "  <div id=\"df-fbaafd72-899e-4095-8f94-2fda9438c3d1\" class=\"colab-df-container\">\n",
              "    <div>\n",
              "<style scoped>\n",
              "    .dataframe tbody tr th:only-of-type {\n",
              "        vertical-align: middle;\n",
              "    }\n",
              "\n",
              "    .dataframe tbody tr th {\n",
              "        vertical-align: top;\n",
              "    }\n",
              "\n",
              "    .dataframe thead th {\n",
              "        text-align: right;\n",
              "    }\n",
              "</style>\n",
              "<table border=\"1\" class=\"dataframe\">\n",
              "  <thead>\n",
              "    <tr style=\"text-align: right;\">\n",
              "      <th></th>\n",
              "      <th>ID</th>\n",
              "      <th>TITLE</th>\n",
              "      <th>ABSTRACT</th>\n",
              "      <th>Computer Science</th>\n",
              "      <th>Physics</th>\n",
              "      <th>Mathematics</th>\n",
              "      <th>Statistics</th>\n",
              "      <th>Quantitative Biology</th>\n",
              "      <th>Quantitative Finance</th>\n",
              "    </tr>\n",
              "  </thead>\n",
              "  <tbody>\n",
              "    <tr>\n",
              "      <th>0</th>\n",
              "      <td>1</td>\n",
              "      <td>Reconstructing Subject-Specific Effect Maps</td>\n",
              "      <td>Predictive models allow subject-specific inf...</td>\n",
              "      <td>1</td>\n",
              "      <td>0</td>\n",
              "      <td>0</td>\n",
              "      <td>0</td>\n",
              "      <td>0</td>\n",
              "      <td>0</td>\n",
              "    </tr>\n",
              "    <tr>\n",
              "      <th>1</th>\n",
              "      <td>2</td>\n",
              "      <td>Rotation Invariance Neural Network</td>\n",
              "      <td>Rotation invariance and translation invarian...</td>\n",
              "      <td>1</td>\n",
              "      <td>0</td>\n",
              "      <td>0</td>\n",
              "      <td>0</td>\n",
              "      <td>0</td>\n",
              "      <td>0</td>\n",
              "    </tr>\n",
              "    <tr>\n",
              "      <th>2</th>\n",
              "      <td>3</td>\n",
              "      <td>Spherical polyharmonics and Poisson kernels fo...</td>\n",
              "      <td>We introduce and develop the notion of spher...</td>\n",
              "      <td>0</td>\n",
              "      <td>0</td>\n",
              "      <td>1</td>\n",
              "      <td>0</td>\n",
              "      <td>0</td>\n",
              "      <td>0</td>\n",
              "    </tr>\n",
              "    <tr>\n",
              "      <th>3</th>\n",
              "      <td>4</td>\n",
              "      <td>A finite element approximation for the stochas...</td>\n",
              "      <td>The stochastic Landau--Lifshitz--Gilbert (LL...</td>\n",
              "      <td>0</td>\n",
              "      <td>0</td>\n",
              "      <td>1</td>\n",
              "      <td>0</td>\n",
              "      <td>0</td>\n",
              "      <td>0</td>\n",
              "    </tr>\n",
              "    <tr>\n",
              "      <th>4</th>\n",
              "      <td>5</td>\n",
              "      <td>Comparative study of Discrete Wavelet Transfor...</td>\n",
              "      <td>Fourier-transform infra-red (FTIR) spectra o...</td>\n",
              "      <td>1</td>\n",
              "      <td>0</td>\n",
              "      <td>0</td>\n",
              "      <td>1</td>\n",
              "      <td>0</td>\n",
              "      <td>0</td>\n",
              "    </tr>\n",
              "  </tbody>\n",
              "</table>\n",
              "</div>\n",
              "    <div class=\"colab-df-buttons\">\n",
              "\n",
              "  <div class=\"colab-df-container\">\n",
              "    <button class=\"colab-df-convert\" onclick=\"convertToInteractive('df-fbaafd72-899e-4095-8f94-2fda9438c3d1')\"\n",
              "            title=\"Convert this dataframe to an interactive table.\"\n",
              "            style=\"display:none;\">\n",
              "\n",
              "  <svg xmlns=\"http://www.w3.org/2000/svg\" height=\"24px\" viewBox=\"0 -960 960 960\">\n",
              "    <path d=\"M120-120v-720h720v720H120Zm60-500h600v-160H180v160Zm220 220h160v-160H400v160Zm0 220h160v-160H400v160ZM180-400h160v-160H180v160Zm440 0h160v-160H620v160ZM180-180h160v-160H180v160Zm440 0h160v-160H620v160Z\"/>\n",
              "  </svg>\n",
              "    </button>\n",
              "\n",
              "  <style>\n",
              "    .colab-df-container {\n",
              "      display:flex;\n",
              "      gap: 12px;\n",
              "    }\n",
              "\n",
              "    .colab-df-convert {\n",
              "      background-color: #E8F0FE;\n",
              "      border: none;\n",
              "      border-radius: 50%;\n",
              "      cursor: pointer;\n",
              "      display: none;\n",
              "      fill: #1967D2;\n",
              "      height: 32px;\n",
              "      padding: 0 0 0 0;\n",
              "      width: 32px;\n",
              "    }\n",
              "\n",
              "    .colab-df-convert:hover {\n",
              "      background-color: #E2EBFA;\n",
              "      box-shadow: 0px 1px 2px rgba(60, 64, 67, 0.3), 0px 1px 3px 1px rgba(60, 64, 67, 0.15);\n",
              "      fill: #174EA6;\n",
              "    }\n",
              "\n",
              "    .colab-df-buttons div {\n",
              "      margin-bottom: 4px;\n",
              "    }\n",
              "\n",
              "    [theme=dark] .colab-df-convert {\n",
              "      background-color: #3B4455;\n",
              "      fill: #D2E3FC;\n",
              "    }\n",
              "\n",
              "    [theme=dark] .colab-df-convert:hover {\n",
              "      background-color: #434B5C;\n",
              "      box-shadow: 0px 1px 3px 1px rgba(0, 0, 0, 0.15);\n",
              "      filter: drop-shadow(0px 1px 2px rgba(0, 0, 0, 0.3));\n",
              "      fill: #FFFFFF;\n",
              "    }\n",
              "  </style>\n",
              "\n",
              "    <script>\n",
              "      const buttonEl =\n",
              "        document.querySelector('#df-fbaafd72-899e-4095-8f94-2fda9438c3d1 button.colab-df-convert');\n",
              "      buttonEl.style.display =\n",
              "        google.colab.kernel.accessAllowed ? 'block' : 'none';\n",
              "\n",
              "      async function convertToInteractive(key) {\n",
              "        const element = document.querySelector('#df-fbaafd72-899e-4095-8f94-2fda9438c3d1');\n",
              "        const dataTable =\n",
              "          await google.colab.kernel.invokeFunction('convertToInteractive',\n",
              "                                                    [key], {});\n",
              "        if (!dataTable) return;\n",
              "\n",
              "        const docLinkHtml = 'Like what you see? Visit the ' +\n",
              "          '<a target=\"_blank\" href=https://colab.research.google.com/notebooks/data_table.ipynb>data table notebook</a>'\n",
              "          + ' to learn more about interactive tables.';\n",
              "        element.innerHTML = '';\n",
              "        dataTable['output_type'] = 'display_data';\n",
              "        await google.colab.output.renderOutput(dataTable, element);\n",
              "        const docLink = document.createElement('div');\n",
              "        docLink.innerHTML = docLinkHtml;\n",
              "        element.appendChild(docLink);\n",
              "      }\n",
              "    </script>\n",
              "  </div>\n",
              "\n",
              "\n",
              "<div id=\"df-c1236894-b9b9-43fc-8542-b2232d167f02\">\n",
              "  <button class=\"colab-df-quickchart\" onclick=\"quickchart('df-c1236894-b9b9-43fc-8542-b2232d167f02')\"\n",
              "            title=\"Suggest charts\"\n",
              "            style=\"display:none;\">\n",
              "\n",
              "<svg xmlns=\"http://www.w3.org/2000/svg\" height=\"24px\"viewBox=\"0 0 24 24\"\n",
              "     width=\"24px\">\n",
              "    <g>\n",
              "        <path d=\"M19 3H5c-1.1 0-2 .9-2 2v14c0 1.1.9 2 2 2h14c1.1 0 2-.9 2-2V5c0-1.1-.9-2-2-2zM9 17H7v-7h2v7zm4 0h-2V7h2v10zm4 0h-2v-4h2v4z\"/>\n",
              "    </g>\n",
              "</svg>\n",
              "  </button>\n",
              "\n",
              "<style>\n",
              "  .colab-df-quickchart {\n",
              "      --bg-color: #E8F0FE;\n",
              "      --fill-color: #1967D2;\n",
              "      --hover-bg-color: #E2EBFA;\n",
              "      --hover-fill-color: #174EA6;\n",
              "      --disabled-fill-color: #AAA;\n",
              "      --disabled-bg-color: #DDD;\n",
              "  }\n",
              "\n",
              "  [theme=dark] .colab-df-quickchart {\n",
              "      --bg-color: #3B4455;\n",
              "      --fill-color: #D2E3FC;\n",
              "      --hover-bg-color: #434B5C;\n",
              "      --hover-fill-color: #FFFFFF;\n",
              "      --disabled-bg-color: #3B4455;\n",
              "      --disabled-fill-color: #666;\n",
              "  }\n",
              "\n",
              "  .colab-df-quickchart {\n",
              "    background-color: var(--bg-color);\n",
              "    border: none;\n",
              "    border-radius: 50%;\n",
              "    cursor: pointer;\n",
              "    display: none;\n",
              "    fill: var(--fill-color);\n",
              "    height: 32px;\n",
              "    padding: 0;\n",
              "    width: 32px;\n",
              "  }\n",
              "\n",
              "  .colab-df-quickchart:hover {\n",
              "    background-color: var(--hover-bg-color);\n",
              "    box-shadow: 0 1px 2px rgba(60, 64, 67, 0.3), 0 1px 3px 1px rgba(60, 64, 67, 0.15);\n",
              "    fill: var(--button-hover-fill-color);\n",
              "  }\n",
              "\n",
              "  .colab-df-quickchart-complete:disabled,\n",
              "  .colab-df-quickchart-complete:disabled:hover {\n",
              "    background-color: var(--disabled-bg-color);\n",
              "    fill: var(--disabled-fill-color);\n",
              "    box-shadow: none;\n",
              "  }\n",
              "\n",
              "  .colab-df-spinner {\n",
              "    border: 2px solid var(--fill-color);\n",
              "    border-color: transparent;\n",
              "    border-bottom-color: var(--fill-color);\n",
              "    animation:\n",
              "      spin 1s steps(1) infinite;\n",
              "  }\n",
              "\n",
              "  @keyframes spin {\n",
              "    0% {\n",
              "      border-color: transparent;\n",
              "      border-bottom-color: var(--fill-color);\n",
              "      border-left-color: var(--fill-color);\n",
              "    }\n",
              "    20% {\n",
              "      border-color: transparent;\n",
              "      border-left-color: var(--fill-color);\n",
              "      border-top-color: var(--fill-color);\n",
              "    }\n",
              "    30% {\n",
              "      border-color: transparent;\n",
              "      border-left-color: var(--fill-color);\n",
              "      border-top-color: var(--fill-color);\n",
              "      border-right-color: var(--fill-color);\n",
              "    }\n",
              "    40% {\n",
              "      border-color: transparent;\n",
              "      border-right-color: var(--fill-color);\n",
              "      border-top-color: var(--fill-color);\n",
              "    }\n",
              "    60% {\n",
              "      border-color: transparent;\n",
              "      border-right-color: var(--fill-color);\n",
              "    }\n",
              "    80% {\n",
              "      border-color: transparent;\n",
              "      border-right-color: var(--fill-color);\n",
              "      border-bottom-color: var(--fill-color);\n",
              "    }\n",
              "    90% {\n",
              "      border-color: transparent;\n",
              "      border-bottom-color: var(--fill-color);\n",
              "    }\n",
              "  }\n",
              "</style>\n",
              "\n",
              "  <script>\n",
              "    async function quickchart(key) {\n",
              "      const quickchartButtonEl =\n",
              "        document.querySelector('#' + key + ' button');\n",
              "      quickchartButtonEl.disabled = true;  // To prevent multiple clicks.\n",
              "      quickchartButtonEl.classList.add('colab-df-spinner');\n",
              "      try {\n",
              "        const charts = await google.colab.kernel.invokeFunction(\n",
              "            'suggestCharts', [key], {});\n",
              "      } catch (error) {\n",
              "        console.error('Error during call to suggestCharts:', error);\n",
              "      }\n",
              "      quickchartButtonEl.classList.remove('colab-df-spinner');\n",
              "      quickchartButtonEl.classList.add('colab-df-quickchart-complete');\n",
              "    }\n",
              "    (() => {\n",
              "      let quickchartButtonEl =\n",
              "        document.querySelector('#df-c1236894-b9b9-43fc-8542-b2232d167f02 button');\n",
              "      quickchartButtonEl.style.display =\n",
              "        google.colab.kernel.accessAllowed ? 'block' : 'none';\n",
              "    })();\n",
              "  </script>\n",
              "</div>\n",
              "\n",
              "    </div>\n",
              "  </div>\n"
            ],
            "application/vnd.google.colaboratory.intrinsic+json": {
              "type": "dataframe",
              "variable_name": "data_train",
              "summary": "{\n  \"name\": \"data_train\",\n  \"rows\": 20972,\n  \"fields\": [\n    {\n      \"column\": \"ID\",\n      \"properties\": {\n        \"dtype\": \"number\",\n        \"std\": 6054,\n        \"min\": 1,\n        \"max\": 20972,\n        \"num_unique_values\": 20972,\n        \"samples\": [\n          20258,\n          483,\n          4190\n        ],\n        \"semantic_type\": \"\",\n        \"description\": \"\"\n      }\n    },\n    {\n      \"column\": \"TITLE\",\n      \"properties\": {\n        \"dtype\": \"string\",\n        \"num_unique_values\": 20972,\n        \"samples\": [\n          \"Dynamic Layer Normalization for Adaptive Neural Acoustic Modeling in Speech Recognition\",\n          \"Susceptibility Propagation by Using Diagonal Consistency\",\n          \"The Robot Routing Problem for Collecting Aggregate Stochastic Rewards\"\n        ],\n        \"semantic_type\": \"\",\n        \"description\": \"\"\n      }\n    },\n    {\n      \"column\": \"ABSTRACT\",\n      \"properties\": {\n        \"dtype\": \"string\",\n        \"num_unique_values\": 20972,\n        \"samples\": [\n          \"  Layer normalization is a recently introduced technique for normalizing the\\nactivities of neurons in deep neural networks to improve the training speed and\\nstability. In this paper, we introduce a new layer normalization technique\\ncalled Dynamic Layer Normalization (DLN) for adaptive neural acoustic modeling\\nin speech recognition. By dynamically generating the scaling and shifting\\nparameters in layer normalization, DLN adapts neural acoustic models to the\\nacoustic variability arising from various factors such as speakers, channel\\nnoises, and environments. Unlike other adaptive acoustic models, our proposed\\napproach does not require additional adaptation data or speaker information\\nsuch as i-vectors. Moreover, the model size is fixed as it dynamically\\ngenerates adaptation parameters. We apply our proposed DLN to deep\\nbidirectional LSTM acoustic models and evaluate them on two benchmark datasets\\nfor large vocabulary ASR experiments: WSJ and TED-LIUM release 2. The\\nexperimental results show that our DLN improves neural acoustic models in terms\\nof transcription accuracy by dynamically adapting to various speakers and\\nenvironments.\\n\",\n          \"  A susceptibility propagation that is constructed by combining a belief\\npropagation and a linear response method is used for approximate computation\\nfor Markov random fields. Herein, we formulate a new, improved susceptibility\\npropagation by using the concept of a diagonal matching method that is based on\\nmean-field approaches to inverse Ising problems. The proposed susceptibility\\npropagation is robust for various network structures, and it is reduced to the\\nordinary susceptibility propagation and to the adaptive\\nThouless-Anderson-Palmer equation in special cases.\\n\",\n          \"  We propose a new model for formalizing reward collection problems on graphs\\nwith dynamically generated rewards which may appear and disappear based on a\\nstochastic model. The *robot routing problem* is modeled as a graph whose nodes\\nare stochastic processes generating potential rewards over discrete time. The\\nrewards are generated according to the stochastic process, but at each step, an\\nexisting reward disappears with a given probability. The edges in the graph\\nencode the (unit-distance) paths between the rewards' locations. On visiting a\\nnode, the robot collects the accumulated reward at the node at that time, but\\ntraveling between the nodes takes time. The optimization question asks to\\ncompute an optimal (or epsilon-optimal) path that maximizes the expected\\ncollected rewards.\\nWe consider the finite and infinite-horizon robot routing problems. For\\nfinite-horizon, the goal is to maximize the total expected reward, while for\\ninfinite horizon we consider limit-average objectives. We study the\\ncomputational and strategy complexity of these problems, establish NP-lower\\nbounds and show that optimal strategies require memory in general. We also\\nprovide an algorithm for computing epsilon-optimal infinite paths for arbitrary\\nepsilon > 0.\\n\"\n        ],\n        \"semantic_type\": \"\",\n        \"description\": \"\"\n      }\n    },\n    {\n      \"column\": \"Computer Science\",\n      \"properties\": {\n        \"dtype\": \"number\",\n        \"std\": 0,\n        \"min\": 0,\n        \"max\": 1,\n        \"num_unique_values\": 2,\n        \"samples\": [\n          0,\n          1\n        ],\n        \"semantic_type\": \"\",\n        \"description\": \"\"\n      }\n    },\n    {\n      \"column\": \"Physics\",\n      \"properties\": {\n        \"dtype\": \"number\",\n        \"std\": 0,\n        \"min\": 0,\n        \"max\": 1,\n        \"num_unique_values\": 2,\n        \"samples\": [\n          1,\n          0\n        ],\n        \"semantic_type\": \"\",\n        \"description\": \"\"\n      }\n    },\n    {\n      \"column\": \"Mathematics\",\n      \"properties\": {\n        \"dtype\": \"number\",\n        \"std\": 0,\n        \"min\": 0,\n        \"max\": 1,\n        \"num_unique_values\": 2,\n        \"samples\": [\n          1,\n          0\n        ],\n        \"semantic_type\": \"\",\n        \"description\": \"\"\n      }\n    },\n    {\n      \"column\": \"Statistics\",\n      \"properties\": {\n        \"dtype\": \"number\",\n        \"std\": 0,\n        \"min\": 0,\n        \"max\": 1,\n        \"num_unique_values\": 2,\n        \"samples\": [\n          1,\n          0\n        ],\n        \"semantic_type\": \"\",\n        \"description\": \"\"\n      }\n    },\n    {\n      \"column\": \"Quantitative Biology\",\n      \"properties\": {\n        \"dtype\": \"number\",\n        \"std\": 0,\n        \"min\": 0,\n        \"max\": 1,\n        \"num_unique_values\": 2,\n        \"samples\": [\n          1,\n          0\n        ],\n        \"semantic_type\": \"\",\n        \"description\": \"\"\n      }\n    },\n    {\n      \"column\": \"Quantitative Finance\",\n      \"properties\": {\n        \"dtype\": \"number\",\n        \"std\": 0,\n        \"min\": 0,\n        \"max\": 1,\n        \"num_unique_values\": 2,\n        \"samples\": [\n          1,\n          0\n        ],\n        \"semantic_type\": \"\",\n        \"description\": \"\"\n      }\n    }\n  ]\n}"
            }
          },
          "metadata": {},
          "execution_count": 8
        }
      ]
    },
    {
      "cell_type": "code",
      "source": [
        "data_test.head()"
      ],
      "metadata": {
        "colab": {
          "base_uri": "https://localhost:8080/",
          "height": 206
        },
        "id": "FCn_vPnQES1t",
        "outputId": "db7ccb79-190a-47e1-ae3c-fcc48cb4315d"
      },
      "execution_count": 9,
      "outputs": [
        {
          "output_type": "execute_result",
          "data": {
            "text/plain": [
              "      ID                                              TITLE  \\\n",
              "0  20973  Closed-form Marginal Likelihood in Gamma-Poiss...   \n",
              "1  20974  Laboratory mid-IR spectra of equilibrated and ...   \n",
              "2  20975         Case For Static AMSDU Aggregation in WLANs   \n",
              "3  20976  The $Gaia$-ESO Survey: the inner disk intermed...   \n",
              "4  20977  Witness-Functions versus Interpretation-Functi...   \n",
              "\n",
              "                                            ABSTRACT  \n",
              "0    We present novel understandings of the Gamma...  \n",
              "1    Meteorites contain minerals from Solar Syste...  \n",
              "2    Frame aggregation is a mechanism by which mu...  \n",
              "3    Milky Way open clusters are very diverse in ...  \n",
              "4    Proving that a cryptographic protocol is cor...  "
            ],
            "text/html": [
              "\n",
              "  <div id=\"df-47c2a579-99a2-4c58-bf5c-c7eb3f3a4d93\" class=\"colab-df-container\">\n",
              "    <div>\n",
              "<style scoped>\n",
              "    .dataframe tbody tr th:only-of-type {\n",
              "        vertical-align: middle;\n",
              "    }\n",
              "\n",
              "    .dataframe tbody tr th {\n",
              "        vertical-align: top;\n",
              "    }\n",
              "\n",
              "    .dataframe thead th {\n",
              "        text-align: right;\n",
              "    }\n",
              "</style>\n",
              "<table border=\"1\" class=\"dataframe\">\n",
              "  <thead>\n",
              "    <tr style=\"text-align: right;\">\n",
              "      <th></th>\n",
              "      <th>ID</th>\n",
              "      <th>TITLE</th>\n",
              "      <th>ABSTRACT</th>\n",
              "    </tr>\n",
              "  </thead>\n",
              "  <tbody>\n",
              "    <tr>\n",
              "      <th>0</th>\n",
              "      <td>20973</td>\n",
              "      <td>Closed-form Marginal Likelihood in Gamma-Poiss...</td>\n",
              "      <td>We present novel understandings of the Gamma...</td>\n",
              "    </tr>\n",
              "    <tr>\n",
              "      <th>1</th>\n",
              "      <td>20974</td>\n",
              "      <td>Laboratory mid-IR spectra of equilibrated and ...</td>\n",
              "      <td>Meteorites contain minerals from Solar Syste...</td>\n",
              "    </tr>\n",
              "    <tr>\n",
              "      <th>2</th>\n",
              "      <td>20975</td>\n",
              "      <td>Case For Static AMSDU Aggregation in WLANs</td>\n",
              "      <td>Frame aggregation is a mechanism by which mu...</td>\n",
              "    </tr>\n",
              "    <tr>\n",
              "      <th>3</th>\n",
              "      <td>20976</td>\n",
              "      <td>The $Gaia$-ESO Survey: the inner disk intermed...</td>\n",
              "      <td>Milky Way open clusters are very diverse in ...</td>\n",
              "    </tr>\n",
              "    <tr>\n",
              "      <th>4</th>\n",
              "      <td>20977</td>\n",
              "      <td>Witness-Functions versus Interpretation-Functi...</td>\n",
              "      <td>Proving that a cryptographic protocol is cor...</td>\n",
              "    </tr>\n",
              "  </tbody>\n",
              "</table>\n",
              "</div>\n",
              "    <div class=\"colab-df-buttons\">\n",
              "\n",
              "  <div class=\"colab-df-container\">\n",
              "    <button class=\"colab-df-convert\" onclick=\"convertToInteractive('df-47c2a579-99a2-4c58-bf5c-c7eb3f3a4d93')\"\n",
              "            title=\"Convert this dataframe to an interactive table.\"\n",
              "            style=\"display:none;\">\n",
              "\n",
              "  <svg xmlns=\"http://www.w3.org/2000/svg\" height=\"24px\" viewBox=\"0 -960 960 960\">\n",
              "    <path d=\"M120-120v-720h720v720H120Zm60-500h600v-160H180v160Zm220 220h160v-160H400v160Zm0 220h160v-160H400v160ZM180-400h160v-160H180v160Zm440 0h160v-160H620v160ZM180-180h160v-160H180v160Zm440 0h160v-160H620v160Z\"/>\n",
              "  </svg>\n",
              "    </button>\n",
              "\n",
              "  <style>\n",
              "    .colab-df-container {\n",
              "      display:flex;\n",
              "      gap: 12px;\n",
              "    }\n",
              "\n",
              "    .colab-df-convert {\n",
              "      background-color: #E8F0FE;\n",
              "      border: none;\n",
              "      border-radius: 50%;\n",
              "      cursor: pointer;\n",
              "      display: none;\n",
              "      fill: #1967D2;\n",
              "      height: 32px;\n",
              "      padding: 0 0 0 0;\n",
              "      width: 32px;\n",
              "    }\n",
              "\n",
              "    .colab-df-convert:hover {\n",
              "      background-color: #E2EBFA;\n",
              "      box-shadow: 0px 1px 2px rgba(60, 64, 67, 0.3), 0px 1px 3px 1px rgba(60, 64, 67, 0.15);\n",
              "      fill: #174EA6;\n",
              "    }\n",
              "\n",
              "    .colab-df-buttons div {\n",
              "      margin-bottom: 4px;\n",
              "    }\n",
              "\n",
              "    [theme=dark] .colab-df-convert {\n",
              "      background-color: #3B4455;\n",
              "      fill: #D2E3FC;\n",
              "    }\n",
              "\n",
              "    [theme=dark] .colab-df-convert:hover {\n",
              "      background-color: #434B5C;\n",
              "      box-shadow: 0px 1px 3px 1px rgba(0, 0, 0, 0.15);\n",
              "      filter: drop-shadow(0px 1px 2px rgba(0, 0, 0, 0.3));\n",
              "      fill: #FFFFFF;\n",
              "    }\n",
              "  </style>\n",
              "\n",
              "    <script>\n",
              "      const buttonEl =\n",
              "        document.querySelector('#df-47c2a579-99a2-4c58-bf5c-c7eb3f3a4d93 button.colab-df-convert');\n",
              "      buttonEl.style.display =\n",
              "        google.colab.kernel.accessAllowed ? 'block' : 'none';\n",
              "\n",
              "      async function convertToInteractive(key) {\n",
              "        const element = document.querySelector('#df-47c2a579-99a2-4c58-bf5c-c7eb3f3a4d93');\n",
              "        const dataTable =\n",
              "          await google.colab.kernel.invokeFunction('convertToInteractive',\n",
              "                                                    [key], {});\n",
              "        if (!dataTable) return;\n",
              "\n",
              "        const docLinkHtml = 'Like what you see? Visit the ' +\n",
              "          '<a target=\"_blank\" href=https://colab.research.google.com/notebooks/data_table.ipynb>data table notebook</a>'\n",
              "          + ' to learn more about interactive tables.';\n",
              "        element.innerHTML = '';\n",
              "        dataTable['output_type'] = 'display_data';\n",
              "        await google.colab.output.renderOutput(dataTable, element);\n",
              "        const docLink = document.createElement('div');\n",
              "        docLink.innerHTML = docLinkHtml;\n",
              "        element.appendChild(docLink);\n",
              "      }\n",
              "    </script>\n",
              "  </div>\n",
              "\n",
              "\n",
              "<div id=\"df-106576d1-aa71-4965-b4fc-1e42f5cb7ce3\">\n",
              "  <button class=\"colab-df-quickchart\" onclick=\"quickchart('df-106576d1-aa71-4965-b4fc-1e42f5cb7ce3')\"\n",
              "            title=\"Suggest charts\"\n",
              "            style=\"display:none;\">\n",
              "\n",
              "<svg xmlns=\"http://www.w3.org/2000/svg\" height=\"24px\"viewBox=\"0 0 24 24\"\n",
              "     width=\"24px\">\n",
              "    <g>\n",
              "        <path d=\"M19 3H5c-1.1 0-2 .9-2 2v14c0 1.1.9 2 2 2h14c1.1 0 2-.9 2-2V5c0-1.1-.9-2-2-2zM9 17H7v-7h2v7zm4 0h-2V7h2v10zm4 0h-2v-4h2v4z\"/>\n",
              "    </g>\n",
              "</svg>\n",
              "  </button>\n",
              "\n",
              "<style>\n",
              "  .colab-df-quickchart {\n",
              "      --bg-color: #E8F0FE;\n",
              "      --fill-color: #1967D2;\n",
              "      --hover-bg-color: #E2EBFA;\n",
              "      --hover-fill-color: #174EA6;\n",
              "      --disabled-fill-color: #AAA;\n",
              "      --disabled-bg-color: #DDD;\n",
              "  }\n",
              "\n",
              "  [theme=dark] .colab-df-quickchart {\n",
              "      --bg-color: #3B4455;\n",
              "      --fill-color: #D2E3FC;\n",
              "      --hover-bg-color: #434B5C;\n",
              "      --hover-fill-color: #FFFFFF;\n",
              "      --disabled-bg-color: #3B4455;\n",
              "      --disabled-fill-color: #666;\n",
              "  }\n",
              "\n",
              "  .colab-df-quickchart {\n",
              "    background-color: var(--bg-color);\n",
              "    border: none;\n",
              "    border-radius: 50%;\n",
              "    cursor: pointer;\n",
              "    display: none;\n",
              "    fill: var(--fill-color);\n",
              "    height: 32px;\n",
              "    padding: 0;\n",
              "    width: 32px;\n",
              "  }\n",
              "\n",
              "  .colab-df-quickchart:hover {\n",
              "    background-color: var(--hover-bg-color);\n",
              "    box-shadow: 0 1px 2px rgba(60, 64, 67, 0.3), 0 1px 3px 1px rgba(60, 64, 67, 0.15);\n",
              "    fill: var(--button-hover-fill-color);\n",
              "  }\n",
              "\n",
              "  .colab-df-quickchart-complete:disabled,\n",
              "  .colab-df-quickchart-complete:disabled:hover {\n",
              "    background-color: var(--disabled-bg-color);\n",
              "    fill: var(--disabled-fill-color);\n",
              "    box-shadow: none;\n",
              "  }\n",
              "\n",
              "  .colab-df-spinner {\n",
              "    border: 2px solid var(--fill-color);\n",
              "    border-color: transparent;\n",
              "    border-bottom-color: var(--fill-color);\n",
              "    animation:\n",
              "      spin 1s steps(1) infinite;\n",
              "  }\n",
              "\n",
              "  @keyframes spin {\n",
              "    0% {\n",
              "      border-color: transparent;\n",
              "      border-bottom-color: var(--fill-color);\n",
              "      border-left-color: var(--fill-color);\n",
              "    }\n",
              "    20% {\n",
              "      border-color: transparent;\n",
              "      border-left-color: var(--fill-color);\n",
              "      border-top-color: var(--fill-color);\n",
              "    }\n",
              "    30% {\n",
              "      border-color: transparent;\n",
              "      border-left-color: var(--fill-color);\n",
              "      border-top-color: var(--fill-color);\n",
              "      border-right-color: var(--fill-color);\n",
              "    }\n",
              "    40% {\n",
              "      border-color: transparent;\n",
              "      border-right-color: var(--fill-color);\n",
              "      border-top-color: var(--fill-color);\n",
              "    }\n",
              "    60% {\n",
              "      border-color: transparent;\n",
              "      border-right-color: var(--fill-color);\n",
              "    }\n",
              "    80% {\n",
              "      border-color: transparent;\n",
              "      border-right-color: var(--fill-color);\n",
              "      border-bottom-color: var(--fill-color);\n",
              "    }\n",
              "    90% {\n",
              "      border-color: transparent;\n",
              "      border-bottom-color: var(--fill-color);\n",
              "    }\n",
              "  }\n",
              "</style>\n",
              "\n",
              "  <script>\n",
              "    async function quickchart(key) {\n",
              "      const quickchartButtonEl =\n",
              "        document.querySelector('#' + key + ' button');\n",
              "      quickchartButtonEl.disabled = true;  // To prevent multiple clicks.\n",
              "      quickchartButtonEl.classList.add('colab-df-spinner');\n",
              "      try {\n",
              "        const charts = await google.colab.kernel.invokeFunction(\n",
              "            'suggestCharts', [key], {});\n",
              "      } catch (error) {\n",
              "        console.error('Error during call to suggestCharts:', error);\n",
              "      }\n",
              "      quickchartButtonEl.classList.remove('colab-df-spinner');\n",
              "      quickchartButtonEl.classList.add('colab-df-quickchart-complete');\n",
              "    }\n",
              "    (() => {\n",
              "      let quickchartButtonEl =\n",
              "        document.querySelector('#df-106576d1-aa71-4965-b4fc-1e42f5cb7ce3 button');\n",
              "      quickchartButtonEl.style.display =\n",
              "        google.colab.kernel.accessAllowed ? 'block' : 'none';\n",
              "    })();\n",
              "  </script>\n",
              "</div>\n",
              "\n",
              "    </div>\n",
              "  </div>\n"
            ],
            "application/vnd.google.colaboratory.intrinsic+json": {
              "type": "dataframe",
              "variable_name": "data_test",
              "summary": "{\n  \"name\": \"data_test\",\n  \"rows\": 8989,\n  \"fields\": [\n    {\n      \"column\": \"ID\",\n      \"properties\": {\n        \"dtype\": \"number\",\n        \"std\": 2595,\n        \"min\": 20973,\n        \"max\": 29961,\n        \"num_unique_values\": 8989,\n        \"samples\": [\n          22853,\n          29324,\n          22148\n        ],\n        \"semantic_type\": \"\",\n        \"description\": \"\"\n      }\n    },\n    {\n      \"column\": \"TITLE\",\n      \"properties\": {\n        \"dtype\": \"string\",\n        \"num_unique_values\": 8989,\n        \"samples\": [\n          \"Open Loop Hyperparameter Optimization and Determinantal Point Processes\",\n          \"On denoising autoencoders trained to minimise binary cross-entropy\",\n          \"Telepath: Understanding Users from a Human Vision Perspective in Large-Scale Recommender Systems\"\n        ],\n        \"semantic_type\": \"\",\n        \"description\": \"\"\n      }\n    },\n    {\n      \"column\": \"ABSTRACT\",\n      \"properties\": {\n        \"dtype\": \"string\",\n        \"num_unique_values\": 8989,\n        \"samples\": [\n          \"  Driven by the need for parallelizable hyperparameter optimization methods,\\nthis paper studies \\\\emph{open loop} search methods: sequences that are\\npredetermined and can be generated before a single configuration is evaluated.\\nExamples include grid search, uniform random search, low discrepancy sequences,\\nand other sampling distributions. In particular, we propose the use of\\n$k$-determinantal point processes in hyperparameter optimization via random\\nsearch. Compared to conventional uniform random search where hyperparameter\\nsettings are sampled independently, a $k$-DPP promotes diversity. We describe\\nan approach that transforms hyperparameter search spaces for efficient use with\\na $k$-DPP. In addition, we introduce a novel Metropolis-Hastings algorithm\\nwhich can sample from $k$-DPPs defined over any space from which uniform\\nsamples can be drawn, including spaces with a mixture of discrete and\\ncontinuous dimensions or tree structure. Our experiments show significant\\nbenefits in realistic scenarios with a limited budget for training supervised\\nlearners, whether in serial or parallel.\\n\",\n          \"  Denoising autoencoders (DAEs) are powerful deep learning models used for\\nfeature extraction, data generation and network pre-training. DAEs consist of\\nan encoder and decoder which may be trained simultaneously to minimise a loss\\n(function) between an input and the reconstruction of a corrupted version of\\nthe input. There are two common loss functions used for training autoencoders,\\nthese include the mean-squared error (MSE) and the binary cross-entropy (BCE).\\nWhen training autoencoders on image data a natural choice of loss function is\\nBCE, since pixel values may be normalised to take values in [0,1] and the\\ndecoder model may be designed to generate samples that take values in (0,1). We\\nshow theoretically that DAEs trained to minimise BCE may be used to take\\ngradient steps in the data space towards regions of high probability under the\\ndata-generating distribution. Previously this had only been shown for DAEs\\ntrained using MSE. As a consequence of the theory, iterative application of a\\ntrained DAE moves a data sample from regions of low probability to regions of\\nhigher probability under the data-generating distribution. Firstly, we validate\\nthe theory by showing that novel data samples, consistent with the training\\ndata, may be synthesised when the initial data samples are random noise.\\nSecondly, we motivate the theory by showing that initial data samples\\nsynthesised via other methods may be improved via iterative application of a\\ntrained DAE to those initial samples.\\n\",\n          \"  Designing an e-commerce recommender system that serves hundreds of millions\\nof active users is a daunting challenge. From a human vision perspective,\\nthere're two key factors that affect users' behaviors: items' attractiveness\\nand their matching degree with users' interests. This paper proposes Telepath,\\na vision-based bionic recommender system model, which understands users from\\nsuch perspective. Telepath is a combination of a convolutional neural network\\n(CNN), a recurrent neural network (RNN) and deep neural networks (DNNs). Its\\nCNN subnetwork simulates the human vision system to extract key visual signals\\nof items' attractiveness and generate corresponding activations. Its RNN and\\nDNN subnetworks simulate cerebral cortex to understand users' interest based on\\nthe activations generated from browsed items. In practice, the Telepath model\\nhas been launched to JD's recommender system and advertising system. For one of\\nthe major item recommendation blocks on the JD app, click-through rate (CTR),\\ngross merchandise value (GMV) and orders have increased 1.59%, 8.16% and 8.71%\\nrespectively. For several major ads publishers of JD demand-side platform, CTR,\\nGMV and return on investment have increased 6.58%, 61.72% and 65.57%\\nrespectively by the first launch, and further increased 2.95%, 41.75% and\\n41.37% respectively by the second launch.\\n\"\n        ],\n        \"semantic_type\": \"\",\n        \"description\": \"\"\n      }\n    }\n  ]\n}"
            }
          },
          "metadata": {},
          "execution_count": 9
        }
      ]
    },
    {
      "cell_type": "markdown",
      "source": [
        "fun to convert text to vector"
      ],
      "metadata": {
        "id": "loEEsdl0NCFJ"
      }
    },
    {
      "cell_type": "code",
      "source": [
        "\n",
        "def text_to_vectors(df, max_len=128, max_features=None, vocab_size=None):\n",
        "\n",
        "  text_data = df['TITLE'] + ' ' + df['ABSTRACT']\n",
        "\n",
        "  tokenizer = Tokenizer(num_words=max_features if max_features else vocab_size)\n",
        "  tokenizer.fit_on_texts(text_data)\n",
        "  sequences = tokenizer.texts_to_sequences(text_data)\n",
        "\n",
        "  padded_sequences = pad_sequences(sequences, maxlen=max_len)\n",
        "\n",
        "  return padded_sequences"
      ],
      "metadata": {
        "id": "yuFp73n4EblG"
      },
      "execution_count": 10,
      "outputs": []
    },
    {
      "cell_type": "code",
      "source": [
        "x_train = text_to_vectors(x_train)\n",
        "x_test = text_to_vectors(x_test)"
      ],
      "metadata": {
        "id": "x1IlZAFhEmZD"
      },
      "execution_count": 11,
      "outputs": []
    },
    {
      "cell_type": "code",
      "source": [
        "print('x_train',x_train)"
      ],
      "metadata": {
        "colab": {
          "base_uri": "https://localhost:8080/"
        },
        "id": "A8ofAHGTEtFv",
        "outputId": "8bea3f9c-4832-4682-a526-2605f05530a5"
      },
      "execution_count": 12,
      "outputs": [
        {
          "output_type": "stream",
          "name": "stdout",
          "text": [
            "x_train [[  230    85    12 ... 13191     9    65]\n",
            " [    0     0     0 ...    28   364  2344]\n",
            " [    0     0     0 ...     1   990  2669]\n",
            " ...\n",
            " [    5    17  1118 ...     1  3454  2424]\n",
            " [    2   180   298 ...     6   206   847]\n",
            " [   10  8115  3446 ...     4  1498  2077]]\n"
          ]
        }
      ]
    },
    {
      "cell_type": "code",
      "source": [
        "print('x_test',x_test)"
      ],
      "metadata": {
        "colab": {
          "base_uri": "https://localhost:8080/"
        },
        "id": "ai65-O7uEwHO",
        "outputId": "ffccfa54-bace-4f22-ccfd-be416898a27b"
      },
      "execution_count": 13,
      "outputs": [
        {
          "output_type": "stream",
          "name": "stdout",
          "text": [
            "x_test [[    0     0     0 ...    11  3622   113]\n",
            " [  544     2   858 ...     2     1 15277]\n",
            " [11767  1484  2512 ...  2512  1093   194]\n",
            " ...\n",
            " [    0     0     0 ...     2  2531  2938]\n",
            " [    4  1533   211 ...   630  1847  3268]\n",
            " [    0     0     0 ...     1   121  3835]]\n"
          ]
        }
      ]
    },
    {
      "cell_type": "markdown",
      "source": [
        "build our model"
      ],
      "metadata": {
        "id": "l02ZcgM1NLnx"
      }
    },
    {
      "cell_type": "code",
      "source": [
        "\n",
        "input_shape=x_train.shape[1:]\n",
        "model= tf.keras.Sequential()\n",
        "model.add(Dense(64, activation=\"relu\", input_shape=input_shape)),\n",
        "model.add(Dense(32, activation=\"relu\")),\n",
        "model.add(Dense(6, activation=\"sigmoid\"))"
      ],
      "metadata": {
        "id": "TcehwXZwGR4G"
      },
      "execution_count": 14,
      "outputs": []
    },
    {
      "cell_type": "markdown",
      "source": [
        "compile our model"
      ],
      "metadata": {
        "id": "FTvpQ96VNXhk"
      }
    },
    {
      "cell_type": "code",
      "source": [
        "model.compile(loss=\"binary_crossentropy\", optimizer=\"adam\", metrics=[\"accuracy\"])\n"
      ],
      "metadata": {
        "id": "mPuaGqxfGNZV"
      },
      "execution_count": 15,
      "outputs": []
    },
    {
      "cell_type": "markdown",
      "source": [
        "fit our model and know accuracy"
      ],
      "metadata": {
        "id": "SkueWIvuNbb3"
      }
    },
    {
      "cell_type": "code",
      "source": [
        "\n",
        "model.fit(x_train, y_train, epochs=30, batch_size=32)"
      ],
      "metadata": {
        "colab": {
          "base_uri": "https://localhost:8080/"
        },
        "id": "avbiBd1rEv9Y",
        "outputId": "a062eaa3-b1a1-4a0b-b59e-07de6108d617"
      },
      "execution_count": 16,
      "outputs": [
        {
          "output_type": "stream",
          "name": "stdout",
          "text": [
            "Epoch 1/30\n",
            "656/656 [==============================] - 3s 2ms/step - loss: 104.1247 - accuracy: 0.3463\n",
            "Epoch 2/30\n",
            "656/656 [==============================] - 2s 3ms/step - loss: 0.7238 - accuracy: 0.4094\n",
            "Epoch 3/30\n",
            "656/656 [==============================] - 2s 2ms/step - loss: 0.5194 - accuracy: 0.4103\n",
            "Epoch 4/30\n",
            "656/656 [==============================] - 1s 2ms/step - loss: 0.4726 - accuracy: 0.4105\n",
            "Epoch 5/30\n",
            "656/656 [==============================] - 1s 2ms/step - loss: 0.4523 - accuracy: 0.4104\n",
            "Epoch 6/30\n",
            "656/656 [==============================] - 1s 2ms/step - loss: 0.4449 - accuracy: 0.4103\n",
            "Epoch 7/30\n",
            "656/656 [==============================] - 1s 2ms/step - loss: 0.4414 - accuracy: 0.4103\n",
            "Epoch 8/30\n",
            "656/656 [==============================] - 1s 2ms/step - loss: 0.4386 - accuracy: 0.4103\n",
            "Epoch 9/30\n",
            "656/656 [==============================] - 1s 2ms/step - loss: 0.4367 - accuracy: 0.4103\n",
            "Epoch 10/30\n",
            "656/656 [==============================] - 1s 2ms/step - loss: 0.4357 - accuracy: 0.4103\n",
            "Epoch 11/30\n",
            "656/656 [==============================] - 2s 3ms/step - loss: 0.4352 - accuracy: 0.4103\n",
            "Epoch 12/30\n",
            "656/656 [==============================] - 2s 3ms/step - loss: 0.4350 - accuracy: 0.4103\n",
            "Epoch 13/30\n",
            "656/656 [==============================] - 1s 2ms/step - loss: 0.4349 - accuracy: 0.4103\n",
            "Epoch 14/30\n",
            "656/656 [==============================] - 1s 2ms/step - loss: 0.4348 - accuracy: 0.4103\n",
            "Epoch 15/30\n",
            "656/656 [==============================] - 1s 2ms/step - loss: 0.4348 - accuracy: 0.4103\n",
            "Epoch 16/30\n",
            "656/656 [==============================] - 1s 2ms/step - loss: 0.4348 - accuracy: 0.4103\n",
            "Epoch 17/30\n",
            "656/656 [==============================] - 1s 2ms/step - loss: 0.4398 - accuracy: 0.4105\n",
            "Epoch 18/30\n",
            "656/656 [==============================] - 1s 2ms/step - loss: 0.4350 - accuracy: 0.4099\n",
            "Epoch 19/30\n",
            "656/656 [==============================] - 1s 2ms/step - loss: 0.4349 - accuracy: 0.4099\n",
            "Epoch 20/30\n",
            "656/656 [==============================] - 2s 3ms/step - loss: 0.4349 - accuracy: 0.4099\n",
            "Epoch 21/30\n",
            "656/656 [==============================] - 2s 3ms/step - loss: 0.4349 - accuracy: 0.4099\n",
            "Epoch 22/30\n",
            "656/656 [==============================] - 1s 2ms/step - loss: 0.4349 - accuracy: 0.4099\n",
            "Epoch 23/30\n",
            "656/656 [==============================] - 1s 2ms/step - loss: 0.4349 - accuracy: 0.4099\n",
            "Epoch 24/30\n",
            "656/656 [==============================] - 1s 2ms/step - loss: 0.4349 - accuracy: 0.4099\n",
            "Epoch 25/30\n",
            "656/656 [==============================] - 1s 2ms/step - loss: 0.4349 - accuracy: 0.4099\n",
            "Epoch 26/30\n",
            "656/656 [==============================] - 1s 2ms/step - loss: 0.4349 - accuracy: 0.4099\n",
            "Epoch 27/30\n",
            "656/656 [==============================] - 1s 2ms/step - loss: 0.4349 - accuracy: 0.4099\n",
            "Epoch 28/30\n",
            "656/656 [==============================] - 1s 2ms/step - loss: 0.4349 - accuracy: 0.4099\n",
            "Epoch 29/30\n",
            "656/656 [==============================] - 2s 2ms/step - loss: 0.4349 - accuracy: 0.4099\n",
            "Epoch 30/30\n",
            "656/656 [==============================] - 2s 3ms/step - loss: 0.4349 - accuracy: 0.4099\n"
          ]
        },
        {
          "output_type": "execute_result",
          "data": {
            "text/plain": [
              "<keras.src.callbacks.History at 0x7dc0f708ae90>"
            ]
          },
          "metadata": {},
          "execution_count": 16
        }
      ]
    },
    {
      "cell_type": "code",
      "source": [
        "score = model.evaluate(x_train,y_train)\n",
        "print(' accuracy:', score[1])"
      ],
      "metadata": {
        "colab": {
          "base_uri": "https://localhost:8080/"
        },
        "id": "PPsDDML8HJCV",
        "outputId": "d4b766b5-b0ac-48e6-a355-b9fb71acadeb"
      },
      "execution_count": 18,
      "outputs": [
        {
          "output_type": "stream",
          "name": "stdout",
          "text": [
            "656/656 [==============================] - 1s 1ms/step - loss: 0.4349 - accuracy: 0.4099\n",
            " accuracy: 0.4098798334598541\n"
          ]
        }
      ]
    }
  ]
}