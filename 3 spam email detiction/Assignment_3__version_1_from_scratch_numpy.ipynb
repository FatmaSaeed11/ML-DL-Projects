{
  "cells": [
    {
      "cell_type": "markdown",
      "metadata": {
        "id": "7R5B57UTcr_J"
      },
      "source": [
        "Spam email classifier from scratch"
      ]
    },
    {
      "cell_type": "markdown",
      "metadata": {
        "id": "RD-YVryRdOAN"
      },
      "source": [
        "1.import important libraries\n",
        "\n"
      ]
    },
    {
      "cell_type": "code",
      "execution_count": 130,
      "metadata": {
        "id": "xKQhsFUJcRry"
      },
      "outputs": [],
      "source": [
        "\n",
        "import numpy as np\n",
        "import matplotlib as plt\n",
        "import pandas as pd\n",
        "import seaborn as sns\n",
        "from sklearn.preprocessing import StandardScaler\n",
        "from sklearn.model_selection import train_test_split\n",
        "from sklearn.metrics import accuracy_score"
      ]
    },
    {
      "cell_type": "markdown",
      "metadata": {
        "id": "1kb8qKDatFPM"
      },
      "source": [
        "Build our logistic regression model from scratch"
      ]
    },
    {
      "cell_type": "code",
      "execution_count": 131,
      "metadata": {
        "id": "F6R0Kn6su-gw"
      },
      "outputs": [],
      "source": [
        "class Logistic_Regression():\n",
        "\n",
        "\n",
        "  #  learning rate and iterations\n",
        "  def __init__(self, learning_rate, no_of_iterations):\n",
        "\n",
        "    self.learning_rate = learning_rate\n",
        "    self.no_of_iterations = no_of_iterations\n",
        "\n",
        "  # fit model\n",
        "  def fit(self, X, Y):\n",
        "    self.m, self.n = X.shape\n",
        " # w and b intialization\n",
        "   self.w = np.zeros(self.n)\n",
        "    self.b = 0\n",
        "    self.X = X\n",
        "    self.Y = Y \n",
        "\n",
        "    for i in range(self.no_of_iterations):\n",
        "      self.update_weights()\n",
        "\n",
        "  def update_weights(self):\n",
        "\n",
        "    # sigmoid function\n",
        "    Y_hat = 1 / (1 + np.exp( - (self.X.dot(self.w) + self.b ) ))\n",
        "\n",
        "    # gradient\n",
        "    dw = (1/self.m)*np.dot(self.X.T, (Y_hat - self.Y))\n",
        "    db = (1/self.m)*np.sum(Y_hat - self.Y)\n",
        "\n",
        "    #  gradient descent\n",
        "    self.w = self.w - self.learning_rate * dw\n",
        "    self.b = self.b - self.learning_rate * db\n",
        "\n",
        "  #predict model\n",
        "  def predict(self, X):\n",
        "\n",
        "    Y_pred = 1 / (1 + np.exp( - (X.dot(self.w) + self.b ) ))\n",
        "    Y_pred = np.where( Y_pred > 0.5, 1, 0)\n",
        "    return Y_pred"
      ]
    },
    {
      "cell_type": "markdown",
      "metadata": {
        "id": "r3gNImV0cSaK"
      },
      "source": [
        "2.load dataset and data preprocessing"
      ]
    },
    {
      "cell_type": "code",
      "execution_count": 132,
      "metadata": {
        "colab": {
          "base_uri": "https://localhost:8080/"
        },
        "id": "BBB0Zxqbu0ZW",
        "outputId": "addef019-9a57-462b-9a79-7552a0eda735"
      },
      "outputs": [
        {
          "name": "stdout",
          "output_type": "stream",
          "text": [
            "Requirement already satisfied: ucimlrepo in /usr/local/lib/python3.10/dist-packages (0.0.3)\n"
          ]
        }
      ],
      "source": [
        "pip install ucimlrepo"
      ]
    },
    {
      "cell_type": "code",
      "execution_count": 133,
      "metadata": {
        "id": "SHlnOgtb1b-o"
      },
      "outputs": [],
      "source": [
        "from ucimlrepo import fetch_ucirepo\n",
        "\n",
        "# fetch dataset\n",
        "spambase = fetch_ucirepo(id=94)\n",
        "\n",
        "# data\n",
        "features =spambase.data.features\n",
        "target =spambase.data.targets"
      ]
    },
    {
      "cell_type": "code",
      "execution_count": 134,
      "metadata": {
        "colab": {
          "base_uri": "https://localhost:8080/"
        },
        "id": "A1gNsM4t4LJI",
        "outputId": "c5661e72-6073-452d-d0cf-b1afdffc6539"
      },
      "outputs": [
        {
          "name": "stdout",
          "output_type": "stream",
          "text": [
            "      word_freq_make  word_freq_address  word_freq_all  word_freq_3d  \\\n",
            "0               0.00               0.64           0.64           0.0   \n",
            "1               0.21               0.28           0.50           0.0   \n",
            "2               0.06               0.00           0.71           0.0   \n",
            "3               0.00               0.00           0.00           0.0   \n",
            "4               0.00               0.00           0.00           0.0   \n",
            "...              ...                ...            ...           ...   \n",
            "4596            0.31               0.00           0.62           0.0   \n",
            "4597            0.00               0.00           0.00           0.0   \n",
            "4598            0.30               0.00           0.30           0.0   \n",
            "4599            0.96               0.00           0.00           0.0   \n",
            "4600            0.00               0.00           0.65           0.0   \n",
            "\n",
            "      word_freq_our  word_freq_over  word_freq_remove  word_freq_internet  \\\n",
            "0              0.32            0.00              0.00                0.00   \n",
            "1              0.14            0.28              0.21                0.07   \n",
            "2              1.23            0.19              0.19                0.12   \n",
            "3              0.63            0.00              0.31                0.63   \n",
            "4              0.63            0.00              0.31                0.63   \n",
            "...             ...             ...               ...                 ...   \n",
            "4596           0.00            0.31              0.00                0.00   \n",
            "4597           0.00            0.00              0.00                0.00   \n",
            "4598           0.00            0.00              0.00                0.00   \n",
            "4599           0.32            0.00              0.00                0.00   \n",
            "4600           0.00            0.00              0.00                0.00   \n",
            "\n",
            "      word_freq_order  word_freq_mail  ...  word_freq_conference  char_freq_;  \\\n",
            "0                0.00            0.00  ...                   0.0        0.000   \n",
            "1                0.00            0.94  ...                   0.0        0.000   \n",
            "2                0.64            0.25  ...                   0.0        0.010   \n",
            "3                0.31            0.63  ...                   0.0        0.000   \n",
            "4                0.31            0.63  ...                   0.0        0.000   \n",
            "...               ...             ...  ...                   ...          ...   \n",
            "4596             0.00            0.00  ...                   0.0        0.000   \n",
            "4597             0.00            0.00  ...                   0.0        0.000   \n",
            "4598             0.00            0.00  ...                   0.0        0.102   \n",
            "4599             0.00            0.00  ...                   0.0        0.000   \n",
            "4600             0.00            0.00  ...                   0.0        0.000   \n",
            "\n",
            "      char_freq_(  char_freq_[  char_freq_!  char_freq_$  char_freq_#  \\\n",
            "0           0.000          0.0        0.778        0.000        0.000   \n",
            "1           0.132          0.0        0.372        0.180        0.048   \n",
            "2           0.143          0.0        0.276        0.184        0.010   \n",
            "3           0.137          0.0        0.137        0.000        0.000   \n",
            "4           0.135          0.0        0.135        0.000        0.000   \n",
            "...           ...          ...          ...          ...          ...   \n",
            "4596        0.232          0.0        0.000        0.000        0.000   \n",
            "4597        0.000          0.0        0.353        0.000        0.000   \n",
            "4598        0.718          0.0        0.000        0.000        0.000   \n",
            "4599        0.057          0.0        0.000        0.000        0.000   \n",
            "4600        0.000          0.0        0.125        0.000        0.000   \n",
            "\n",
            "      capital_run_length_average  capital_run_length_longest  \\\n",
            "0                          3.756                          61   \n",
            "1                          5.114                         101   \n",
            "2                          9.821                         485   \n",
            "3                          3.537                          40   \n",
            "4                          3.537                          40   \n",
            "...                          ...                         ...   \n",
            "4596                       1.142                           3   \n",
            "4597                       1.555                           4   \n",
            "4598                       1.404                           6   \n",
            "4599                       1.147                           5   \n",
            "4600                       1.250                           5   \n",
            "\n",
            "      capital_run_length_total  \n",
            "0                          278  \n",
            "1                         1028  \n",
            "2                         2259  \n",
            "3                          191  \n",
            "4                          191  \n",
            "...                        ...  \n",
            "4596                        88  \n",
            "4597                        14  \n",
            "4598                       118  \n",
            "4599                        78  \n",
            "4600                        40  \n",
            "\n",
            "[4601 rows x 57 columns]\n"
          ]
        }
      ],
      "source": [
        "print(features)"
      ]
    },
    {
      "cell_type": "code",
      "execution_count": 136,
      "metadata": {
        "colab": {
          "base_uri": "https://localhost:8080/"
        },
        "id": "2GivnFGX4bvP",
        "outputId": "0d8d10a9-d72c-4040-93e8-bdb1c146e4e5"
      },
      "outputs": [
        {
          "name": "stdout",
          "output_type": "stream",
          "text": [
            "      Class\n",
            "0         1\n",
            "1         1\n",
            "2         1\n",
            "3         1\n",
            "4         1\n",
            "...     ...\n",
            "4596      0\n",
            "4597      0\n",
            "4598      0\n",
            "4599      0\n",
            "4600      0\n",
            "\n",
            "[4601 rows x 1 columns]\n"
          ]
        }
      ],
      "source": [
        "print(target)"
      ]
    },
    {
      "cell_type": "code",
      "execution_count": 137,
      "metadata": {
        "colab": {
          "base_uri": "https://localhost:8080/",
          "height": 255
        },
        "id": "RoaPm0x-dw1T",
        "outputId": "282317e7-0ba2-4b27-9940-696e65efa178"
      },
      "outputs": [
        {
          "data": {
            "application/vnd.google.colaboratory.intrinsic+json": {
              "type": "dataframe",
              "variable_name": "features"
            },
            "text/html": [
              "\n",
              "  <div id=\"df-1efdfdda-ea54-4b9f-8f30-c1a9156b42dc\" class=\"colab-df-container\">\n",
              "    <div>\n",
              "<style scoped>\n",
              "    .dataframe tbody tr th:only-of-type {\n",
              "        vertical-align: middle;\n",
              "    }\n",
              "\n",
              "    .dataframe tbody tr th {\n",
              "        vertical-align: top;\n",
              "    }\n",
              "\n",
              "    .dataframe thead th {\n",
              "        text-align: right;\n",
              "    }\n",
              "</style>\n",
              "<table border=\"1\" class=\"dataframe\">\n",
              "  <thead>\n",
              "    <tr style=\"text-align: right;\">\n",
              "      <th></th>\n",
              "      <th>word_freq_make</th>\n",
              "      <th>word_freq_address</th>\n",
              "      <th>word_freq_all</th>\n",
              "      <th>word_freq_3d</th>\n",
              "      <th>word_freq_our</th>\n",
              "      <th>word_freq_over</th>\n",
              "      <th>word_freq_remove</th>\n",
              "      <th>word_freq_internet</th>\n",
              "      <th>word_freq_order</th>\n",
              "      <th>word_freq_mail</th>\n",
              "      <th>...</th>\n",
              "      <th>word_freq_conference</th>\n",
              "      <th>char_freq_;</th>\n",
              "      <th>char_freq_(</th>\n",
              "      <th>char_freq_[</th>\n",
              "      <th>char_freq_!</th>\n",
              "      <th>char_freq_$</th>\n",
              "      <th>char_freq_#</th>\n",
              "      <th>capital_run_length_average</th>\n",
              "      <th>capital_run_length_longest</th>\n",
              "      <th>capital_run_length_total</th>\n",
              "    </tr>\n",
              "  </thead>\n",
              "  <tbody>\n",
              "    <tr>\n",
              "      <th>0</th>\n",
              "      <td>0.00</td>\n",
              "      <td>0.64</td>\n",
              "      <td>0.64</td>\n",
              "      <td>0.0</td>\n",
              "      <td>0.32</td>\n",
              "      <td>0.00</td>\n",
              "      <td>0.00</td>\n",
              "      <td>0.00</td>\n",
              "      <td>0.00</td>\n",
              "      <td>0.00</td>\n",
              "      <td>...</td>\n",
              "      <td>0.0</td>\n",
              "      <td>0.00</td>\n",
              "      <td>0.000</td>\n",
              "      <td>0.0</td>\n",
              "      <td>0.778</td>\n",
              "      <td>0.000</td>\n",
              "      <td>0.000</td>\n",
              "      <td>3.756</td>\n",
              "      <td>61</td>\n",
              "      <td>278</td>\n",
              "    </tr>\n",
              "    <tr>\n",
              "      <th>1</th>\n",
              "      <td>0.21</td>\n",
              "      <td>0.28</td>\n",
              "      <td>0.50</td>\n",
              "      <td>0.0</td>\n",
              "      <td>0.14</td>\n",
              "      <td>0.28</td>\n",
              "      <td>0.21</td>\n",
              "      <td>0.07</td>\n",
              "      <td>0.00</td>\n",
              "      <td>0.94</td>\n",
              "      <td>...</td>\n",
              "      <td>0.0</td>\n",
              "      <td>0.00</td>\n",
              "      <td>0.132</td>\n",
              "      <td>0.0</td>\n",
              "      <td>0.372</td>\n",
              "      <td>0.180</td>\n",
              "      <td>0.048</td>\n",
              "      <td>5.114</td>\n",
              "      <td>101</td>\n",
              "      <td>1028</td>\n",
              "    </tr>\n",
              "    <tr>\n",
              "      <th>2</th>\n",
              "      <td>0.06</td>\n",
              "      <td>0.00</td>\n",
              "      <td>0.71</td>\n",
              "      <td>0.0</td>\n",
              "      <td>1.23</td>\n",
              "      <td>0.19</td>\n",
              "      <td>0.19</td>\n",
              "      <td>0.12</td>\n",
              "      <td>0.64</td>\n",
              "      <td>0.25</td>\n",
              "      <td>...</td>\n",
              "      <td>0.0</td>\n",
              "      <td>0.01</td>\n",
              "      <td>0.143</td>\n",
              "      <td>0.0</td>\n",
              "      <td>0.276</td>\n",
              "      <td>0.184</td>\n",
              "      <td>0.010</td>\n",
              "      <td>9.821</td>\n",
              "      <td>485</td>\n",
              "      <td>2259</td>\n",
              "    </tr>\n",
              "    <tr>\n",
              "      <th>3</th>\n",
              "      <td>0.00</td>\n",
              "      <td>0.00</td>\n",
              "      <td>0.00</td>\n",
              "      <td>0.0</td>\n",
              "      <td>0.63</td>\n",
              "      <td>0.00</td>\n",
              "      <td>0.31</td>\n",
              "      <td>0.63</td>\n",
              "      <td>0.31</td>\n",
              "      <td>0.63</td>\n",
              "      <td>...</td>\n",
              "      <td>0.0</td>\n",
              "      <td>0.00</td>\n",
              "      <td>0.137</td>\n",
              "      <td>0.0</td>\n",
              "      <td>0.137</td>\n",
              "      <td>0.000</td>\n",
              "      <td>0.000</td>\n",
              "      <td>3.537</td>\n",
              "      <td>40</td>\n",
              "      <td>191</td>\n",
              "    </tr>\n",
              "    <tr>\n",
              "      <th>4</th>\n",
              "      <td>0.00</td>\n",
              "      <td>0.00</td>\n",
              "      <td>0.00</td>\n",
              "      <td>0.0</td>\n",
              "      <td>0.63</td>\n",
              "      <td>0.00</td>\n",
              "      <td>0.31</td>\n",
              "      <td>0.63</td>\n",
              "      <td>0.31</td>\n",
              "      <td>0.63</td>\n",
              "      <td>...</td>\n",
              "      <td>0.0</td>\n",
              "      <td>0.00</td>\n",
              "      <td>0.135</td>\n",
              "      <td>0.0</td>\n",
              "      <td>0.135</td>\n",
              "      <td>0.000</td>\n",
              "      <td>0.000</td>\n",
              "      <td>3.537</td>\n",
              "      <td>40</td>\n",
              "      <td>191</td>\n",
              "    </tr>\n",
              "  </tbody>\n",
              "</table>\n",
              "<p>5 rows × 57 columns</p>\n",
              "</div>\n",
              "    <div class=\"colab-df-buttons\">\n",
              "\n",
              "  <div class=\"colab-df-container\">\n",
              "    <button class=\"colab-df-convert\" onclick=\"convertToInteractive('df-1efdfdda-ea54-4b9f-8f30-c1a9156b42dc')\"\n",
              "            title=\"Convert this dataframe to an interactive table.\"\n",
              "            style=\"display:none;\">\n",
              "\n",
              "  <svg xmlns=\"http://www.w3.org/2000/svg\" height=\"24px\" viewBox=\"0 -960 960 960\">\n",
              "    <path d=\"M120-120v-720h720v720H120Zm60-500h600v-160H180v160Zm220 220h160v-160H400v160Zm0 220h160v-160H400v160ZM180-400h160v-160H180v160Zm440 0h160v-160H620v160ZM180-180h160v-160H180v160Zm440 0h160v-160H620v160Z\"/>\n",
              "  </svg>\n",
              "    </button>\n",
              "\n",
              "  <style>\n",
              "    .colab-df-container {\n",
              "      display:flex;\n",
              "      gap: 12px;\n",
              "    }\n",
              "\n",
              "    .colab-df-convert {\n",
              "      background-color: #E8F0FE;\n",
              "      border: none;\n",
              "      border-radius: 50%;\n",
              "      cursor: pointer;\n",
              "      display: none;\n",
              "      fill: #1967D2;\n",
              "      height: 32px;\n",
              "      padding: 0 0 0 0;\n",
              "      width: 32px;\n",
              "    }\n",
              "\n",
              "    .colab-df-convert:hover {\n",
              "      background-color: #E2EBFA;\n",
              "      box-shadow: 0px 1px 2px rgba(60, 64, 67, 0.3), 0px 1px 3px 1px rgba(60, 64, 67, 0.15);\n",
              "      fill: #174EA6;\n",
              "    }\n",
              "\n",
              "    .colab-df-buttons div {\n",
              "      margin-bottom: 4px;\n",
              "    }\n",
              "\n",
              "    [theme=dark] .colab-df-convert {\n",
              "      background-color: #3B4455;\n",
              "      fill: #D2E3FC;\n",
              "    }\n",
              "\n",
              "    [theme=dark] .colab-df-convert:hover {\n",
              "      background-color: #434B5C;\n",
              "      box-shadow: 0px 1px 3px 1px rgba(0, 0, 0, 0.15);\n",
              "      filter: drop-shadow(0px 1px 2px rgba(0, 0, 0, 0.3));\n",
              "      fill: #FFFFFF;\n",
              "    }\n",
              "  </style>\n",
              "\n",
              "    <script>\n",
              "      const buttonEl =\n",
              "        document.querySelector('#df-1efdfdda-ea54-4b9f-8f30-c1a9156b42dc button.colab-df-convert');\n",
              "      buttonEl.style.display =\n",
              "        google.colab.kernel.accessAllowed ? 'block' : 'none';\n",
              "\n",
              "      async function convertToInteractive(key) {\n",
              "        const element = document.querySelector('#df-1efdfdda-ea54-4b9f-8f30-c1a9156b42dc');\n",
              "        const dataTable =\n",
              "          await google.colab.kernel.invokeFunction('convertToInteractive',\n",
              "                                                    [key], {});\n",
              "        if (!dataTable) return;\n",
              "\n",
              "        const docLinkHtml = 'Like what you see? Visit the ' +\n",
              "          '<a target=\"_blank\" href=https://colab.research.google.com/notebooks/data_table.ipynb>data table notebook</a>'\n",
              "          + ' to learn more about interactive tables.';\n",
              "        element.innerHTML = '';\n",
              "        dataTable['output_type'] = 'display_data';\n",
              "        await google.colab.output.renderOutput(dataTable, element);\n",
              "        const docLink = document.createElement('div');\n",
              "        docLink.innerHTML = docLinkHtml;\n",
              "        element.appendChild(docLink);\n",
              "      }\n",
              "    </script>\n",
              "  </div>\n",
              "\n",
              "\n",
              "<div id=\"df-1ae4cd05-d802-470d-bb98-03130e8d428f\">\n",
              "  <button class=\"colab-df-quickchart\" onclick=\"quickchart('df-1ae4cd05-d802-470d-bb98-03130e8d428f')\"\n",
              "            title=\"Suggest charts\"\n",
              "            style=\"display:none;\">\n",
              "\n",
              "<svg xmlns=\"http://www.w3.org/2000/svg\" height=\"24px\"viewBox=\"0 0 24 24\"\n",
              "     width=\"24px\">\n",
              "    <g>\n",
              "        <path d=\"M19 3H5c-1.1 0-2 .9-2 2v14c0 1.1.9 2 2 2h14c1.1 0 2-.9 2-2V5c0-1.1-.9-2-2-2zM9 17H7v-7h2v7zm4 0h-2V7h2v10zm4 0h-2v-4h2v4z\"/>\n",
              "    </g>\n",
              "</svg>\n",
              "  </button>\n",
              "\n",
              "<style>\n",
              "  .colab-df-quickchart {\n",
              "      --bg-color: #E8F0FE;\n",
              "      --fill-color: #1967D2;\n",
              "      --hover-bg-color: #E2EBFA;\n",
              "      --hover-fill-color: #174EA6;\n",
              "      --disabled-fill-color: #AAA;\n",
              "      --disabled-bg-color: #DDD;\n",
              "  }\n",
              "\n",
              "  [theme=dark] .colab-df-quickchart {\n",
              "      --bg-color: #3B4455;\n",
              "      --fill-color: #D2E3FC;\n",
              "      --hover-bg-color: #434B5C;\n",
              "      --hover-fill-color: #FFFFFF;\n",
              "      --disabled-bg-color: #3B4455;\n",
              "      --disabled-fill-color: #666;\n",
              "  }\n",
              "\n",
              "  .colab-df-quickchart {\n",
              "    background-color: var(--bg-color);\n",
              "    border: none;\n",
              "    border-radius: 50%;\n",
              "    cursor: pointer;\n",
              "    display: none;\n",
              "    fill: var(--fill-color);\n",
              "    height: 32px;\n",
              "    padding: 0;\n",
              "    width: 32px;\n",
              "  }\n",
              "\n",
              "  .colab-df-quickchart:hover {\n",
              "    background-color: var(--hover-bg-color);\n",
              "    box-shadow: 0 1px 2px rgba(60, 64, 67, 0.3), 0 1px 3px 1px rgba(60, 64, 67, 0.15);\n",
              "    fill: var(--button-hover-fill-color);\n",
              "  }\n",
              "\n",
              "  .colab-df-quickchart-complete:disabled,\n",
              "  .colab-df-quickchart-complete:disabled:hover {\n",
              "    background-color: var(--disabled-bg-color);\n",
              "    fill: var(--disabled-fill-color);\n",
              "    box-shadow: none;\n",
              "  }\n",
              "\n",
              "  .colab-df-spinner {\n",
              "    border: 2px solid var(--fill-color);\n",
              "    border-color: transparent;\n",
              "    border-bottom-color: var(--fill-color);\n",
              "    animation:\n",
              "      spin 1s steps(1) infinite;\n",
              "  }\n",
              "\n",
              "  @keyframes spin {\n",
              "    0% {\n",
              "      border-color: transparent;\n",
              "      border-bottom-color: var(--fill-color);\n",
              "      border-left-color: var(--fill-color);\n",
              "    }\n",
              "    20% {\n",
              "      border-color: transparent;\n",
              "      border-left-color: var(--fill-color);\n",
              "      border-top-color: var(--fill-color);\n",
              "    }\n",
              "    30% {\n",
              "      border-color: transparent;\n",
              "      border-left-color: var(--fill-color);\n",
              "      border-top-color: var(--fill-color);\n",
              "      border-right-color: var(--fill-color);\n",
              "    }\n",
              "    40% {\n",
              "      border-color: transparent;\n",
              "      border-right-color: var(--fill-color);\n",
              "      border-top-color: var(--fill-color);\n",
              "    }\n",
              "    60% {\n",
              "      border-color: transparent;\n",
              "      border-right-color: var(--fill-color);\n",
              "    }\n",
              "    80% {\n",
              "      border-color: transparent;\n",
              "      border-right-color: var(--fill-color);\n",
              "      border-bottom-color: var(--fill-color);\n",
              "    }\n",
              "    90% {\n",
              "      border-color: transparent;\n",
              "      border-bottom-color: var(--fill-color);\n",
              "    }\n",
              "  }\n",
              "</style>\n",
              "\n",
              "  <script>\n",
              "    async function quickchart(key) {\n",
              "      const quickchartButtonEl =\n",
              "        document.querySelector('#' + key + ' button');\n",
              "      quickchartButtonEl.disabled = true;  // To prevent multiple clicks.\n",
              "      quickchartButtonEl.classList.add('colab-df-spinner');\n",
              "      try {\n",
              "        const charts = await google.colab.kernel.invokeFunction(\n",
              "            'suggestCharts', [key], {});\n",
              "      } catch (error) {\n",
              "        console.error('Error during call to suggestCharts:', error);\n",
              "      }\n",
              "      quickchartButtonEl.classList.remove('colab-df-spinner');\n",
              "      quickchartButtonEl.classList.add('colab-df-quickchart-complete');\n",
              "    }\n",
              "    (() => {\n",
              "      let quickchartButtonEl =\n",
              "        document.querySelector('#df-1ae4cd05-d802-470d-bb98-03130e8d428f button');\n",
              "      quickchartButtonEl.style.display =\n",
              "        google.colab.kernel.accessAllowed ? 'block' : 'none';\n",
              "    })();\n",
              "  </script>\n",
              "</div>\n",
              "\n",
              "    </div>\n",
              "  </div>\n"
            ],
            "text/plain": [
              "   word_freq_make  word_freq_address  word_freq_all  word_freq_3d  \\\n",
              "0            0.00               0.64           0.64           0.0   \n",
              "1            0.21               0.28           0.50           0.0   \n",
              "2            0.06               0.00           0.71           0.0   \n",
              "3            0.00               0.00           0.00           0.0   \n",
              "4            0.00               0.00           0.00           0.0   \n",
              "\n",
              "   word_freq_our  word_freq_over  word_freq_remove  word_freq_internet  \\\n",
              "0           0.32            0.00              0.00                0.00   \n",
              "1           0.14            0.28              0.21                0.07   \n",
              "2           1.23            0.19              0.19                0.12   \n",
              "3           0.63            0.00              0.31                0.63   \n",
              "4           0.63            0.00              0.31                0.63   \n",
              "\n",
              "   word_freq_order  word_freq_mail  ...  word_freq_conference  char_freq_;  \\\n",
              "0             0.00            0.00  ...                   0.0         0.00   \n",
              "1             0.00            0.94  ...                   0.0         0.00   \n",
              "2             0.64            0.25  ...                   0.0         0.01   \n",
              "3             0.31            0.63  ...                   0.0         0.00   \n",
              "4             0.31            0.63  ...                   0.0         0.00   \n",
              "\n",
              "   char_freq_(  char_freq_[  char_freq_!  char_freq_$  char_freq_#  \\\n",
              "0        0.000          0.0        0.778        0.000        0.000   \n",
              "1        0.132          0.0        0.372        0.180        0.048   \n",
              "2        0.143          0.0        0.276        0.184        0.010   \n",
              "3        0.137          0.0        0.137        0.000        0.000   \n",
              "4        0.135          0.0        0.135        0.000        0.000   \n",
              "\n",
              "   capital_run_length_average  capital_run_length_longest  \\\n",
              "0                       3.756                          61   \n",
              "1                       5.114                         101   \n",
              "2                       9.821                         485   \n",
              "3                       3.537                          40   \n",
              "4                       3.537                          40   \n",
              "\n",
              "   capital_run_length_total  \n",
              "0                       278  \n",
              "1                      1028  \n",
              "2                      2259  \n",
              "3                       191  \n",
              "4                       191  \n",
              "\n",
              "[5 rows x 57 columns]"
            ]
          },
          "execution_count": 137,
          "metadata": {},
          "output_type": "execute_result"
        }
      ],
      "source": [
        "features.head()"
      ]
    },
    {
      "cell_type": "markdown",
      "metadata": {
        "id": "GcclWgMSj5WG"
      },
      "source": [
        "1 is spam email------\n",
        "0 is not spam email"
      ]
    },
    {
      "cell_type": "markdown",
      "metadata": {
        "id": "4BKXjdmWkA57"
      },
      "source": [
        "Data Standarization"
      ]
    },
    {
      "cell_type": "code",
      "execution_count": 138,
      "metadata": {
        "id": "9RmgNyz3j_Jq"
      },
      "outputs": [],
      "source": [
        "scaler=StandardScaler()\n",
        "standard_data=scaler.fit_transform(features)"
      ]
    },
    {
      "cell_type": "code",
      "execution_count": 139,
      "metadata": {
        "colab": {
          "base_uri": "https://localhost:8080/"
        },
        "id": "XdmLvxa3lV82",
        "outputId": "0be832fc-d178-4db9-fb6f-9fd606fda9b3"
      },
      "outputs": [
        {
          "name": "stdout",
          "output_type": "stream",
          "text": [
            "[[-3.42433707e-01  3.30884903e-01  7.12858774e-01 ... -4.52472762e-02\n",
            "   4.52979198e-02 -8.72413388e-03]\n",
            " [ 3.45359395e-01  5.19091945e-02  4.35129540e-01 ... -2.44326749e-03\n",
            "   2.50562832e-01  1.22832407e+00]\n",
            " [-1.45921392e-01 -1.65071912e-01  8.51723390e-01 ...  1.45920848e-01\n",
            "   2.22110599e+00  3.25873251e+00]\n",
            " ...\n",
            " [ 6.40127868e-01 -1.65071912e-01  3.83734930e-02 ... -1.19382054e-01\n",
            "  -2.36941335e-01 -2.72627750e-01]\n",
            " [ 2.80176333e+00 -1.65071912e-01 -5.56760578e-01 ... -1.27482666e-01\n",
            "  -2.42072958e-01 -3.38603654e-01]\n",
            " [-3.42433707e-01 -1.65071912e-01  7.32696576e-01 ... -1.24236117e-01\n",
            "  -2.42072958e-01 -4.01280763e-01]]\n"
          ]
        }
      ],
      "source": [
        "print(standard_data)"
      ]
    },
    {
      "cell_type": "code",
      "execution_count": 140,
      "metadata": {
        "id": "ySwtllXDttYF"
      },
      "outputs": [],
      "source": [
        "features=standard_data\n"
      ]
    },
    {
      "cell_type": "code",
      "execution_count": 141,
      "metadata": {
        "colab": {
          "base_uri": "https://localhost:8080/"
        },
        "id": "DugUVNcUm5Yq",
        "outputId": "3a9289eb-d1d0-41d2-ae06-7f01c8defd68"
      },
      "outputs": [
        {
          "name": "stdout",
          "output_type": "stream",
          "text": [
            "[[-3.42433707e-01  3.30884903e-01  7.12858774e-01 ... -4.52472762e-02\n",
            "   4.52979198e-02 -8.72413388e-03]\n",
            " [ 3.45359395e-01  5.19091945e-02  4.35129540e-01 ... -2.44326749e-03\n",
            "   2.50562832e-01  1.22832407e+00]\n",
            " [-1.45921392e-01 -1.65071912e-01  8.51723390e-01 ...  1.45920848e-01\n",
            "   2.22110599e+00  3.25873251e+00]\n",
            " ...\n",
            " [ 6.40127868e-01 -1.65071912e-01  3.83734930e-02 ... -1.19382054e-01\n",
            "  -2.36941335e-01 -2.72627750e-01]\n",
            " [ 2.80176333e+00 -1.65071912e-01 -5.56760578e-01 ... -1.27482666e-01\n",
            "  -2.42072958e-01 -3.38603654e-01]\n",
            " [-3.42433707e-01 -1.65071912e-01  7.32696576e-01 ... -1.24236117e-01\n",
            "  -2.42072958e-01 -4.01280763e-01]]\n"
          ]
        }
      ],
      "source": [
        "print(features)\n"
      ]
    },
    {
      "cell_type": "code",
      "execution_count": 142,
      "metadata": {
        "colab": {
          "base_uri": "https://localhost:8080/"
        },
        "id": "eEEcK5dXt_EO",
        "outputId": "7ce934b6-06e6-4506-d1f0-0d091d896093"
      },
      "outputs": [
        {
          "name": "stdout",
          "output_type": "stream",
          "text": [
            "      Class\n",
            "0         1\n",
            "1         1\n",
            "2         1\n",
            "3         1\n",
            "4         1\n",
            "...     ...\n",
            "4596      0\n",
            "4597      0\n",
            "4598      0\n",
            "4599      0\n",
            "4600      0\n",
            "\n",
            "[4601 rows x 1 columns]\n"
          ]
        }
      ],
      "source": [
        "print(target)"
      ]
    },
    {
      "cell_type": "markdown",
      "metadata": {
        "id": "mBZDnYqBmExb"
      },
      "source": [
        "split data into train & test"
      ]
    },
    {
      "cell_type": "code",
      "execution_count": 143,
      "metadata": {
        "id": "lpyswAXBmKq4"
      },
      "outputs": [],
      "source": [
        "X_train,X_test,Y_train,Y_test=train_test_split(features,target,test_size=0.2,random_state=2)"
      ]
    },
    {
      "cell_type": "code",
      "execution_count": 144,
      "metadata": {
        "colab": {
          "base_uri": "https://localhost:8080/"
        },
        "id": "A4ZWP5YlnliO",
        "outputId": "4edf4789-1a19-4f38-d673-750b42465b06"
      },
      "outputs": [
        {
          "name": "stdout",
          "output_type": "stream",
          "text": [
            "(4601, 57) (3680, 57) (921, 57) (4601, 1) (3680, 1)\n"
          ]
        }
      ],
      "source": [
        "print(features.shape,X_train.shape,X_test.shape,target.shape,Y_train.shape)"
      ]
    },
    {
      "cell_type": "markdown",
      "metadata": {
        "id": "9G4GHI-DK-Si"
      },
      "source": [
        "train logistic regression model"
      ]
    },
    {
      "cell_type": "code",
      "execution_count": 167,
      "metadata": {
        "id": "uxgeIToQvPML"
      },
      "outputs": [],
      "source": [
        "model = Logistic_Regression(learning_rate=0.001,no_of_iterations =3000)"
      ]
    },
    {
      "cell_type": "markdown",
      "metadata": {
        "id": "EJmsUFqMS2wY"
      },
      "source": [
        "reshape and convert dataframe to numpy array"
      ]
    },
    {
      "cell_type": "code",
      "execution_count": 147,
      "metadata": {
        "colab": {
          "base_uri": "https://localhost:8080/"
        },
        "id": "fpjqjh2gAKky",
        "outputId": "1c1586d2-5988-4dad-96d3-c69699c08369"
      },
      "outputs": [
        {
          "name": "stdout",
          "output_type": "stream",
          "text": [
            "(3680, 57) (3680, 1)\n"
          ]
        }
      ],
      "source": [
        "print(X_train.shape,Y_train.shape)"
      ]
    },
    {
      "cell_type": "code",
      "execution_count": 148,
      "metadata": {
        "colab": {
          "base_uri": "https://localhost:8080/"
        },
        "id": "SI5jkMgHBzCL",
        "outputId": "d606b0b4-6cf7-416e-eb41-d692fc95d69b"
      },
      "outputs": [
        {
          "name": "stdout",
          "output_type": "stream",
          "text": [
            "<class 'pandas.core.frame.DataFrame'>\n"
          ]
        }
      ],
      "source": [
        "print(type(Y_train))"
      ]
    },
    {
      "cell_type": "code",
      "execution_count": 150,
      "metadata": {
        "id": "XmPlmqNwRx8j"
      },
      "outputs": [],
      "source": [
        "Y_train = Y_train.to_numpy()"
      ]
    },
    {
      "cell_type": "code",
      "execution_count": 151,
      "metadata": {
        "id": "rM0XkvBmB7--"
      },
      "outputs": [],
      "source": [
        "Y_train = Y_train.reshape(-1)"
      ]
    },
    {
      "cell_type": "markdown",
      "metadata": {
        "id": "jPsIlUwmTDt6"
      },
      "source": [
        "fit model"
      ]
    },
    {
      "cell_type": "code",
      "execution_count": 168,
      "metadata": {
        "id": "a161B2p-L7Dp"
      },
      "outputs": [],
      "source": [
        "model.fit(X_train, Y_train)"
      ]
    },
    {
      "cell_type": "markdown",
      "metadata": {
        "id": "506c-p7jTGZb"
      },
      "source": [
        "check the accuracy of train"
      ]
    },
    {
      "cell_type": "code",
      "execution_count": 169,
      "metadata": {
        "id": "Kp4nedvtCDSI"
      },
      "outputs": [],
      "source": [
        "X_train_prediction = model.predict(X_train)\n",
        "training_accuracy = accuracy_score( Y_train, X_train_prediction)"
      ]
    },
    {
      "cell_type": "code",
      "execution_count": 170,
      "metadata": {
        "colab": {
          "base_uri": "https://localhost:8080/"
        },
        "id": "orCcRSKKCr7e",
        "outputId": "75360ad9-471b-4f93-e435-f7f5b083206a"
      },
      "outputs": [
        {
          "name": "stdout",
          "output_type": "stream",
          "text": [
            "Accuracy  training  :  0.9029891304347826\n"
          ]
        }
      ],
      "source": [
        "print('Accuracy  training  : ', training_accuracy)"
      ]
    },
    {
      "cell_type": "markdown",
      "metadata": {
        "id": "gi9iqzgUTMSH"
      },
      "source": [
        "check the accuracy of test"
      ]
    },
    {
      "cell_type": "code",
      "execution_count": 171,
      "metadata": {
        "id": "DA8J0dqfCvq9"
      },
      "outputs": [],
      "source": [
        "X_test_prediction = model.predict(X_test)\n",
        "test_accuracy = accuracy_score( Y_test, X_test_prediction)"
      ]
    },
    {
      "cell_type": "code",
      "execution_count": 172,
      "metadata": {
        "colab": {
          "base_uri": "https://localhost:8080/"
        },
        "id": "BEbg_SHgCyp0",
        "outputId": "83e41a37-ced3-4551-d985-252f91bfe45a"
      },
      "outputs": [
        {
          "name": "stdout",
          "output_type": "stream",
          "text": [
            "Accuracy test:  0.8990228013029316\n"
          ]
        }
      ],
      "source": [
        "print('Accuracy test: ', test_data_accuracy)"
      ]
    }
  ],
  "metadata": {
    "colab": {
      "provenance": []
    },
    "kernelspec": {
      "display_name": "Python 3",
      "name": "python3"
    },
    "language_info": {
      "name": "python"
    }
  },
  "nbformat": 4,
  "nbformat_minor": 0
}
