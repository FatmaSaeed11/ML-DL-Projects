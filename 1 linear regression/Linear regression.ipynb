{
  "nbformat": 4,
  "nbformat_minor": 0,
  "metadata": {
    "colab": {
      "provenance": []
    },
    "kernelspec": {
      "name": "python3",
      "display_name": "Python 3"
    },
    "language_info": {
      "name": "python"
    }
  },
  "cells": [
    {
      "cell_type": "markdown",
      "source": [
        "program to find min(x-2)^2"
      ],
      "metadata": {
        "id": "7nDEru4TNxnO"
      }
    },
    {
      "cell_type": "code",
      "execution_count": 4,
      "metadata": {
        "id": "Q9h7EJ2KND6Z",
        "colab": {
          "base_uri": "https://localhost:8080/"
        },
        "outputId": "ae95400d-6958-4247-b667-06a2a784326d"
      },
      "outputs": [
        {
          "output_type": "stream",
          "name": "stdout",
          "text": [
            "1.000089895185416\n"
          ]
        }
      ],
      "source": [
        "\n",
        "#function to calculate the gradient\n",
        "def g(x):\n",
        "  return 2*(x-1)\n",
        "\n",
        "#intialize variable x\n",
        "x=3\n",
        "learning_rate=0.001\n",
        "\n",
        "for i in range(5000):\n",
        "  x=x-learning_rate*g(x)\n",
        "print(x)\n",
        "\n",
        "\n",
        "\n",
        "\n"
      ]
    }
  ]
}